{
  "nbformat": 4,
  "nbformat_minor": 0,
  "metadata": {
    "colab": {
      "name": "PolynomialRegression.ipynb",
      "provenance": [],
      "collapsed_sections": [],
      "toc_visible": true,
      "authorship_tag": "ABX9TyMAEis7UC0sbqNXx4ruh53Q"
    },
    "kernelspec": {
      "name": "python3",
      "display_name": "Python 3"
    },
    "language_info": {
      "name": "python"
    }
  },
  "cells": [
    {
      "cell_type": "markdown",
      "metadata": {
        "id": "o0Wgc7Y5SUWC"
      },
      "source": [
        "<br>\n",
        "\n",
        "# 다항회귀 (Polynomial Regression) \n",
        "\n",
        "비선형. 비단조.  \n",
        "선형가정이 어긋나는 경우에 데이터에 대한 회귀분석 모델을 작성하는 방법이다. 직선일 때보다 종속변수에 대해 잘 설명할 수 있으므로 결정계수가 1에 가까워진다.   \n",
        "독립변수의 개수가 늘어나는 다중회귀와는 다항회귀는 달리 독립변수의 차수가 높아진다.\n",
        "\n",
        "차수가 높아지면 새로운 속성도 기하급수적으로 늘어나 계산 시간이 오래걸리고 과적합(overfitting) 문제가 발생한다. 따라서 보통 2차식 또는 3차식을 사용한다.  \n",
        "\n"
      ]
    },
    {
      "cell_type": "markdown",
      "metadata": {
        "id": "xRG5TDe3U3Xs"
      },
      "source": [
        "<br>\n",
        "\n",
        "## 차원확대 : `np.newaxis`  \n"
      ]
    },
    {
      "cell_type": "code",
      "metadata": {
        "colab": {
          "base_uri": "https://localhost:8080/",
          "height": 531
        },
        "id": "UqXPlKXxRoW4",
        "outputId": "005e092c-45d1-4cad-a601-562ec7f342f4"
      },
      "source": [
        "import numpy as np\n",
        "import matplotlib.pyplot as plt\n",
        "\n",
        "x = np.array([1,2,3,4,5])\n",
        "y = np.array([4,2,1,3,7])\n",
        "\n",
        "plt.scatter(x, y)\n",
        "plt.show()\n",
        "\n",
        "#선형회귀모델일 경우\n",
        "from sklearn.linear_model import LinearRegression\n",
        "x = x[:, np.newaxis]  #차원확대. 1차원 벡터에서 2차원 행렬로\n",
        "#print(x)\n",
        "\n",
        "model = LinearRegression().fit(x, y)\n",
        "ypred = model.predict(x)\n",
        "print(ypred)  #예측이 잘안되고 있음  #[2.  2.7 3.4 4.1 4.8]\n",
        "\n",
        "#그래프와 추세선\n",
        "plt.scatter(x, y)\n",
        "plt.plot(x, ypred, c='red')\n",
        "plt.show()"
      ],
      "execution_count": null,
      "outputs": [
        {
          "output_type": "display_data",
          "data": {
            "image/png": "[encoded data removed]",
            "text/plain": [
              "<Figure size 432x288 with 1 Axes>"
            ]
          },
          "metadata": {
            "tags": [],
            "needs_background": "light"
          }
        },
        {
          "output_type": "stream",
          "text": [
            "[2.  2.7 3.4 4.1 4.8]\n"
          ],
          "name": "stdout"
        },
        {
          "output_type": "display_data",
          "data": {
            "image/png": "[encoded data removed]",
            "text/plain": [
              "<Figure size 432x288 with 1 Axes>"
            ]
          },
          "metadata": {
            "tags": [],
            "needs_background": "light"
          }
        }
      ]
    },
    {
      "cell_type": "markdown",
      "metadata": {
        "id": "QHUb__hRV9I4"
      },
      "source": [
        "\n",
        "예측이 제대로 이루어지지 않고 선형을 띈다. 조금 더 복잡한 모델이 필요하다. -> 다항식 특징을 추가한다.  \n",
        "\n"
      ]
    },
    {
      "cell_type": "markdown",
      "metadata": {
        "id": "d5eM0qSVWEfi"
      },
      "source": [
        "<br>\n",
        "\n",
        "## 다항회귀 모델  \n",
        "\n"
      ]
    },
    {
      "cell_type": "markdown",
      "metadata": {
        "id": "uVaX4mH6WviH"
      },
      "source": [
        "<br>\n",
        "\n",
        "### `PolynomialFeatures`  \n"
      ]
    },
    {
      "cell_type": "code",
      "metadata": {
        "colab": {
          "base_uri": "https://localhost:8080/"
        },
        "id": "ow7cc5G-U1bT",
        "outputId": "751dfc6e-f1c9-4ac3-b385-2b5d97ae84a1"
      },
      "source": [
        "from sklearn.preprocessing import PolynomialFeatures\n",
        "\n",
        "poly = PolynomialFeatures(degree=2, include_bias = False)  #기본적인 다항식 형태를 만든다.  \n",
        "#degree값이 늘어날 때마다 열이 추가됨. 열의 개수가 늘어날 수록 COST가 줄어들고 실제값에 가까워짐\n",
        "#그러나 너무 높게 부여하면 과적합 문제가 발생할 수 있다. \n",
        "\n",
        "x2 = poly.fit_transform(x)  #새롭게 만들어진 numpy 배열을 행별로 다항 형태로 변형한다.\n",
        "print(x2)"
      ],
      "execution_count": null,
      "outputs": [
        {
          "output_type": "stream",
          "text": [
            "[[ 1.  1.]\n",
            " [ 2.  4.]\n",
            " [ 3.  9.]\n",
            " [ 4. 16.]\n",
            " [ 5. 25.]]\n"
          ],
          "name": "stdout"
        }
      ]
    },
    {
      "cell_type": "markdown",
      "metadata": {
        "id": "rXfnhWU9YV07"
      },
      "source": [
        "<br>\n",
        "\n",
        "### 모델 작성 \n",
        "\n"
      ]
    },
    {
      "cell_type": "code",
      "metadata": {
        "colab": {
          "base_uri": "https://localhost:8080/",
          "height": 283
        },
        "id": "_xvo5FZ8Wbop",
        "outputId": "13883c5d-bdd3-48e5-a04a-f074ec4c7113"
      },
      "source": [
        "model2 = LinearRegression().fit(x2, y)\n",
        "ypred2 = model2.predict(x2)\n",
        "print(ypred2)\n",
        "\n",
        "#그래프와 추세선\n",
        "plt.scatter(x, y)\n",
        "plt.plot(x, ypred2, c='red')\n",
        "plt.show()"
      ],
      "execution_count": null,
      "outputs": [
        {
          "output_type": "stream",
          "text": [
            "[4.14285714 1.62857143 1.25714286 3.02857143 6.94285714]\n"
          ],
          "name": "stdout"
        },
        {
          "output_type": "display_data",
          "data": {
            "image/png": "[encoded data removed]",
            "text/plain": [
              "<Figure size 432x288 with 1 Axes>"
            ]
          },
          "metadata": {
            "tags": [],
            "needs_background": "light"
          }
        }
      ]
    },
    {
      "cell_type": "markdown",
      "metadata": {
        "id": "XKE5JNa1h89k"
      },
      "source": [
        "<br>\n",
        "\n",
        "## 연습 \n"
      ]
    },
    {
      "cell_type": "code",
      "metadata": {
        "colab": {
          "base_uri": "https://localhost:8080/",
          "height": 715
        },
        "id": "evGA3mZLXcu0",
        "outputId": "54e70953-eb9f-4e76-dff3-d231ae333252"
      },
      "source": [
        "from sklearn.preprocessing import PolynomialFeatures\n",
        "from sklearn.linear_model import LinearRegression\n",
        "from sklearn.metrics._regression import mean_squared_error, r2_score  #모델의 성능평가를 위한 라이브러리\n",
        "import numpy as np\n",
        "\n",
        "x = np.array([258,270,294,320,342,368,396,446,480,586])[:,np.newaxis]\n",
        "y = np.array([236,234,253,298,314,342,360,368,391,390])\n",
        "print(x, x.shape)\n",
        "print(y)\n",
        "\n",
        "lr = LinearRegression()  #1차방정식용. 선형회귀모델\n",
        "pr = LinearRegression()  #2차방정식용. 다항회귀모델\n",
        "\n",
        "polyf = PolynomialFeatures(degree=2)\n",
        "x_quad = polyf.fit_transform(x)\n",
        "\n",
        "x_fit = np.arange(250,600,10)[:,np.newaxis]\n",
        "\n",
        "#선형회귀 모델\n",
        "lr.fit(x, y)\n",
        "y_lin_fit = lr.predict(x_fit)\n",
        "print(y_lin_fit)\n",
        "\n",
        "#다항회귀 모델\n",
        "pr.fit(x_quad, y)\n",
        "y_quad_fit = pr.predict(polyf.fit_transform(x_fit))\n",
        "print(y_quad_fit)\n",
        "\n",
        "#그래프\n",
        "import matplotlib.pyplot as plt\n",
        "plt.scatter(x, y, label = 'training point')\n",
        "plt.plot(x_fit, y_lin_fit, label = 'linear fit', linestyle = '--', c='b')\n",
        "plt.plot(x_fit, y_quad_fit, label = 'quadratic fit', c='r')\n",
        "plt.legend()\n",
        "plt.show()"
      ],
      "execution_count": null,
      "outputs": [
        {
          "output_type": "stream",
          "text": [
            "[[258]\n",
            " [270]\n",
            " [294]\n",
            " [320]\n",
            " [342]\n",
            " [368]\n",
            " [396]\n",
            " [446]\n",
            " [480]\n",
            " [586]] (10, 1)\n",
            "[236 234 253 298 314 342 360 368 391 390]\n",
            "[250.63869122 256.03244588 261.42620055 266.81995521 272.21370988\n",
            " 277.60746454 283.00121921 288.39497387 293.78872854 299.1824832\n",
            " 304.57623787 309.96999254 315.3637472  320.75750187 326.15125653\n",
            " 331.5450112  336.93876586 342.33252053 347.72627519 353.12002986\n",
            " 358.51378452 363.90753919 369.30129385 374.69504852 380.08880318\n",
            " 385.48255785 390.87631252 396.27006718 401.66382185 407.05757651\n",
            " 412.45133118 417.84508584 423.23884051 428.63259517 434.02634984]\n",
            "[215.50100168 228.03388862 240.11490613 251.74405421 262.92133285\n",
            " 273.64674206 283.92028183 293.74195218 303.11175309 312.02968457\n",
            " 320.49574661 328.50993923 336.07226241 343.18271616 349.84130048\n",
            " 356.04801536 361.80286081 367.10583683 371.95694342 376.35618057\n",
            " 380.30354829 383.79904658 386.84267544 389.43443486 391.57432485\n",
            " 393.26234541 394.49849654 395.28277823 395.61519049 395.49573332\n",
            " 394.92440672 393.90121068 392.42614521 390.49921031 388.12040598]\n"
          ],
          "name": "stdout"
        },
        {
          "output_type": "display_data",
          "data": {
            "image/png": "[encoded data removed]",
            "text/plain": [
              "<Figure size 432x288 with 1 Axes>"
            ]
          },
          "metadata": {
            "tags": [],
            "needs_background": "light"
          }
        }
      ]
    },
    {
      "cell_type": "markdown",
      "metadata": {
        "id": "bMhcQ6vJjICi"
      },
      "source": [
        "<br>\n",
        "\n",
        "## 모델 평가 : MSE와 R²값으로 모델 비교 \n"
      ]
    },
    {
      "cell_type": "code",
      "metadata": {
        "colab": {
          "base_uri": "https://localhost:8080/"
        },
        "id": "tvzWTcTSbDyk",
        "outputId": "eceedd1d-4a9a-43b7-9402-73dd06399525"
      },
      "source": [
        "y_lin_pred = lr.predict(x)\n",
        "print('y_lin_pred:', y_lin_pred)\n",
        "\n",
        "y_quad_pred = pr.predict(x_quad)\n",
        "print('y_quad_pred:', y_quad_pred)\n",
        "print()\n",
        "\n",
        "#MSE(평균제곱오차) \n",
        "print('선형모델 MSE: %.3f'%mean_squared_error(y, y_lin_pred))\n",
        "print('다항모델 MSE: %.3f'%mean_squared_error(y, y_quad_pred))\n",
        "print()\n",
        "\n",
        "#R²(결정계수)\n",
        "print('선형모델 R²: %.3f'%r2_score(y, y_lin_pred))\n",
        "print('다항모델 R²: %.3f'%r2_score(y, y_quad_pred))"
      ],
      "execution_count": null,
      "outputs": [
        {
          "output_type": "stream",
          "text": [
            "y_lin_pred: [254.95369495 261.42620055 274.37121174 288.39497387 300.26123414\n",
            " 314.28499627 329.38750933 356.35628266 374.69504852 431.86884797]\n",
            "y_quad_pred: [225.56346079 240.11490613 267.26572086 293.74195218 313.75904653\n",
            " 334.59594733 353.61955374 378.77882554 389.43443486 389.12615204]\n",
            "\n",
            "선형모델 MSE: 570.885\n",
            "다항모델 MSE: 58.294\n",
            "\n",
            "선형모델 R²: 0.831\n",
            "다항모델 R²: 0.983\n"
          ],
          "name": "stdout"
        }
      ]
    }
  ]
}