{
  "nbformat": 4,
  "nbformat_minor": 0,
  "metadata": {
    "colab": {
      "name": "Pandas.ipynb",
      "provenance": [],
      "collapsed_sections": [],
      "toc_visible": true,
      "mount_file_id": "129K1TZjepdbdYMr68vMDQBq6SnhhW4ma",
      "authorship_tag": "ABX9TyOwxpeqvt/6gppwkK9doBTJ"
    },
    "kernelspec": {
      "name": "python3",
      "display_name": "Python 3"
    },
    "language_info": {
      "name": "python"
    }
  },
  "cells": [
    {
      "cell_type": "markdown",
      "metadata": {
        "id": "fXLFVupWbc3O"
      },
      "source": [
        "<br>\n",
        "\n",
        "# 데이터 랭글링(Data Wrangling) 혹은 데이터 멍잉(Data Munging)\n",
        "\n",
        "멍잉(munging)은 전처리, 파싱, 필터링과 같이 데이터를 이리저리 핸들링한다는 뜻이다..사실 이 단어는 컴퓨터로 데이터를 처리하는 사람들 사이에서 많이 쓰이는 따끈따끈한 신조어이다.  - 전희원 저 'R로 하는 데이터 시각화' 52쪽 "
      ]
    },
    {
      "cell_type": "markdown",
      "metadata": {
        "id": "y87knXFMPzmy"
      },
      "source": [
        "\n",
        "# **Pandas**\n",
        "\n",
        "고수준의 자료구조(Series, DataFrame)를 지원한다."
      ]
    },
    {
      "cell_type": "markdown",
      "metadata": {
        "id": "ndJktej7Sw0f"
      },
      "source": [
        "\n",
        "<br>\n",
        "\n",
        "# 📝 **Series**\n",
        "\n",
        "일련의 객체를 기억할 수 있는 1차원 배열 구조를 갖는다.  \n",
        "자동으로 index가 부여된다."
      ]
    },
    {
      "cell_type": "code",
      "metadata": {
        "colab": {
          "base_uri": "https://localhost:8080/"
        },
        "id": "cbrm-tGAPv4t",
        "outputId": "353d0da8-5890-415f-8c72-8b8a5c27f723"
      },
      "source": [
        "import pandas as pd\n",
        "import numpy as np\n",
        "\n",
        "#Series\n",
        "obj = pd.Series([3, 7, -5, 4])  #list\n",
        "obj = pd.Series((3, 7, -5, 4))   #tuple\n",
        "#obj = pd.Series({3, 7, -5, 4})  #set type은 오류발생 - set은 순서가 없기 때문\n",
        "\n",
        "print(obj, ' ', type(obj))"
      ],
      "execution_count": null,
      "outputs": [
        {
          "output_type": "stream",
          "text": [
            "0    3\n",
            "1    7\n",
            "2   -5\n",
            "3    4\n",
            "dtype: int64   <class 'pandas.core.series.Series'>\n"
          ],
          "name": "stdout"
        }
      ]
    },
    {
      "cell_type": "code",
      "metadata": {
        "colab": {
          "base_uri": "https://localhost:8080/"
        },
        "id": "7gXjDenLS8xy",
        "outputId": "0689eace-e13e-411e-e531-3954dc9960df"
      },
      "source": [
        "obj2 = pd.Series([3, 7, -5, 4], index = ['a', 'b', 'c', 'd'])\n",
        "\n",
        "print(obj2, ' ', type(obj2))\n",
        "\n",
        "print(sum(obj2))\n",
        "print(np.sum(obj2))\n",
        "print(obj2.sum())\n",
        "print(obj2.mean())\n",
        "print(obj2.std())\n",
        "print()\n",
        "\n",
        "print(obj2.values)\n",
        "print(obj2.index)"
      ],
      "execution_count": null,
      "outputs": [
        {
          "output_type": "stream",
          "text": [
            "a    3\n",
            "b    7\n",
            "c   -5\n",
            "d    4\n",
            "dtype: int64   <class 'pandas.core.series.Series'>\n",
            "9\n",
            "9\n",
            "9\n",
            "2.25\n",
            "5.123475382979799\n",
            "\n",
            "[ 3  7 -5  4]\n",
            "Index(['a', 'b', 'c', 'd'], dtype='object')\n"
          ],
          "name": "stdout"
        }
      ]
    },
    {
      "cell_type": "markdown",
      "metadata": {
        "id": "WH3ks6YocAje"
      },
      "source": [
        "\n",
        "<br>\n",
        "\n",
        "### 🌼 **dict type으로 Series 생성**\n",
        "\n",
        "\n"
      ]
    },
    {
      "cell_type": "code",
      "metadata": {
        "colab": {
          "base_uri": "https://localhost:8080/"
        },
        "id": "-HPHa5FraSjW",
        "outputId": "f6fa25b0-ba10-4f5d-85be-964a2d42bd3d"
      },
      "source": [
        "names = {'mouse':5000, 'keyboard':25000, 'monitor':450000}\n",
        "print(names, type(names))\n",
        "\n",
        "obj3 = pd.Series(names)  #key값이 index가 됨\n",
        "print(obj3, ' ', type(obj3))\n",
        "print(obj3[1])\n",
        "print(obj3['keyboard'])\n",
        "print()\n",
        "\n",
        "obj3.index = ['마우스','키보드','모니터']\n",
        "print(obj3, ' ', type(obj3))\n",
        "print()\n",
        "\n",
        "obj3.name = '상품가격'\n",
        "print(obj3)"
      ],
      "execution_count": null,
      "outputs": [
        {
          "output_type": "stream",
          "text": [
            "{'mouse': 5000, 'keyboard': 25000, 'monitor': 450000} <class 'dict'>\n",
            "mouse         5000\n",
            "keyboard     25000\n",
            "monitor     450000\n",
            "dtype: int64   <class 'pandas.core.series.Series'>\n",
            "25000\n",
            "25000\n",
            "\n",
            "마우스      5000\n",
            "키보드     25000\n",
            "모니터    450000\n",
            "dtype: int64   <class 'pandas.core.series.Series'>\n",
            "\n",
            "마우스      5000\n",
            "키보드     25000\n",
            "모니터    450000\n",
            "Name: 상품가격, dtype: int64\n"
          ],
          "name": "stdout"
        }
      ]
    },
    {
      "cell_type": "markdown",
      "metadata": {
        "id": "WYBmThTJaFQg"
      },
      "source": [
        "<br>\n",
        "\n",
        "## 👉 **Slicing 슬라이싱**\n"
      ]
    },
    {
      "cell_type": "code",
      "metadata": {
        "colab": {
          "base_uri": "https://localhost:8080/"
        },
        "id": "g0XLK1MQTw2E",
        "outputId": "6818f731-ef35-4213-96da-578446960e36"
      },
      "source": [
        "obj2 = pd.Series([3, 7, -5, 4], index = ['a', 'b', 'c', 'd'])\n",
        "\n",
        "print(obj2['a'])         #값출력\n",
        "print(obj2[['a']])       #index와 값 함께 출력\n",
        "print(obj2[['a', 'b']])\n",
        "#print(obj2['a', 'c'])   #오류\n",
        "print(obj2['a':'c'])     #콜론을 사용하자\n",
        "print()\n",
        "\n",
        "print(obj2[2])\n",
        "print(obj2[1:4])\n",
        "print(obj2[[2, 1]])\n",
        "print()\n",
        "\n",
        "print(obj2 > 0)\n",
        "print('a' in obj2)"
      ],
      "execution_count": null,
      "outputs": [
        {
          "output_type": "stream",
          "text": [
            "3\n",
            "a    3\n",
            "dtype: int64\n",
            "a    3\n",
            "b    7\n",
            "dtype: int64\n",
            "a    3\n",
            "b    7\n",
            "c   -5\n",
            "dtype: int64\n",
            "\n",
            "-5\n",
            "b    7\n",
            "c   -5\n",
            "d    4\n",
            "dtype: int64\n",
            "c   -5\n",
            "b    7\n",
            "dtype: int64\n",
            "\n",
            "a     True\n",
            "b     True\n",
            "c    False\n",
            "d     True\n",
            "dtype: bool\n",
            "True\n"
          ],
          "name": "stdout"
        }
      ]
    },
    {
      "cell_type": "markdown",
      "metadata": {
        "id": "37aWIIZKdD89"
      },
      "source": [
        "<br>\n",
        "\n",
        "# 📝 **Data Frame**\n",
        "\n"
      ]
    },
    {
      "cell_type": "code",
      "metadata": {
        "colab": {
          "base_uri": "https://localhost:8080/"
        },
        "id": "Ql-yM3Tmcanq",
        "outputId": "8ea4afc0-4f47-48dc-828a-1e46887ccc69"
      },
      "source": [
        "df = pd.DataFrame(obj3)\n",
        "print(df, ' ', type(df))"
      ],
      "execution_count": null,
      "outputs": [
        {
          "output_type": "stream",
          "text": [
            "       상품가격\n",
            "마우스    5000\n",
            "키보드   25000\n",
            "모니터  450000   <class 'pandas.core.frame.DataFrame'>\n"
          ],
          "name": "stdout"
        }
      ]
    },
    {
      "cell_type": "code",
      "metadata": {
        "colab": {
          "base_uri": "https://localhost:8080/"
        },
        "id": "HCPHW34xdhqe",
        "outputId": "2391ca68-c954-4afc-97f0-a4e909b571c2"
      },
      "source": [
        "data = {\n",
        "    'irum':['병구','영진','우솔','기준','은별'],\n",
        "    'juso':('역삼동','신당동','역삼동', '역삼동','신사동'),\n",
        "    'nai':[23, 25, 33, 30, 35],\n",
        "}\n",
        "\n",
        "print(data)\n",
        "print(type(data))"
      ],
      "execution_count": null,
      "outputs": [
        {
          "output_type": "stream",
          "text": [
            "{'irum': ['병구', '영진', '우솔', '기준', '은별'], 'juso': ('역삼동', '신당동', '역삼동', '역삼동', '신사동'), 'nai': [23, 25, 33, 30, 35]}\n",
            "<class 'dict'>\n"
          ],
          "name": "stdout"
        }
      ]
    },
    {
      "cell_type": "markdown",
      "metadata": {
        "id": "x19hwcBlidGo"
      },
      "source": [
        "\n",
        "<br>\n",
        "\n",
        "## 👉 **DataFrame 데이터 다루기**\n"
      ]
    },
    {
      "cell_type": "code",
      "metadata": {
        "colab": {
          "base_uri": "https://localhost:8080/"
        },
        "id": "JjeUvBqre_1h",
        "outputId": "d2cd797c-7d57-49e2-85ab-32a358c67370"
      },
      "source": [
        "from pandas import DataFrame, Series\n",
        "frame = DataFrame(data)\n",
        "\n",
        "print(frame)\n",
        "print(frame['irum'])\n",
        "print(frame.irum, ' ', type(frame.irum))"
      ],
      "execution_count": null,
      "outputs": [
        {
          "output_type": "stream",
          "text": [
            "  irum juso  nai\n",
            "0   병구  역삼동   23\n",
            "1   영진  신당동   25\n",
            "2   우솔  역삼동   33\n",
            "3   기준  역삼동   30\n",
            "4   은별  신사동   35\n",
            "0    병구\n",
            "1    영진\n",
            "2    우솔\n",
            "3    기준\n",
            "4    은별\n",
            "Name: irum, dtype: object\n",
            "0    병구\n",
            "1    영진\n",
            "2    우솔\n",
            "3    기준\n",
            "4    은별\n",
            "Name: irum, dtype: object   <class 'pandas.core.series.Series'>\n"
          ],
          "name": "stdout"
        }
      ]
    },
    {
      "cell_type": "markdown",
      "metadata": {
        "id": "r429fL3ujLM3"
      },
      "source": [
        "\n",
        "### 전치\n"
      ]
    },
    {
      "cell_type": "code",
      "metadata": {
        "colab": {
          "base_uri": "https://localhost:8080/"
        },
        "id": "5oYUaa1ufxvN",
        "outputId": "ef0be61b-28a8-439b-d28f-13378c169c35"
      },
      "source": [
        "frame2 = DataFrame(data, columns=['irum','nai','juso','tel'], index=['a','b','c','d','e'])  #컬럼순서를 바꾸고, 새로운 컬럼생성\n",
        "print(frame2)\n",
        "\n",
        "frame2['tel'] = '111-1111'\n",
        "print(frame2)\n",
        "\n",
        "val = Series(['222-222','333-1111','444-1111'], index=['b','c','e'])\n",
        "frame2['tel'] = val\n",
        "print(frame2)\n",
        "\n",
        "#전치\n",
        "print(frame2.T)"
      ],
      "execution_count": null,
      "outputs": [
        {
          "output_type": "stream",
          "text": [
            "  irum  nai juso  tel\n",
            "a   병구   23  역삼동  NaN\n",
            "b   영진   25  신당동  NaN\n",
            "c   우솔   33  역삼동  NaN\n",
            "d   기준   30  역삼동  NaN\n",
            "e   은별   35  신사동  NaN\n",
            "  irum  nai juso       tel\n",
            "a   병구   23  역삼동  111-1111\n",
            "b   영진   25  신당동  111-1111\n",
            "c   우솔   33  역삼동  111-1111\n",
            "d   기준   30  역삼동  111-1111\n",
            "e   은별   35  신사동  111-1111\n",
            "  irum  nai juso       tel\n",
            "a   병구   23  역삼동       NaN\n",
            "b   영진   25  신당동   222-222\n",
            "c   우솔   33  역삼동  333-1111\n",
            "d   기준   30  역삼동       NaN\n",
            "e   은별   35  신사동  444-1111\n",
            "        a        b         c    d         e\n",
            "irum   병구       영진        우솔   기준        은별\n",
            "nai    23       25        33   30        35\n",
            "juso  역삼동      신당동       역삼동  역삼동       신사동\n",
            "tel   NaN  222-222  333-1111  NaN  444-1111\n"
          ],
          "name": "stdout"
        }
      ]
    },
    {
      "cell_type": "code",
      "metadata": {
        "colab": {
          "base_uri": "https://localhost:8080/"
        },
        "id": "kFQGmu0nhDCg",
        "outputId": "cd89b1af-66ee-4270-c09d-532dac582cff"
      },
      "source": [
        "#list type으로 출력\n",
        "print(frame2.values)   #2차원형태로\n",
        "print(type(frame2.values))  \n",
        "print(frame2.values[0, 2])\n",
        "print(frame2.values[0:2])"
      ],
      "execution_count": null,
      "outputs": [
        {
          "output_type": "stream",
          "text": [
            "[['병구' 23 '역삼동' nan]\n",
            " ['영진' 25 '신당동' '222-222']\n",
            " ['우솔' 33 '역삼동' '333-1111']\n",
            " ['기준' 30 '역삼동' nan]\n",
            " ['은별' 35 '신사동' '444-1111']]\n",
            "<class 'numpy.ndarray'>\n",
            "역삼동\n",
            "[['병구' 23 '역삼동' nan]\n",
            " ['영진' 25 '신당동' '222-222']]\n"
          ],
          "name": "stdout"
        }
      ]
    },
    {
      "cell_type": "code",
      "metadata": {
        "colab": {
          "base_uri": "https://localhost:8080/"
        },
        "id": "WDu11CYGiw7T",
        "outputId": "65dfd4fe-bb8a-4ad5-bcde-0ff521980cbd"
      },
      "source": [
        "frame3 = frame2.drop('d', axis=0)   #행삭제. axis=0:기본값\n",
        "print(frame3)\n",
        "\n",
        "frame4 = frame2.drop('tel', axis=1) #열삭제\n",
        "print(frame4)"
      ],
      "execution_count": null,
      "outputs": [
        {
          "output_type": "stream",
          "text": [
            "  irum  nai juso       tel\n",
            "a   병구   23  역삼동       NaN\n",
            "b   영진   25  신당동   222-222\n",
            "c   우솔   33  역삼동  333-1111\n",
            "e   은별   35  신사동  444-1111\n",
            "  irum  nai juso\n",
            "a   병구   23  역삼동\n",
            "b   영진   25  신당동\n",
            "c   우솔   33  역삼동\n",
            "d   기준   30  역삼동\n",
            "e   은별   35  신사동\n"
          ],
          "name": "stdout"
        }
      ]
    },
    {
      "cell_type": "markdown",
      "metadata": {
        "id": "pjM_BWcPjbqf"
      },
      "source": [
        "\n",
        "<br>\n",
        "\n",
        "## 👉 **정렬, 순위, count : `.sort_index(), .rank(), .value_counts()`**\n"
      ]
    },
    {
      "cell_type": "code",
      "metadata": {
        "colab": {
          "base_uri": "https://localhost:8080/"
        },
        "id": "U-os2FRVjHHP",
        "outputId": "06321ce7-aa46-4a05-dcde-8325cc1cbfd5"
      },
      "source": [
        "print(frame2.sort_index(axis=0, ascending=False))\n",
        "print(frame2.sort_index(axis=1, ascending=False))\n",
        "\n",
        "print(frame2.rank(axis=0))\n",
        "\n",
        "print(frame2['juso'].value_counts())"
      ],
      "execution_count": null,
      "outputs": [
        {
          "output_type": "stream",
          "text": [
            "  irum  nai juso       tel\n",
            "e   은별   35  신사동  444-1111\n",
            "d   기준   30  역삼동       NaN\n",
            "c   우솔   33  역삼동  333-1111\n",
            "b   영진   25  신당동   222-222\n",
            "a   병구   23  역삼동       NaN\n",
            "        tel  nai juso irum\n",
            "a       NaN   23  역삼동   병구\n",
            "b   222-222   25  신당동   영진\n",
            "c  333-1111   33  역삼동   우솔\n",
            "d       NaN   30  역삼동   기준\n",
            "e  444-1111   35  신사동   은별\n",
            "   irum  nai  juso  tel\n",
            "a   2.0  1.0   4.0  NaN\n",
            "b   3.0  2.0   1.0  1.0\n",
            "c   4.0  4.0   4.0  2.0\n",
            "d   1.0  3.0   4.0  NaN\n",
            "e   5.0  5.0   2.0  3.0\n",
            "역삼동    3\n",
            "신당동    1\n",
            "신사동    1\n",
            "Name: juso, dtype: int64\n"
          ],
          "name": "stdout"
        }
      ]
    },
    {
      "cell_type": "code",
      "metadata": {
        "colab": {
          "base_uri": "https://localhost:8080/"
        },
        "id": "Lf7ktsLXkGc1",
        "outputId": "c853e89e-354d-49d9-a49a-60f3f1288195"
      },
      "source": [
        "data = {\n",
        "    'juso':['강남구 역삼동', '중구 신당동', '강남구 대치동'],\n",
        "    'inwon':[23, 25, 15]\n",
        "}\n",
        "\n",
        "fr = DataFrame(data)\n",
        "print(fr)\n",
        "print()\n",
        "\n",
        "result1 = Series([x.split()[0] for x in fr.juso])\n",
        "print(result1)\n",
        "\n",
        "result2 = Series([x.split()[1] for x in fr.juso])\n",
        "print(result2)"
      ],
      "execution_count": null,
      "outputs": [
        {
          "output_type": "stream",
          "text": [
            "      juso  inwon\n",
            "0  강남구 역삼동     23\n",
            "1   중구 신당동     25\n",
            "2  강남구 대치동     15\n",
            "\n",
            "0    강남구\n",
            "1     중구\n",
            "2    강남구\n",
            "dtype: object\n",
            "0    역삼동\n",
            "1    신당동\n",
            "2    대치동\n",
            "dtype: object\n"
          ],
          "name": "stdout"
        }
      ]
    },
    {
      "cell_type": "markdown",
      "metadata": {
        "id": "Fuo-Gl1opNkU"
      },
      "source": [
        "<br>\n",
        "\n",
        "# 📝 Series의 재색인 : `.reindex()`\n"
      ]
    },
    {
      "cell_type": "code",
      "metadata": {
        "colab": {
          "base_uri": "https://localhost:8080/"
        },
        "id": "Y2yADXo-kl-x",
        "outputId": "9d757694-13fc-420b-9857-9b8367f8b493"
      },
      "source": [
        "data = Series([1, 3, 2], index = (1, 4, 2))\n",
        "print(data)\n",
        "\n",
        "data2 = data.reindex((1,2,4))\n",
        "print(data2)"
      ],
      "execution_count": null,
      "outputs": [
        {
          "output_type": "stream",
          "text": [
            "1    1\n",
            "4    3\n",
            "2    2\n",
            "dtype: int64\n",
            "1    1\n",
            "2    2\n",
            "4    3\n",
            "dtype: int64\n"
          ],
          "name": "stdout"
        }
      ]
    },
    {
      "cell_type": "markdown",
      "metadata": {
        "id": "eAFDqGMSp_lw"
      },
      "source": [
        "\n",
        "## 👉 재색인하며 값 채우기\n"
      ]
    },
    {
      "cell_type": "code",
      "metadata": {
        "colab": {
          "base_uri": "https://localhost:8080/"
        },
        "id": "973Wkou7p_XY",
        "outputId": "6417db24-b69b-4fa0-ec15-12190b887d8c"
      },
      "source": [
        "data3 = data2.reindex([0, 1, 2, 3, 4, 5])\n",
        "print(data3) #값이 존재하지 않는 항목들은 NaN\n",
        "print()\n",
        "\n",
        "data3 = data2.reindex([0, 1, 2, 3, 4, 5], fill_value = 777)  #특정값으로 채우기\n",
        "print(data3)\n",
        "print()\n",
        "\n",
        "data3 = data2.reindex([0, 1, 2, 3, 4, 5], method = 'ffill')  #forward fill : NaN의 바로 앞의 값으로 대체\n",
        "#data3 = data2.reindex([0, 1, 2, 3, 4, 5], method = 'pad')   #위와 동일\n",
        "print(data3)\n",
        "print()\n",
        "\n",
        "data3 = data2.reindex([0, 1, 2, 3, 4, 5], method = 'bfill')  #back fill : NaN의 바로 다음 값으로 대체\n",
        "print(data3)\n",
        "print()\n",
        "\n"
      ],
      "execution_count": null,
      "outputs": [
        {
          "output_type": "stream",
          "text": [
            "0    NaN\n",
            "1    1.0\n",
            "2    2.0\n",
            "3    NaN\n",
            "4    3.0\n",
            "5    NaN\n",
            "dtype: float64\n",
            "\n",
            "0    777\n",
            "1      1\n",
            "2      2\n",
            "3    777\n",
            "4      3\n",
            "5    777\n",
            "dtype: int64\n",
            "\n",
            "0    NaN\n",
            "1    1.0\n",
            "2    2.0\n",
            "3    2.0\n",
            "4    3.0\n",
            "5    3.0\n",
            "dtype: float64\n",
            "\n",
            "0    1.0\n",
            "1    1.0\n",
            "2    2.0\n",
            "3    3.0\n",
            "4    3.0\n",
            "5    NaN\n",
            "dtype: float64\n",
            "\n"
          ],
          "name": "stdout"
        }
      ]
    },
    {
      "cell_type": "markdown",
      "metadata": {
        "id": "9Knh-KORre-e"
      },
      "source": [
        "<br>\n",
        "\n",
        "# 📝 **DataFrame의 Slicing**\n"
      ]
    },
    {
      "cell_type": "code",
      "metadata": {
        "colab": {
          "base_uri": "https://localhost:8080/"
        },
        "id": "AfUwKc1pnzZj",
        "outputId": "116d0aca-880d-4d24-d014-3bf903d67587"
      },
      "source": [
        "import numpy as np\n",
        "\n",
        "df = DataFrame(np.arange(12).reshape(4, 3), index=['1월','2월','3월','4월'], columns=['강남','강북','서초'])\n",
        "print(df)\n",
        "print()\n",
        "\n",
        "print(df['강남'])\n",
        "print()\n",
        "print(df['강남'] > 3)\n",
        "print()\n",
        "print(df[df['강남'] > 3])\n",
        "print()\n",
        "\n",
        "print(df < 3)\n",
        "df[df < 3] = 0\n",
        "print(df)"
      ],
      "execution_count": null,
      "outputs": [
        {
          "output_type": "stream",
          "text": [
            "    강남  강북  서초\n",
            "1월   0   1   2\n",
            "2월   3   4   5\n",
            "3월   6   7   8\n",
            "4월   9  10  11\n",
            "\n",
            "1월    0\n",
            "2월    3\n",
            "3월    6\n",
            "4월    9\n",
            "Name: 강남, dtype: int64\n",
            "\n",
            "1월    False\n",
            "2월    False\n",
            "3월     True\n",
            "4월     True\n",
            "Name: 강남, dtype: bool\n",
            "\n",
            "    강남  강북  서초\n",
            "3월   6   7   8\n",
            "4월   9  10  11\n",
            "\n",
            "       강남     강북     서초\n",
            "1월   True   True   True\n",
            "2월  False  False  False\n",
            "3월  False  False  False\n",
            "4월  False  False  False\n",
            "    강남  강북  서초\n",
            "1월   0   0   0\n",
            "2월   3   4   5\n",
            "3월   6   7   8\n",
            "4월   9  10  11\n"
          ],
          "name": "stdout"
        }
      ]
    },
    {
      "cell_type": "markdown",
      "metadata": {
        "id": "xQbZEpgGtWXd"
      },
      "source": [
        "<br>\n",
        "\n",
        "## 👉 **Label 기능 : `.loc(), .iloc()`**\n",
        "\n",
        "loc: 라벨 지원, iloc: 인덱스라벨지원"
      ]
    },
    {
      "cell_type": "code",
      "metadata": {
        "colab": {
          "base_uri": "https://localhost:8080/"
        },
        "id": "U0nE2QC6rsF2",
        "outputId": "a4bb5858-f266-4e19-a46b-7290853d55ce"
      },
      "source": [
        "#loc\n",
        "print(df.loc['4월'])\n",
        "print(df.loc['3월',])\n",
        "print(df.loc[:'2월'])\n",
        "print(df.loc[:'2월', ['서초']])"
      ],
      "execution_count": null,
      "outputs": [
        {
          "output_type": "stream",
          "text": [
            "강남     9\n",
            "강북    10\n",
            "서초    11\n",
            "Name: 4월, dtype: int64\n",
            "강남    6\n",
            "강북    7\n",
            "서초    8\n",
            "Name: 3월, dtype: int64\n",
            "    강남  강북  서초\n",
            "1월   0   0   0\n",
            "2월   3   4   5\n",
            "    서초\n",
            "1월   0\n",
            "2월   5\n"
          ],
          "name": "stdout"
        }
      ]
    },
    {
      "cell_type": "code",
      "metadata": {
        "colab": {
          "base_uri": "https://localhost:8080/"
        },
        "id": "B9gWAtpxtumI",
        "outputId": "ec0c5272-b8f4-41a5-d3e4-08a44d830fb0"
      },
      "source": [
        "#iloc\n",
        "print(df.iloc[2])\n",
        "print(df.iloc[2, :])\n",
        "print()\n",
        "\n",
        "print(df.iloc[:3])\n",
        "print(df.iloc[:3, 2])\n",
        "print(df.iloc[:3, 1:3])"
      ],
      "execution_count": null,
      "outputs": [
        {
          "output_type": "stream",
          "text": [
            "강남    6\n",
            "강북    7\n",
            "서초    8\n",
            "Name: 3월, dtype: int64\n",
            "강남    6\n",
            "강북    7\n",
            "서초    8\n",
            "Name: 3월, dtype: int64\n",
            "\n",
            "    강남  강북  서초\n",
            "1월   0   0   0\n",
            "2월   3   4   5\n",
            "3월   6   7   8\n",
            "1월    0\n",
            "2월    5\n",
            "3월    8\n",
            "Name: 서초, dtype: int64\n",
            "    강북  서초\n",
            "1월   0   0\n",
            "2월   4   5\n",
            "3월   7   8\n"
          ],
          "name": "stdout"
        }
      ]
    },
    {
      "cell_type": "markdown",
      "metadata": {
        "id": "Og0Vp9Spuv0U"
      },
      "source": [
        "\n",
        "# 📝 **산술연산**\n"
      ]
    },
    {
      "cell_type": "markdown",
      "metadata": {
        "id": "bKxonZG9vcQM"
      },
      "source": [
        "## Series\n"
      ]
    },
    {
      "cell_type": "code",
      "metadata": {
        "colab": {
          "base_uri": "https://localhost:8080/"
        },
        "id": "e1BwY-2AugpQ",
        "outputId": "f6eb453a-76e9-48b0-c6bd-283f6a69d94d"
      },
      "source": [
        "s1 = Series([1,2,3], index=['a','b','c'])\n",
        "s2 = Series([4,5,6,7], index=['a','b','c','d'])\n",
        "\n",
        "print(s1)\n",
        "print(s2)"
      ],
      "execution_count": null,
      "outputs": [
        {
          "output_type": "stream",
          "text": [
            "a    1\n",
            "b    2\n",
            "c    3\n",
            "dtype: int64\n",
            "a    4\n",
            "b    5\n",
            "c    6\n",
            "d    7\n",
            "dtype: int64\n"
          ],
          "name": "stdout"
        }
      ]
    },
    {
      "cell_type": "code",
      "metadata": {
        "colab": {
          "base_uri": "https://localhost:8080/"
        },
        "id": "Ye6NfgTMu7WW",
        "outputId": "02bead1e-7c71-4167-b885-717f0c0d11fc"
      },
      "source": [
        "print(s1 + s2)  #같은 index끼리 연산. 불일치할 경우 NaN\n",
        "print(s1.add(s2))\n",
        "print(s1 * s2)"
      ],
      "execution_count": null,
      "outputs": [
        {
          "output_type": "stream",
          "text": [
            "a    5.0\n",
            "b    7.0\n",
            "c    9.0\n",
            "d    NaN\n",
            "dtype: float64\n",
            "a    5.0\n",
            "b    7.0\n",
            "c    9.0\n",
            "d    NaN\n",
            "dtype: float64\n",
            "a     4.0\n",
            "b    10.0\n",
            "c    18.0\n",
            "d     NaN\n",
            "dtype: float64\n"
          ],
          "name": "stdout"
        }
      ]
    },
    {
      "cell_type": "markdown",
      "metadata": {
        "id": "sPDGRPYAvf3z"
      },
      "source": [
        "## DataFrame"
      ]
    },
    {
      "cell_type": "code",
      "metadata": {
        "colab": {
          "base_uri": "https://localhost:8080/"
        },
        "id": "AN-OqA9ivaSW",
        "outputId": "222f0c6e-f778-467c-cbb6-f20242b69bdd"
      },
      "source": [
        "df1 = DataFrame(np.arange(9.).reshape(3, 3), columns = list('one'), index = ['서울','인천','수원'])\n",
        "print(df1)\n",
        "print()\n",
        "\n",
        "df2 = DataFrame(np.arange(12.).reshape(4, 3), columns = list('one'), index = ['서울','인천','부산','광주'])\n",
        "print(df2)"
      ],
      "execution_count": null,
      "outputs": [
        {
          "output_type": "stream",
          "text": [
            "      o    n    e\n",
            "서울  0.0  1.0  2.0\n",
            "인천  3.0  4.0  5.0\n",
            "수원  6.0  7.0  8.0\n",
            "\n",
            "      o     n     e\n",
            "서울  0.0   1.0   2.0\n",
            "인천  3.0   4.0   5.0\n",
            "부산  6.0   7.0   8.0\n",
            "광주  9.0  10.0  11.0\n"
          ],
          "name": "stdout"
        }
      ]
    },
    {
      "cell_type": "code",
      "metadata": {
        "colab": {
          "base_uri": "https://localhost:8080/"
        },
        "id": "XDL9Em3Uv_YT",
        "outputId": "b8c75c88-226b-467d-cd70-154a41509805"
      },
      "source": [
        "print(df1 + df2)\n",
        "print(df1.add(df2, fill_value = 0))  #NaN은 0으로 채운 후 연산"
      ],
      "execution_count": null,
      "outputs": [
        {
          "output_type": "stream",
          "text": [
            "      o    n     e\n",
            "광주  NaN  NaN   NaN\n",
            "부산  NaN  NaN   NaN\n",
            "서울  0.0  2.0   4.0\n",
            "수원  NaN  NaN   NaN\n",
            "인천  6.0  8.0  10.0\n",
            "      o     n     e\n",
            "광주  9.0  10.0  11.0\n",
            "부산  6.0   7.0   8.0\n",
            "서울  0.0   2.0   4.0\n",
            "수원  6.0   7.0   8.0\n",
            "인천  6.0   8.0  10.0\n"
          ],
          "name": "stdout"
        }
      ]
    },
    {
      "cell_type": "code",
      "metadata": {
        "colab": {
          "base_uri": "https://localhost:8080/"
        },
        "id": "Ydu5OznNwGa3",
        "outputId": "85d9d2f4-ae8e-44e2-9965-af2f39621a6d"
      },
      "source": [
        "print(df1 * df2)\n",
        "print(df1.multiply(df2, fill_value = 1))  #NaN은 1로 채운 후 연산"
      ],
      "execution_count": null,
      "outputs": [
        {
          "output_type": "stream",
          "text": [
            "      o     n     e\n",
            "광주  NaN   NaN   NaN\n",
            "부산  NaN   NaN   NaN\n",
            "서울  0.0   1.0   4.0\n",
            "수원  NaN   NaN   NaN\n",
            "인천  9.0  16.0  25.0\n",
            "      o     n     e\n",
            "광주  9.0  10.0  11.0\n",
            "부산  6.0   7.0   8.0\n",
            "서울  0.0   1.0   4.0\n",
            "수원  6.0   7.0   8.0\n",
            "인천  9.0  16.0  25.0\n"
          ],
          "name": "stdout"
        }
      ]
    },
    {
      "cell_type": "markdown",
      "metadata": {
        "id": "VUsMAkLIxHWK"
      },
      "source": [
        "<br>\n",
        "\n",
        "## Series와 DataFrame 간의 연산\n",
        "\n",
        "DataFrame과 Series 간의 산술연산은 Series의 색인을 DataFrame의 컬럼에 맞추고 아래행으로 전파한다.  -> Broadcasting"
      ]
    },
    {
      "cell_type": "code",
      "metadata": {
        "colab": {
          "base_uri": "https://localhost:8080/"
        },
        "id": "rRpYVWJLw_Tu",
        "outputId": "f7589ed4-d600-4301-e89b-cc3503a42449"
      },
      "source": [
        "df1 = DataFrame(np.arange(9.).reshape(3, 3), columns = list('one'), index = ['서울','인천','수원'])\n",
        "seri = df1.iloc[0]\n",
        "print(seri)\n",
        "\n",
        "print(df1 - seri)  "
      ],
      "execution_count": null,
      "outputs": [
        {
          "output_type": "stream",
          "text": [
            "o    0.0\n",
            "n    1.0\n",
            "e    2.0\n",
            "Name: 서울, dtype: float64\n",
            "      o    n    e\n",
            "서울  0.0  0.0  0.0\n",
            "인천  3.0  3.0  3.0\n",
            "수원  6.0  6.0  6.0\n"
          ],
          "name": "stdout"
        }
      ]
    },
    {
      "cell_type": "markdown",
      "metadata": {
        "id": "dPMwIdUW1SIn"
      },
      "source": [
        "\n",
        "<br>\n",
        "\n",
        "# 📝 **결측치 처리**"
      ]
    },
    {
      "cell_type": "code",
      "metadata": {
        "colab": {
          "base_uri": "https://localhost:8080/"
        },
        "id": "R5yZKOmoxcjk",
        "outputId": "ce91c920-f0c0-49e2-c3ff-24c61c0a9a1b"
      },
      "source": [
        "df = DataFrame([[1.3, np.nan], [7, -4.3], [np.NaN, np.NAN], [0.5, -1]], columns = ['one','two'])\n",
        "print(df)\n",
        "print()\n",
        "\n",
        "#print(df.drop(1))\n",
        "print(df.isnull())\n",
        "print(df.notnull())"
      ],
      "execution_count": null,
      "outputs": [
        {
          "output_type": "stream",
          "text": [
            "   one  two\n",
            "0  1.3  NaN\n",
            "1  7.0 -4.3\n",
            "2  NaN  NaN\n",
            "3  0.5 -1.0\n",
            "\n",
            "     one    two\n",
            "0  False   True\n",
            "1  False  False\n",
            "2   True   True\n",
            "3  False  False\n",
            "     one    two\n",
            "0   True  False\n",
            "1   True   True\n",
            "2  False  False\n",
            "3   True   True\n"
          ],
          "name": "stdout"
        }
      ]
    },
    {
      "cell_type": "markdown",
      "metadata": {
        "id": "X8a30zha2gX9"
      },
      "source": [
        "\n",
        "## 👉 `.dropna()`\n"
      ]
    },
    {
      "cell_type": "code",
      "metadata": {
        "colab": {
          "base_uri": "https://localhost:8080/"
        },
        "id": "dJ7JEXmT1wzD",
        "outputId": "d38488ed-6048-4242-b454-6030eb93e2fb"
      },
      "source": [
        "print(df.dropna())\n",
        "print()\n",
        "print(df.dropna(how='any'))       #how='any': NaN이 하나라도 있으면 해당 행 제거\n",
        "print()\n",
        "\n",
        "print(df.dropna(how='all'))       #how='any': 행 전체가 NaN이라면 해당 행 제거. 하나라도 다른 값이 있으면 제거되지 않는다.\n",
        "print()\n",
        "\n",
        "print(df.dropna(subset=['two']))  #subset=['two']: 'two'컬럼에 NaN이 존재하는 행 제거. 특정열에 NaN이 있는 해당 행 제거\n",
        "print()\n",
        "\n",
        "print(df.dropna(axis='rows'))     #NaN이 포함된 행 모두 제거\n",
        "print()\n",
        "\n",
        "print(df.dropna(axis='columns'))  #NaN이 포함된 열 모두 제거"
      ],
      "execution_count": null,
      "outputs": [
        {
          "output_type": "stream",
          "text": [
            "   one  two\n",
            "1  7.0 -4.3\n",
            "3  0.5 -1.0\n",
            "\n",
            "   one  two\n",
            "1  7.0 -4.3\n",
            "3  0.5 -1.0\n",
            "\n",
            "   one  two\n",
            "0  1.3  NaN\n",
            "1  7.0 -4.3\n",
            "3  0.5 -1.0\n",
            "\n",
            "   one  two\n",
            "1  7.0 -4.3\n",
            "3  0.5 -1.0\n",
            "\n",
            "   one  two\n",
            "1  7.0 -4.3\n",
            "3  0.5 -1.0\n",
            "\n",
            "Empty DataFrame\n",
            "Columns: []\n",
            "Index: [0, 1, 2, 3]\n"
          ],
          "name": "stdout"
        }
      ]
    },
    {
      "cell_type": "markdown",
      "metadata": {
        "id": "-QiUwIlu3lqv"
      },
      "source": [
        "<br>\n",
        "\n",
        "## 👉 `.fillna()`"
      ]
    },
    {
      "cell_type": "code",
      "metadata": {
        "colab": {
          "base_uri": "https://localhost:8080/"
        },
        "id": "7MrD9nhI2Ue_",
        "outputId": "b7d61503-8d05-46f4-9031-6ae6d57d0de0"
      },
      "source": [
        "print(df.fillna(0))  #NaN 0으로 대체"
      ],
      "execution_count": null,
      "outputs": [
        {
          "output_type": "stream",
          "text": [
            "   one  two\n",
            "0  1.3  0.0\n",
            "1  7.0 -4.3\n",
            "2  0.0  0.0\n",
            "3  0.5 -1.0\n"
          ],
          "name": "stdout"
        }
      ]
    },
    {
      "cell_type": "markdown",
      "metadata": {
        "id": "LwOq57oF4mYr"
      },
      "source": [
        "기본적으로 NaN은 연산에서 제외한다.  "
      ]
    },
    {
      "cell_type": "code",
      "metadata": {
        "colab": {
          "base_uri": "https://localhost:8080/"
        },
        "id": "Zye2zbml3iKF",
        "outputId": "b4ee4fd6-49ea-49dd-e191-a36ecd033560"
      },
      "source": [
        "print(df.sum())\n",
        "print(df.sum(axis=0))  #행의 합\n",
        "print(df.sum(axis=1))  #열의 합"
      ],
      "execution_count": null,
      "outputs": [
        {
          "output_type": "stream",
          "text": [
            "one    8.8\n",
            "two   -5.3\n",
            "dtype: float64\n",
            "one    8.8\n",
            "two   -5.3\n",
            "dtype: float64\n",
            "0    1.3\n",
            "1    2.7\n",
            "2    0.0\n",
            "3   -0.5\n",
            "dtype: float64\n"
          ],
          "name": "stdout"
        }
      ]
    },
    {
      "cell_type": "code",
      "metadata": {
        "colab": {
          "base_uri": "https://localhost:8080/"
        },
        "id": "z5dJJGqf37ch",
        "outputId": "1409a903-b903-4b54-b9aa-7b082b2fa991"
      },
      "source": [
        "print()\n",
        "print(df)\n",
        "print(df.mean())\n",
        "print(df.mean(axis=1))\n",
        "print(df.mean(axis=0, skipna = True))   #기본값\n",
        "print(df.mean(axis=0, skipna = False))  #NaN 포함하여 연산"
      ],
      "execution_count": null,
      "outputs": [
        {
          "output_type": "stream",
          "text": [
            "\n",
            "   one  two\n",
            "0  1.3  NaN\n",
            "1  7.0 -4.3\n",
            "2  NaN  NaN\n",
            "3  0.5 -1.0\n",
            "one    2.933333\n",
            "two   -2.650000\n",
            "dtype: float64\n",
            "0    1.30\n",
            "1    1.35\n",
            "2     NaN\n",
            "3   -0.25\n",
            "dtype: float64\n",
            "one    2.933333\n",
            "two   -2.650000\n",
            "dtype: float64\n",
            "one   NaN\n",
            "two   NaN\n",
            "dtype: float64\n"
          ],
          "name": "stdout"
        }
      ]
    },
    {
      "cell_type": "markdown",
      "metadata": {
        "id": "Vb8VBzWX5fuf"
      },
      "source": [
        "<br>\n",
        "\n",
        "# 📝 **그 외 함수들**"
      ]
    },
    {
      "cell_type": "markdown",
      "metadata": {
        "id": "VaXBqaSZ5TyK"
      },
      "source": [
        "\n",
        "## `.idxmax()` : 최대값의 index 출력"
      ]
    },
    {
      "cell_type": "code",
      "metadata": {
        "colab": {
          "base_uri": "https://localhost:8080/"
        },
        "id": "vAfO7mBm4ztF",
        "outputId": "4295cfb3-f8fc-44fa-bedd-996442d946fa"
      },
      "source": [
        "print(df.max())\n",
        "print(df.idxmax())"
      ],
      "execution_count": null,
      "outputs": [
        {
          "output_type": "stream",
          "text": [
            "one    7.0\n",
            "two   -1.0\n",
            "dtype: float64\n",
            "one    1\n",
            "two    3\n",
            "dtype: int64\n"
          ],
          "name": "stdout"
        }
      ]
    },
    {
      "cell_type": "markdown",
      "metadata": {
        "id": "nrJvnvr05Ljr"
      },
      "source": [
        "## `.describe()` : 요약통계량"
      ]
    },
    {
      "cell_type": "code",
      "metadata": {
        "colab": {
          "base_uri": "https://localhost:8080/"
        },
        "id": "grXl5DPO5Cvo",
        "outputId": "008f3b9b-1c97-40a4-c84b-6870389e23bc"
      },
      "source": [
        "print(df.describe())  "
      ],
      "execution_count": null,
      "outputs": [
        {
          "output_type": "stream",
          "text": [
            "            one       two\n",
            "count  3.000000  2.000000\n",
            "mean   2.933333 -2.650000\n",
            "std    3.544479  2.333452\n",
            "min    0.500000 -4.300000\n",
            "25%    0.900000 -3.475000\n",
            "50%    1.300000 -2.650000\n",
            "75%    4.150000 -1.825000\n",
            "max    7.000000 -1.000000\n"
          ],
          "name": "stdout"
        }
      ]
    },
    {
      "cell_type": "markdown",
      "metadata": {
        "id": "psaka2DveXF4"
      },
      "source": [
        "\n",
        "<br>\n",
        "\n",
        "# 📝 **DataFrame의 형태 변경**\n",
        "\n",
        "`.reshape() ,.stack(), .unstack()`\n"
      ]
    },
    {
      "cell_type": "code",
      "metadata": {
        "id": "x1ytuxGr5JXP",
        "colab": {
          "base_uri": "https://localhost:8080/"
        },
        "outputId": "5100df45-efcd-4872-f6fd-81ca318daf8a"
      },
      "source": [
        "import numpy as np\n",
        "import pandas as pd\n",
        "\n",
        "df = pd.DataFrame(1000 + np.arange(6).reshape(2, 3), index=['서울','대전'], columns=['2020','2021','2022'])\n",
        "print(df)\n",
        "print()\n",
        "\n",
        "#index를 기준으로 컬럼 쌓기\n",
        "df_row = df.stack()\n",
        "print(df_row)\n",
        "print()\n",
        "\n",
        "#원래대로\n",
        "df_col = df_row.unstack()\n",
        "print(df_col)"
      ],
      "execution_count": null,
      "outputs": [
        {
          "output_type": "stream",
          "text": [
            "    2020  2021  2022\n",
            "서울  1000  1001  1002\n",
            "대전  1003  1004  1005\n",
            "\n",
            "서울  2020    1000\n",
            "    2021    1001\n",
            "    2022    1002\n",
            "대전  2020    1003\n",
            "    2021    1004\n",
            "    2022    1005\n",
            "dtype: int64\n",
            "\n",
            "    2020  2021  2022\n",
            "서울  1000  1001  1002\n",
            "대전  1003  1004  1005\n"
          ],
          "name": "stdout"
        }
      ]
    },
    {
      "cell_type": "markdown",
      "metadata": {
        "id": "h7eFcKwmgLYR"
      },
      "source": [
        "\n",
        "<br>\n",
        "\n",
        "## 👉 **범주화 : `.cut()`**\n"
      ]
    },
    {
      "cell_type": "code",
      "metadata": {
        "colab": {
          "base_uri": "https://localhost:8080/"
        },
        "id": "uNCmwoaje1yE",
        "outputId": "757f9150-02da-4a8c-ecea-d89233102d21"
      },
      "source": [
        "price = [10.3, 5.5, 7.8, 3.6]\n",
        "cut = [3, 7, 9, 11]  #구간 기준 값\n",
        "\n",
        "result_cut = pd.cut(price, cut)\n",
        "print(result_cut)\n",
        "print()\n",
        "\n",
        "print(pd.value_counts(result_cut))"
      ],
      "execution_count": null,
      "outputs": [
        {
          "output_type": "stream",
          "text": [
            "[(9, 11], (3, 7], (7, 9], (3, 7]]\n",
            "Categories (3, interval[int64]): [(3, 7] < (7, 9] < (9, 11]]\n",
            "\n",
            "(3, 7]     2\n",
            "(9, 11]    1\n",
            "(7, 9]     1\n",
            "dtype: int64\n"
          ],
          "name": "stdout"
        }
      ]
    },
    {
      "cell_type": "code",
      "metadata": {
        "colab": {
          "base_uri": "https://localhost:8080/"
        },
        "id": "C2zjD6UZhFtL",
        "outputId": "2e9115fd-9bd1-4319-e676-43be2ced1516"
      },
      "source": [
        "datas = pd.Series(np.arange(1, 1001))\n",
        "print(datas.tail())\n",
        "print()\n",
        "\n",
        "cut2 = [1, 500, 1000]\n",
        "result_cut2 = pd.cut(datas, cut2)\n",
        "\n",
        "print(result_cut2)\n",
        "print()\n",
        "print(pd.value_counts(result_cut2))\n",
        "print()"
      ],
      "execution_count": null,
      "outputs": [
        {
          "output_type": "stream",
          "text": [
            "995     996\n",
            "996     997\n",
            "997     998\n",
            "998     999\n",
            "999    1000\n",
            "dtype: int64\n",
            "\n",
            "0                  NaN\n",
            "1         (1.0, 500.0]\n",
            "2         (1.0, 500.0]\n",
            "3         (1.0, 500.0]\n",
            "4         (1.0, 500.0]\n",
            "            ...       \n",
            "995    (500.0, 1000.0]\n",
            "996    (500.0, 1000.0]\n",
            "997    (500.0, 1000.0]\n",
            "998    (500.0, 1000.0]\n",
            "999    (500.0, 1000.0]\n",
            "Length: 1000, dtype: category\n",
            "Categories (2, interval[int64]): [(1, 500] < (500, 1000]]\n",
            "\n",
            "(500, 1000]    500\n",
            "(1, 500]       499\n",
            "dtype: int64\n",
            "\n"
          ],
          "name": "stdout"
        }
      ]
    },
    {
      "cell_type": "code",
      "metadata": {
        "colab": {
          "base_uri": "https://localhost:8080/"
        },
        "id": "draWZwLXhVZR",
        "outputId": "064d03c8-4879-4b82-a922-676578754f4e"
      },
      "source": [
        "result_cut3 = pd.qcut(datas, 5)\n",
        "print(result_cut3)\n",
        "print()\n",
        "print(pd.value_counts(result_cut3))"
      ],
      "execution_count": null,
      "outputs": [
        {
          "output_type": "stream",
          "text": [
            "0       (0.999, 200.8]\n",
            "1       (0.999, 200.8]\n",
            "2       (0.999, 200.8]\n",
            "3       (0.999, 200.8]\n",
            "4       (0.999, 200.8]\n",
            "            ...       \n",
            "995    (800.2, 1000.0]\n",
            "996    (800.2, 1000.0]\n",
            "997    (800.2, 1000.0]\n",
            "998    (800.2, 1000.0]\n",
            "999    (800.2, 1000.0]\n",
            "Length: 1000, dtype: category\n",
            "Categories (5, interval[float64]): [(0.999, 200.8] < (200.8, 400.6] < (400.6, 600.4] < (600.4, 800.2] <\n",
            "                                    (800.2, 1000.0]]\n",
            "\n",
            "(800.2, 1000.0]    200\n",
            "(600.4, 800.2]     200\n",
            "(400.6, 600.4]     200\n",
            "(200.8, 400.6]     200\n",
            "(0.999, 200.8]     200\n",
            "dtype: int64\n"
          ],
          "name": "stdout"
        }
      ]
    },
    {
      "cell_type": "markdown",
      "metadata": {
        "id": "r6Jmz0nAi5YM"
      },
      "source": [
        "<br>\n",
        "\n",
        "## 👉 **Group 별로 작업하기 : `.groupby()`**\n",
        "\n",
        "\n",
        "`.agg` : 소계를 구하는 함수\n"
      ]
    },
    {
      "cell_type": "code",
      "metadata": {
        "colab": {
          "base_uri": "https://localhost:8080/"
        },
        "id": "xzalCxy_jBAD",
        "outputId": "e09368fd-400e-43f1-a6e5-e594280f8ba3"
      },
      "source": [
        "group_col = datas.groupby(result_cut2)\n",
        "print(group_col)\n",
        "print()\n",
        "\n",
        "print(group_col.agg(['count','mean','std','min']))"
      ],
      "execution_count": null,
      "outputs": [
        {
          "output_type": "stream",
          "text": [
            "<pandas.core.groupby.generic.SeriesGroupBy object at 0x7f1bcfe5fe10>\n",
            "\n",
            "             count   mean         std  min\n",
            "(1, 500]       499  251.0  144.193157    2\n",
            "(500, 1000]    500  750.5  144.481833  501\n"
          ],
          "name": "stdout"
        }
      ]
    },
    {
      "cell_type": "code",
      "metadata": {
        "colab": {
          "base_uri": "https://localhost:8080/"
        },
        "id": "kglfjRpcjG0j",
        "outputId": "2906bd14-7576-4b96-e14c-9fd3c55df75d"
      },
      "source": [
        "#함수로 만들어 보기\n",
        "def summary_func(gr):\n",
        "  return {\n",
        "      'count':gr.count(),\n",
        "      'mean':gr.mean(),\n",
        "      'std':gr.std(),\n",
        "      'min':gr.min()\n",
        "  }\n",
        "\n",
        "print(group_col.apply(summary_func))\n",
        "print()\n",
        "print(group_col.apply(summary_func).unstack())"
      ],
      "execution_count": null,
      "outputs": [
        {
          "output_type": "stream",
          "text": [
            "(1, 500]     count    499.000000\n",
            "             mean     251.000000\n",
            "             std      144.193157\n",
            "             min        2.000000\n",
            "(500, 1000]  count    500.000000\n",
            "             mean     750.500000\n",
            "             std      144.481833\n",
            "             min      501.000000\n",
            "dtype: float64\n",
            "\n",
            "             count   mean         std    min\n",
            "(1, 500]     499.0  251.0  144.193157    2.0\n",
            "(500, 1000]  500.0  750.5  144.481833  501.0\n"
          ],
          "name": "stdout"
        }
      ]
    },
    {
      "cell_type": "markdown",
      "metadata": {
        "id": "q7oFnLxRktQE"
      },
      "source": [
        "\n",
        "## 👉 **자료 병합하기**\n",
        "\n",
        "`.merge()` : key를 기준으로 병합한다.\n",
        "\n"
      ]
    },
    {
      "cell_type": "markdown",
      "metadata": {
        "id": "4ND8eSUCmOVp"
      },
      "source": [
        "\n",
        "### 🌼 공통 컬럼이 있는 경우\n"
      ]
    },
    {
      "cell_type": "code",
      "metadata": {
        "colab": {
          "base_uri": "https://localhost:8080/"
        },
        "id": "c0FDzvUUkEJC",
        "outputId": "e29db10b-3256-49be-c40d-6827f51c064f"
      },
      "source": [
        "df1 = pd.DataFrame({'data1':range(7), 'key':['b','b','a','c','a','a','b']})\n",
        "print(df1)\n",
        "print()\n",
        "\n",
        "df2 = pd.DataFrame({'key':['a','b','d'], 'data2':range(3)})\n",
        "print(df2)\n",
        "print()\n",
        "\n",
        "#공통컬럼이 있는 데이터들에 대해서만 작업\n",
        "#SQL의 INNER JOIN\n",
        "print(pd.merge(df1, df2, on='key'))\n",
        "print()\n",
        "print(pd.merge(df1, df2, on='key', how='inner'))  #위와 동일\n",
        "print()\n",
        "\n",
        "#OUTER JOIN\n",
        "print(pd.merge(df1, df2, on='key', how='outer'))\n",
        "print()\n",
        "\n",
        "#LEFT OUTER JOIN\n",
        "print(pd.merge(df1, df2, on='key', how='left'))\n",
        "print()\n",
        "\n",
        "#RIGHT OUTER JOIN\n",
        "print(pd.merge(df1, df2, on='key', how='right'))"
      ],
      "execution_count": null,
      "outputs": [
        {
          "output_type": "stream",
          "text": [
            "   data1 key\n",
            "0      0   b\n",
            "1      1   b\n",
            "2      2   a\n",
            "3      3   c\n",
            "4      4   a\n",
            "5      5   a\n",
            "6      6   b\n",
            "\n",
            "  key  data2\n",
            "0   a      0\n",
            "1   b      1\n",
            "2   d      2\n",
            "\n",
            "   data1 key  data2\n",
            "0      0   b      1\n",
            "1      1   b      1\n",
            "2      6   b      1\n",
            "3      2   a      0\n",
            "4      4   a      0\n",
            "5      5   a      0\n",
            "\n",
            "   data1 key  data2\n",
            "0      0   b      1\n",
            "1      1   b      1\n",
            "2      6   b      1\n",
            "3      2   a      0\n",
            "4      4   a      0\n",
            "5      5   a      0\n",
            "\n",
            "   data1 key  data2\n",
            "0    0.0   b    1.0\n",
            "1    1.0   b    1.0\n",
            "2    6.0   b    1.0\n",
            "3    2.0   a    0.0\n",
            "4    4.0   a    0.0\n",
            "5    5.0   a    0.0\n",
            "6    3.0   c    NaN\n",
            "7    NaN   d    2.0\n",
            "\n",
            "   data1 key  data2\n",
            "0      0   b    1.0\n",
            "1      1   b    1.0\n",
            "2      2   a    0.0\n",
            "3      3   c    NaN\n",
            "4      4   a    0.0\n",
            "5      5   a    0.0\n",
            "6      6   b    1.0\n",
            "\n",
            "   data1 key  data2\n",
            "0    2.0   a      0\n",
            "1    4.0   a      0\n",
            "2    5.0   a      0\n",
            "3    0.0   b      1\n",
            "4    1.0   b      1\n",
            "5    6.0   b      1\n",
            "6    NaN   d      2\n"
          ],
          "name": "stdout"
        }
      ]
    },
    {
      "cell_type": "markdown",
      "metadata": {
        "id": "xCfXN5ldmSOA"
      },
      "source": [
        "<br>\n",
        "\n",
        "### 🌼 공통 컬럼이 없는 경우\n",
        "\n",
        "`.concat()`"
      ]
    },
    {
      "cell_type": "code",
      "metadata": {
        "colab": {
          "base_uri": "https://localhost:8080/"
        },
        "id": "tiBO1GxLlFsX",
        "outputId": "57b19d2f-31d1-489c-bece-3ae917b09858"
      },
      "source": [
        "df3 = pd.DataFrame({'key2':['a','b','d'], 'data2':range(3)}) #df1, df2와 공통 컬럼X\n",
        "print(df3)\n",
        "print()\n",
        "\n",
        "#INNER JOIN\n",
        "print(pd.merge(df1, df3, left_on='key', right_on='key2'))\n",
        "print()\n",
        "\n",
        "print(pd.concat([df1, df3])) #대응되지 않으면 NaN\n",
        "print()\n",
        "\n",
        "#이어붙이기\n",
        "print(pd.concat([df1, df3], axis=0))\n",
        "print()\n",
        "print(pd.concat([df1, df3], axis=1))\n",
        "print()"
      ],
      "execution_count": null,
      "outputs": [
        {
          "output_type": "stream",
          "text": [
            "  key2  data2\n",
            "0    a      0\n",
            "1    b      1\n",
            "2    d      2\n",
            "\n",
            "   data1 key key2  data2\n",
            "0      0   b    b      1\n",
            "1      1   b    b      1\n",
            "2      6   b    b      1\n",
            "3      2   a    a      0\n",
            "4      4   a    a      0\n",
            "5      5   a    a      0\n",
            "\n",
            "   data1  key key2  data2\n",
            "0    0.0    b  NaN    NaN\n",
            "1    1.0    b  NaN    NaN\n",
            "2    2.0    a  NaN    NaN\n",
            "3    3.0    c  NaN    NaN\n",
            "4    4.0    a  NaN    NaN\n",
            "5    5.0    a  NaN    NaN\n",
            "6    6.0    b  NaN    NaN\n",
            "0    NaN  NaN    a    0.0\n",
            "1    NaN  NaN    b    1.0\n",
            "2    NaN  NaN    d    2.0\n",
            "\n",
            "   data1  key key2  data2\n",
            "0    0.0    b  NaN    NaN\n",
            "1    1.0    b  NaN    NaN\n",
            "2    2.0    a  NaN    NaN\n",
            "3    3.0    c  NaN    NaN\n",
            "4    4.0    a  NaN    NaN\n",
            "5    5.0    a  NaN    NaN\n",
            "6    6.0    b  NaN    NaN\n",
            "0    NaN  NaN    a    0.0\n",
            "1    NaN  NaN    b    1.0\n",
            "2    NaN  NaN    d    2.0\n",
            "\n",
            "   data1 key key2  data2\n",
            "0      0   b    a    0.0\n",
            "1      1   b    b    1.0\n",
            "2      2   a    d    2.0\n",
            "3      3   c  NaN    NaN\n",
            "4      4   a  NaN    NaN\n",
            "5      5   a  NaN    NaN\n",
            "6      6   b  NaN    NaN\n",
            "\n"
          ],
          "name": "stdout"
        }
      ]
    },
    {
      "cell_type": "markdown",
      "metadata": {
        "id": "gQf63c4TnaPg"
      },
      "source": [
        "<br>\n",
        "\n",
        "## Series의 병합\n",
        "\n"
      ]
    },
    {
      "cell_type": "code",
      "metadata": {
        "colab": {
          "base_uri": "https://localhost:8080/"
        },
        "id": "WwHW033XnSgV",
        "outputId": "9477afce-2e10-452e-874c-126d8684a5e1"
      },
      "source": [
        "s1 = pd.Series([0,1], index = ['a','b'])\n",
        "s2 = pd.Series([2,3,4], index = ['c','d','e'])\n",
        "s3 = pd.Series([5,6], index = ['f','g'])\n",
        "\n",
        "print(pd.concat([s1, s2, s3], axis=0))"
      ],
      "execution_count": null,
      "outputs": [
        {
          "output_type": "stream",
          "text": [
            "a    0\n",
            "b    1\n",
            "c    2\n",
            "d    3\n",
            "e    4\n",
            "f    5\n",
            "g    6\n",
            "dtype: int64\n"
          ],
          "name": "stdout"
        }
      ]
    },
    {
      "cell_type": "markdown",
      "metadata": {
        "id": "N6tMQJMDr75L"
      },
      "source": [
        "\n",
        "<br>\n",
        "\n",
        "## 👉 **Pivot table 피벗테이블**\n",
        "\n",
        "데이터의 행렬을 재구성하여 연산 후 결과를 출력\n",
        "\n"
      ]
    },
    {
      "cell_type": "code",
      "metadata": {
        "colab": {
          "base_uri": "https://localhost:8080/"
        },
        "id": "hbRBYoQun4WI",
        "outputId": "1e3cfa23-d6a5-4d4e-a4fc-a885b2b3b2b2"
      },
      "source": [
        "data = {'city':['강남','강북','강남','강북'],\n",
        "        'year':[2000,2001,2002,2002],\n",
        "        'pop':[3.3,2.5,3.0,2.0]}\n",
        "\n",
        "df = pd.DataFrame(data)\n",
        "print(df)\n",
        "print()\n",
        "print(df['pop'].describe())"
      ],
      "execution_count": null,
      "outputs": [
        {
          "output_type": "stream",
          "text": [
            "  city  year  pop\n",
            "0   강남  2000  3.3\n",
            "1   강북  2001  2.5\n",
            "2   강남  2002  3.0\n",
            "3   강북  2002  2.0\n",
            "\n",
            "count    4.000000\n",
            "mean     2.700000\n",
            "std      0.571548\n",
            "min      2.000000\n",
            "25%      2.375000\n",
            "50%      2.750000\n",
            "75%      3.075000\n",
            "max      3.300000\n",
            "Name: pop, dtype: float64\n"
          ],
          "name": "stdout"
        }
      ]
    },
    {
      "cell_type": "markdown",
      "metadata": {
        "id": "NKzyb8PCvG_I"
      },
      "source": [
        "<br>\n",
        "\n",
        "### `.pivot()`\n",
        "\n"
      ]
    },
    {
      "cell_type": "code",
      "metadata": {
        "colab": {
          "base_uri": "https://localhost:8080/"
        },
        "id": "nirmlhopsxWU",
        "outputId": "ce78b334-6759-458e-efba-7e7e1fb3d4a2"
      },
      "source": [
        "print(df.pivot('city','year','pop'))  #행,열,계산할 컬럼. 구조를 재구성하여 출력\n",
        "print()\n",
        "print(df.set_index(['city','year']).unstack())  #.set_index() : 기존의 행 index를 제거하고 첫번째 열을 인덱스로 설정\n",
        "print()\n",
        "\n",
        "print(df.pivot('year','city','pop'))\n",
        "print()\n",
        "print(df.set_index(['year','city']).unstack()) \n",
        "print()"
      ],
      "execution_count": null,
      "outputs": [
        {
          "output_type": "stream",
          "text": [
            "year  2000  2001  2002\n",
            "city                  \n",
            "강남     3.3   NaN   3.0\n",
            "강북     NaN   2.5   2.0\n",
            "\n",
            "      pop          \n",
            "year 2000 2001 2002\n",
            "city               \n",
            "강남    3.3  NaN  3.0\n",
            "강북    NaN  2.5  2.0\n",
            "\n",
            "city   강남   강북\n",
            "year          \n",
            "2000  3.3  NaN\n",
            "2001  NaN  2.5\n",
            "2002  3.0  2.0\n",
            "\n",
            "      pop     \n",
            "city   강남   강북\n",
            "year          \n",
            "2000  3.3  NaN\n",
            "2001  NaN  2.5\n",
            "2002  3.0  2.0\n",
            "\n"
          ],
          "name": "stdout"
        }
      ]
    },
    {
      "cell_type": "markdown",
      "metadata": {
        "id": "vWpCLayLvLzY"
      },
      "source": [
        "<br>\n",
        "\n",
        "### `.pivot_table()` : 연산 가능"
      ]
    },
    {
      "cell_type": "code",
      "metadata": {
        "colab": {
          "base_uri": "https://localhost:8080/"
        },
        "id": "Jm6q4k_ztYp_",
        "outputId": "bd528d06-457e-4984-ef17-9f2ce8cc302c"
      },
      "source": [
        "print(df.pivot_table(index=['city']))\n",
        "print()\n",
        "\n",
        "print(df.pivot_table(index=['city'], aggfunc = np.mean))  #aggfunc=np.mean: 기본값. 위와 동일\n",
        "print()\n",
        "\n",
        "print(df.pivot_table(index=['city','year'], aggfunc = np.mean))\n",
        "print()\n",
        "\n",
        "print(df.pivot_table(index=['city','year'], aggfunc = [len, np.sum]))\n",
        "print()"
      ],
      "execution_count": null,
      "outputs": [
        {
          "output_type": "stream",
          "text": [
            "       pop    year\n",
            "city              \n",
            "강남    3.15  2001.0\n",
            "강북    2.25  2001.5\n",
            "\n",
            "       pop    year\n",
            "city              \n",
            "강남    3.15  2001.0\n",
            "강북    2.25  2001.5\n",
            "\n",
            "           pop\n",
            "city year     \n",
            "강남   2000  3.3\n",
            "     2002  3.0\n",
            "강북   2001  2.5\n",
            "     2002  2.0\n",
            "\n",
            "           len  sum\n",
            "           pop  pop\n",
            "city year          \n",
            "강남   2000  1.0  3.3\n",
            "     2002  1.0  3.0\n",
            "강북   2001  1.0  2.5\n",
            "     2002  1.0  2.0\n",
            "\n"
          ],
          "name": "stdout"
        }
      ]
    },
    {
      "cell_type": "code",
      "metadata": {
        "colab": {
          "base_uri": "https://localhost:8080/"
        },
        "id": "F5HC366BvxM_",
        "outputId": "a04e5eef-7cc4-4cff-8776-33ffb0a3e166"
      },
      "source": [
        "#연산 대상 지정\n",
        "print(df.pivot_table(values=['pop'], index='city', aggfunc=np.mean))  \n",
        "print()\n",
        "\n",
        "print(df.pivot_table(values=['pop'], index='city', aggfunc = len))\n",
        "print()\n",
        "\n",
        "print(df.pivot_table(values=['pop'], index='year', columns='city'))\n",
        "print()\n",
        "\n",
        "print(df.pivot_table(values=['pop'], index='year', columns='city', margins=True))\n",
        "print()\n",
        "\n",
        "print(df.pivot_table(values=['pop'], index='year', columns='city', margins=True, fill_value=0))"
      ],
      "execution_count": null,
      "outputs": [
        {
          "output_type": "stream",
          "text": [
            "       pop\n",
            "city      \n",
            "강남    3.15\n",
            "강북    2.25\n",
            "\n",
            "      pop\n",
            "city     \n",
            "강남    2.0\n",
            "강북    2.0\n",
            "\n",
            "      pop     \n",
            "city   강남   강북\n",
            "year          \n",
            "2000  3.3  NaN\n",
            "2001  NaN  2.5\n",
            "2002  3.0  2.0\n",
            "\n",
            "       pop           \n",
            "city    강남    강북  All\n",
            "year                 \n",
            "2000  3.30   NaN  3.3\n",
            "2001   NaN  2.50  2.5\n",
            "2002  3.00  2.00  2.5\n",
            "All   3.15  2.25  2.7\n",
            "\n",
            "       pop           \n",
            "city    강남    강북  All\n",
            "year                 \n",
            "2000  3.30  0.00  3.3\n",
            "2001  0.00  2.50  2.5\n",
            "2002  3.00  2.00  2.5\n",
            "All   3.15  2.25  2.7\n"
          ],
          "name": "stdout"
        }
      ]
    },
    {
      "cell_type": "code",
      "metadata": {
        "colab": {
          "base_uri": "https://localhost:8080/"
        },
        "id": "jB4TS7e_wgUR",
        "outputId": "8bec5cf4-9f51-4316-acee-8271d50518fd"
      },
      "source": [
        "#groupby 사용\n",
        "hap = df.groupby(['city'])\n",
        "print(hap)\n",
        "print(hap.sum())\n",
        "print()\n",
        "\n",
        "print(df.groupby(['city']).sum())  #한 줄로 표현\n",
        "print()\n",
        "\n",
        "print(df.groupby(['city','year']).sum())"
      ],
      "execution_count": null,
      "outputs": [
        {
          "output_type": "stream",
          "text": [
            "<pandas.core.groupby.generic.DataFrameGroupBy object at 0x7f1bcfe20e50>\n",
            "      year  pop\n",
            "city           \n",
            "강남    4002  6.3\n",
            "강북    4003  4.5\n",
            "\n",
            "      year  pop\n",
            "city           \n",
            "강남    4002  6.3\n",
            "강북    4003  4.5\n",
            "\n",
            "           pop\n",
            "city year     \n",
            "강남   2000  3.3\n",
            "     2002  3.0\n",
            "강북   2001  2.5\n",
            "     2002  2.0\n"
          ],
          "name": "stdout"
        }
      ]
    },
    {
      "cell_type": "markdown",
      "metadata": {
        "id": "X8UqVB5gzlAs"
      },
      "source": [
        "<br>\n",
        "\n",
        "# 📝 **Pandas File I/O**"
      ]
    },
    {
      "cell_type": "markdown",
      "metadata": {
        "id": "-LPi9SRQb7uu"
      },
      "source": [
        "<br>\n",
        "\n",
        "## 👉 파일 읽기\n"
      ]
    },
    {
      "cell_type": "code",
      "metadata": {
        "colab": {
          "base_uri": "https://localhost:8080/"
        },
        "id": "nTcVlVPSzicA",
        "outputId": "b602ca29-0952-46b1-bd2c-5b8198ca46df"
      },
      "source": [
        "import pandas as pd\n",
        "\n",
        "#df = pd.read_csv('../testdata/ex1.csv')\n",
        "df = pd.read_csv('https://raw.githubusercontent.com/pykwon/python/master/testdata_utf8/ex1.csv')\n",
        "print(df, type(df))\n",
        "print()\n",
        "\n",
        "df = pd.read_table('https://raw.githubusercontent.com/pykwon/python/master/testdata_utf8/ex1.csv', sep=',')\n",
        "print(df)\n",
        "print()\n",
        "\n",
        "#df = pd.read_csv('https://raw.githubusercontent.com/pykwon/python/master/testdata_utf8/ex2.csv')\n",
        "df = pd.read_csv('https://raw.githubusercontent.com/pykwon/python/master/testdata_utf8/ex2.csv', header=None)\n",
        "print(df)\n",
        "print()\n",
        "\n",
        "df = pd.read_csv('https://raw.githubusercontent.com/pykwon/python/master/testdata_utf8/ex2.csv', header=None, names=['a','b'])\n",
        "print(df)  #뒤에서부터 컬럼명 부여\n",
        "print()\n",
        "\n",
        "df = pd.read_csv('https://raw.githubusercontent.com/pykwon/python/master/testdata_utf8/ex2.csv', header=None, names=['a','b','c','d','e'])\n",
        "print(df)  #컬럼명부여\n",
        "print()\n",
        "\n",
        "df = pd.read_csv('https://raw.githubusercontent.com/pykwon/python/master/testdata_utf8/ex2.csv', header=None, names=['a','b','c','d','msg'],\n",
        "                 index_col = 'msg')  #msg 컬럼을 행 인덱스로\n",
        "print(df)"
      ],
      "execution_count": null,
      "outputs": [
        {
          "output_type": "stream",
          "text": [
            "   bunho irum  kor  eng\n",
            "0      1  홍길동   90   90\n",
            "1      2  신기해   95   80\n",
            "2      3  한국인  100   85\n",
            "3      4  박치기   67   54\n",
            "4      5  마당쇠   55  100 <class 'pandas.core.frame.DataFrame'>\n",
            "\n",
            "   bunho irum  kor  eng\n",
            "0      1  홍길동   90   90\n",
            "1      2  신기해   95   80\n",
            "2      3  한국인  100   85\n",
            "3      4  박치기   67   54\n",
            "4      5  마당쇠   55  100\n",
            "\n",
            "   0   1   2   3      4\n",
            "0  1   2   3   4  hello\n",
            "1  5   6   7   8  world\n",
            "2  9  10  11  12    foo\n",
            "\n",
            "          a      b\n",
            "1 2  3    4  hello\n",
            "5 6  7    8  world\n",
            "9 10 11  12    foo\n",
            "\n",
            "   a   b   c   d      e\n",
            "0  1   2   3   4  hello\n",
            "1  5   6   7   8  world\n",
            "2  9  10  11  12    foo\n",
            "\n",
            "       a   b   c   d\n",
            "msg                 \n",
            "hello  1   2   3   4\n",
            "world  5   6   7   8\n",
            "foo    9  10  11  12\n"
          ],
          "name": "stdout"
        }
      ]
    },
    {
      "cell_type": "code",
      "metadata": {
        "colab": {
          "base_uri": "https://localhost:8080/"
        },
        "id": "TBMOs0Fs0AtN",
        "outputId": "098fdc34-43ca-485e-fdc9-8620d33f96e4"
      },
      "source": [
        "#df = pd.read_csv('https://raw.githubusercontent.com/pykwon/python/master/testdata_utf8/ex3.txt')\n",
        "print(df)\n",
        "print()\n",
        "\n",
        "df = pd.read_table('https://raw.githubusercontent.com/pykwon/python/master/testdata_utf8/ex3.txt', sep='\\s+') #공백이 0개 이상. 정규표현식 사용\n",
        "print(df)\n",
        "print()\n",
        "\n",
        "df = pd.read_table('https://raw.githubusercontent.com/pykwon/python/master/testdata_utf8/ex3.txt', sep='\\s+',\n",
        "                   skiprows=[1, 3])  #1행, 3행 제외 \n",
        "print(df)\n",
        "print()"
      ],
      "execution_count": null,
      "outputs": [
        {
          "output_type": "stream",
          "text": [
            "       a   b   c   d\n",
            "msg                 \n",
            "hello  1   2   3   4\n",
            "world  5   6   7   8\n",
            "foo    9  10  11  12\n",
            "\n",
            "            A         B         C\n",
            "aaa -0.264438 -1.026059 -0.619500\n",
            "bbb  0.927272  0.302904 -0.032399\n",
            "ccc -0.264273 -0.386314 -0.217601\n",
            "ddd -0.871858 -0.348382  1.100491\n",
            "\n",
            "            A         B         C\n",
            "bbb  0.927272  0.302904 -0.032399\n",
            "ddd -0.871858 -0.348382  1.100491\n",
            "\n"
          ],
          "name": "stdout"
        }
      ]
    },
    {
      "cell_type": "code",
      "metadata": {
        "colab": {
          "base_uri": "https://localhost:8080/"
        },
        "id": "Fs9QqReR17An",
        "outputId": "6b4fd4cc-70b5-449e-9574-b0e2f7273f4d"
      },
      "source": [
        "abc = pd.read_fwf('https://raw.githubusercontent.com/pykwon/python/master/testdata_utf8/data_fwt.txt', \n",
        "                  widths=(10, 3, 5), encoding='utf-8', header=None, names=('date','name','price'))\n",
        "\n",
        "print(abc)\n",
        "print()\n",
        "print(abc['date'])"
      ],
      "execution_count": null,
      "outputs": [
        {
          "output_type": "stream",
          "text": [
            "         date name  price\n",
            "0  2017-04-10  네이버  32000\n",
            "1  2017-04-11  네이버  34000\n",
            "2  2017-04-12  네이버  33000\n",
            "3  2017-04-10  코리아  22000\n",
            "4  2017-04-11  코리아  21000\n",
            "5  2017-04-12  코리아  24000\n",
            "\n",
            "0    2017-04-10\n",
            "1    2017-04-11\n",
            "2    2017-04-12\n",
            "3    2017-04-10\n",
            "4    2017-04-11\n",
            "5    2017-04-12\n",
            "Name: date, dtype: object\n"
          ],
          "name": "stdout"
        }
      ]
    },
    {
      "cell_type": "markdown",
      "metadata": {
        "id": "cQ5W_l7TaFQ2"
      },
      "source": [
        "<br>\n",
        "\n",
        "## Chunk 단위로 파일 읽기\n"
      ]
    },
    {
      "cell_type": "code",
      "metadata": {
        "id": "nG9ifNGfiaaW"
      },
      "source": [
        "import pandas as pd"
      ],
      "execution_count": null,
      "outputs": []
    },
    {
      "cell_type": "code",
      "metadata": {
        "id": "tv6wzpnk3SVS",
        "colab": {
          "base_uri": "https://localhost:8080/"
        },
        "outputId": "d283e4c1-3eda-4235-c592-ef8bb96f2750"
      },
      "source": [
        "#객체로 생성\n",
        "abc = pd.read_csv('https://raw.githubusercontent.com/pykwon/python/master/testdata_utf8/data_csv2.csv', header=None, chunksize=3)\n",
        "print(abc)\n",
        "print()\n",
        "\n",
        "for piece in abc:\n",
        "  #print(piece)\n",
        "  print(piece.sort_values(by=2, ascending=True))"
      ],
      "execution_count": null,
      "outputs": [
        {
          "output_type": "stream",
          "text": [
            "<pandas.io.parsers.TextFileReader object at 0x7f1bcfe58950>\n",
            "\n",
            "   0    1     2\n",
            "2  3  바나나  1000\n",
            "0  1   사과  3500\n",
            "1  2    배  5000\n",
            "   0      1     2\n",
            "4  5     참외  2000\n",
            "5  6  에스프레소  5500\n",
            "3  4     수박  7000\n",
            "   0      1     2\n",
            "6  7  아메리카노  2000\n",
            "7  8   카페라떼  4000\n",
            "8  9   카푸치노  4000\n",
            "    0     1     2\n",
            "9  10  카페모카  5000\n"
          ],
          "name": "stdout"
        }
      ]
    },
    {
      "cell_type": "markdown",
      "metadata": {
        "id": "uUVT3VttcBnU"
      },
      "source": [
        "<br>\n",
        "\n",
        "## 👉 파일 저장\n"
      ]
    },
    {
      "cell_type": "markdown",
      "metadata": {
        "id": "nGlbsTqFeooS"
      },
      "source": [
        "\n",
        "### HTML로 내보내기\n"
      ]
    },
    {
      "cell_type": "code",
      "metadata": {
        "colab": {
          "base_uri": "https://localhost:8080/"
        },
        "id": "udDv8StDas9T",
        "outputId": "39d73226-cad2-470d-9d10-55e49ea411ed"
      },
      "source": [
        "import pandas as pd\n",
        "\n",
        "items = {'apple':{'count':10, 'price':2000}, 'orange':{'count':5, 'price':1000}}\n",
        "df = pd.DataFrame(items)\n",
        "print(df)\n",
        "\n",
        "print(df.to_html())"
      ],
      "execution_count": null,
      "outputs": [
        {
          "output_type": "stream",
          "text": [
            "       apple  orange\n",
            "count     10       5\n",
            "price   2000    1000\n",
            "<table border=\"1\" class=\"dataframe\">\n",
            "  <thead>\n",
            "    <tr style=\"text-align: right;\">\n",
            "      <th></th>\n",
            "      <th>apple</th>\n",
            "      <th>orange</th>\n",
            "    </tr>\n",
            "  </thead>\n",
            "  <tbody>\n",
            "    <tr>\n",
            "      <th>count</th>\n",
            "      <td>10</td>\n",
            "      <td>5</td>\n",
            "    </tr>\n",
            "    <tr>\n",
            "      <th>price</th>\n",
            "      <td>2000</td>\n",
            "      <td>1000</td>\n",
            "    </tr>\n",
            "  </tbody>\n",
            "</table>\n"
          ],
          "name": "stdout"
        }
      ]
    },
    {
      "cell_type": "markdown",
      "metadata": {
        "id": "DGddYKpgesKA"
      },
      "source": [
        "<br>\n",
        "\n",
        "### CSV로 내보내기\n"
      ]
    },
    {
      "cell_type": "code",
      "metadata": {
        "colab": {
          "base_uri": "https://localhost:8080/"
        },
        "id": "hzRMQCwvcX6t",
        "outputId": "e40007b3-0743-4382-ac55-621954e71975"
      },
      "source": [
        "df.to_csv('/content/drive/MyDrive/work/aa1.csv', sep=',')\n",
        "df.to_csv('aa2.csv', sep=',', index=False)\n",
        "df.to_csv('aa3.csv', sep=',', index=False, header=False)\n",
        "\n",
        "data = df.T\n",
        "data.to_csv('aa4.csv', sep=',', index=False, header=True)\n",
        "print(pd.read_csv('aa4.csv'))"
      ],
      "execution_count": null,
      "outputs": [
        {
          "output_type": "stream",
          "text": [
            "   count  price\n",
            "0     10   2000\n",
            "1      5   1000\n"
          ],
          "name": "stdout"
        }
      ]
    },
    {
      "cell_type": "markdown",
      "metadata": {
        "id": "LrgmuPDvewSy"
      },
      "source": [
        "<br>\n",
        "\n",
        "### Excel로 내보내기\n",
        "\n"
      ]
    },
    {
      "cell_type": "code",
      "metadata": {
        "colab": {
          "base_uri": "https://localhost:8080/"
        },
        "id": "gjE-sy7OlJ_H",
        "outputId": "0e5aad4b-d7e6-4313-8296-5ac0198a15af"
      },
      "source": [
        "!pip install xlsxwriter"
      ],
      "execution_count": null,
      "outputs": [
        {
          "output_type": "stream",
          "text": [
            "Collecting xlsxwriter\n",
            "\u001b[?25l  Downloading https://files.pythonhosted.org/packages/2c/ce/74fd8d638a5b82ea0c6f08a5978f741c2655a38c3d6e82f73a0f084377e6/XlsxWriter-1.4.3-py2.py3-none-any.whl (149kB)\n",
            "\r\u001b[K     |██▏                             | 10kB 15.5MB/s eta 0:00:01\r\u001b[K     |████▍                           | 20kB 20.9MB/s eta 0:00:01\r\u001b[K     |██████▋                         | 30kB 19.7MB/s eta 0:00:01\r\u001b[K     |████████▊                       | 40kB 17.3MB/s eta 0:00:01\r\u001b[K     |███████████                     | 51kB 7.9MB/s eta 0:00:01\r\u001b[K     |█████████████▏                  | 61kB 8.4MB/s eta 0:00:01\r\u001b[K     |███████████████▍                | 71kB 8.0MB/s eta 0:00:01\r\u001b[K     |█████████████████▌              | 81kB 8.7MB/s eta 0:00:01\r\u001b[K     |███████████████████▊            | 92kB 8.3MB/s eta 0:00:01\r\u001b[K     |██████████████████████          | 102kB 7.1MB/s eta 0:00:01\r\u001b[K     |████████████████████████▏       | 112kB 7.1MB/s eta 0:00:01\r\u001b[K     |██████████████████████████▎     | 122kB 7.1MB/s eta 0:00:01\r\u001b[K     |████████████████████████████▌   | 133kB 7.1MB/s eta 0:00:01\r\u001b[K     |██████████████████████████████▊ | 143kB 7.1MB/s eta 0:00:01\r\u001b[K     |████████████████████████████████| 153kB 7.1MB/s \n",
            "\u001b[?25hInstalling collected packages: xlsxwriter\n",
            "Successfully installed xlsxwriter-1.4.3\n"
          ],
          "name": "stdout"
        }
      ]
    },
    {
      "cell_type": "code",
      "metadata": {
        "colab": {
          "base_uri": "https://localhost:8080/"
        },
        "id": "sOo59Mi4e4ci",
        "outputId": "ad1c45a7-36a8-4e24-f1f9-fbee58a85f03"
      },
      "source": [
        "df2 = pd.DataFrame({'data':[10, 20, 30, 30, 15]})\n",
        "print(df2)\n",
        "print()\n",
        "\n",
        "#1)\n",
        "#Excel 파일을 다룰 때는 반드시 sheet name을 써줘야한다.\n",
        "writer = pd.ExcelWriter('aa5.xlsx', engine='xlsxwriter')\n",
        "df2.to_excel(writer, sheet_name='Sheet1')\n",
        "writer.save()\n",
        "\n",
        "#2)\n",
        "df2.to_excel('aa55.xlsx')\n",
        "\n",
        "#3) Excel File 읽기\n",
        "kbb = pd.ExcelFile('aa55.xlsx')\n",
        "print(kbb.sheet_names)\n",
        "df3 = kbb.parse('Sheet1')\n",
        "print(df3)\n",
        "print()\n",
        "\n",
        "#4)encoding\n",
        "df4 = pd.read_excel('aa5.xlsx', sheet_name='Sheet1')\n",
        "print(df4)"
      ],
      "execution_count": null,
      "outputs": [
        {
          "output_type": "stream",
          "text": [
            "   data\n",
            "0    10\n",
            "1    20\n",
            "2    30\n",
            "3    30\n",
            "4    15\n",
            "\n",
            "['Sheet1']\n",
            "   Unnamed: 0  data\n",
            "0           0    10\n",
            "1           1    20\n",
            "2           2    30\n",
            "3           3    30\n",
            "4           4    15\n",
            "\n",
            "   Unnamed: 0  data\n",
            "0           0    10\n",
            "1           1    20\n",
            "2           2    30\n",
            "3           3    30\n",
            "4           4    15\n"
          ],
          "name": "stdout"
        }
      ]
    },
    {
      "cell_type": "code",
      "metadata": {
        "id": "GFeraWlvfDNd"
      },
      "source": [
        ""
      ],
      "execution_count": null,
      "outputs": []
    }
  ]
}