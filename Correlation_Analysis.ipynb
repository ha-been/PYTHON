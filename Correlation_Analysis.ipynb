{
  "nbformat": 4,
  "nbformat_minor": 0,
  "metadata": {
    "colab": {
      "name": "Correlation Analysis.ipynb",
      "provenance": [],
      "collapsed_sections": [],
      "toc_visible": true,
      "mount_file_id": "1k7cSFbcLaVeeV9HAoI5RppMW3WkQtMhq",
      "authorship_tag": "ABX9TyOzcWYTflpYufzcfKI3P2LL"
    },
    "kernelspec": {
      "name": "python3",
      "display_name": "Python 3"
    },
    "language_info": {
      "name": "python"
    }
  },
  "cells": [
    {
      "cell_type": "markdown",
      "metadata": {
        "id": "8d4EVqtbodG6"
      },
      "source": [
        "<br>\n",
        "\n",
        "# **상관관계 분석 (Correlation Analysis)**  \n",
        "\n",
        "두 개의 변수가 서로 관련이 있는지 확인한다.  \n",
        "\n",
        "\n",
        "\n",
        "\n"
      ]
    },
    {
      "cell_type": "markdown",
      "metadata": {
        "id": "nd5J-_NhzQCc"
      },
      "source": [
        "<br>\n",
        "\n",
        "## 🔸 공분산  \n"
      ]
    },
    {
      "cell_type": "markdown",
      "metadata": {
        "id": "ySmHFfGz049K"
      },
      "source": [
        "변수가 하나일 때 분산은 거리와 관련이 있다.  \n",
        "변수가 두개일 때는 거리와 방향을 갖게 된다.\n"
      ]
    },
    {
      "cell_type": "code",
      "metadata": {
        "colab": {
          "base_uri": "https://localhost:8080/"
        },
        "id": "WJsNtirjpRK8",
        "outputId": "a90c8009-7405-499a-8296-32ef491d3aee"
      },
      "source": [
        "import numpy as np\n",
        "\n",
        "print(np.var(np.arange(1, 6)))\n",
        "print(np.var(np.arange(2, 7)))\n",
        "\n",
        "print(np.cov(np.arange(1,6), np.arange(2,7)))\n",
        "print(np.cov(np.arange(1,6), (3,3,3,3,3)))\n",
        "print(np.cov(np.arange(1,6), np.arange(6,1,-1)))"
      ],
      "execution_count": null,
      "outputs": [
        {
          "output_type": "stream",
          "text": [
            "2.0\n",
            "2.0\n",
            "[[2.5 2.5]\n",
            " [2.5 2.5]]\n",
            "[[2.5 0. ]\n",
            " [0.  0. ]]\n",
            "[[ 2.5 -2.5]\n",
            " [-2.5  2.5]]\n"
          ],
          "name": "stdout"
        }
      ]
    },
    {
      "cell_type": "code",
      "metadata": {
        "colab": {
          "base_uri": "https://localhost:8080/"
        },
        "id": "5iRK1qDuzb3f",
        "outputId": "c35572a4-41ec-46db-eda0-202350f406d2"
      },
      "source": [
        "x = [8,3,6,6,9,4,3,9,3,4]\n",
        "print('x평균:', np.mean(x))\n",
        "print('x분산:', np.var(x))\n",
        "print()\n",
        "\n",
        "y = [6,2,4,6,9,5,1,8,4,5]\n",
        "print('y평균:', np.mean(y))\n",
        "print('y분산:', np.var(y))\n",
        "print()\n",
        "\n",
        "#공분산\n",
        "print('x와 y의 공분산 행렬:', np.cov(x,y))\n",
        "print('x와 y의 공분산:', np.cov(x,y)[0, 1])"
      ],
      "execution_count": null,
      "outputs": [
        {
          "output_type": "stream",
          "text": [
            "x평균: 5.5\n",
            "x분산: 5.45\n",
            "\n",
            "y평균: 5.0\n",
            "y분산: 5.4\n",
            "\n",
            "x와 y의 공분산 행렬: [[6.05555556 5.22222222]\n",
            " [5.22222222 6.        ]]\n",
            "x와 y의 공분산: 5.222222222222222\n"
          ],
          "name": "stdout"
        }
      ]
    },
    {
      "cell_type": "markdown",
      "metadata": {
        "id": "cNc1fz6x2pZR"
      },
      "source": [
        "\n",
        "두 확률변수가 양의 상관관계를 갖는 것을 확인할 수 있다.  \n",
        "\n",
        "\n"
      ]
    },
    {
      "cell_type": "markdown",
      "metadata": {
        "id": "jrS3wg_s3yMh"
      },
      "source": [
        "\n",
        "공분산만으로는 상관관계가 얼마나 강한 지, 혹은 약한 지는 알 수 없다. 단위에 따라 공분산의 크기가 달라지므로 절대적 크기로는 판단이 어렵다.   \n",
        "\n",
        "-> 상관계수로 비교하여 판단한다. 공분산을 표준화한 것이 상관계수이다. 상관계수를 이용하여 확인하면 상관관계의 강도(세기)를 알 수 있다.  \n",
        "\n"
      ]
    },
    {
      "cell_type": "markdown",
      "metadata": {
        "id": "JpcCYhGY4Y74"
      },
      "source": [
        "<br>\n",
        "\n",
        "## 🔸 상관계수 \n",
        "\n",
        "상관관계의 방향과 세기를 모두 알 수 있다.  \n",
        "\n",
        "r = X와 Y가 함께 변하는 정도 (공분산) / X와 Y가 각각 변하는 정도 (각각의 분산)\n",
        "\n",
        "일반적으로  \n",
        "> r이 -1.0과 -0.7 사이이면, 강한 음적 선형관계,  \n",
        "r이 -0.7과 -0.3 사이이면, 뚜렷한 음적 선형관계,  \n",
        "r이 -0.3과 -0.1 사이이면, 약한 음적 선형관계,  \n",
        "r이 -0.1과 +0.1 사이이면, 거의 무시될 수 있는 선형관계,  \n",
        "r이 +0.1과 +0.3 사이이면, 약한 양적 선형관계,  \n",
        "r이 +0.3과 +0.7 사이이면, 뚜렷한 양적 선형관계,  \n",
        "r이 +0.7과 +1.0 사이이면, 강한 양적 선형관계  \n",
        "\n"
      ]
    },
    {
      "cell_type": "code",
      "metadata": {
        "colab": {
          "base_uri": "https://localhost:8080/"
        },
        "id": "knU85Do32GxE",
        "outputId": "8d048bb2-e71b-499d-a413-a78b915f7340"
      },
      "source": [
        "print('x와 y의 상관계수 행렬:', np.corrcoef(x,y))\n",
        "print('x와 y의 상관계수:', np.corrcoef(x,y)[0,1])"
      ],
      "execution_count": null,
      "outputs": [
        {
          "output_type": "stream",
          "text": [
            "x와 y의 상관계수 행렬: [[1.         0.86636865]\n",
            " [0.86636865 1.        ]]\n",
            "x와 y의 상관계수: 0.8663686463212855\n"
          ],
          "name": "stdout"
        }
      ]
    },
    {
      "cell_type": "markdown",
      "metadata": {
        "id": "aH1gTY5m2v8w"
      },
      "source": [
        "<br>\n",
        "\n",
        "## 🔸 시각화로 분포 확인 \n",
        "\n"
      ]
    },
    {
      "cell_type": "code",
      "metadata": {
        "colab": {
          "base_uri": "https://localhost:8080/",
          "height": 265
        },
        "id": "OjynEuMz01xG",
        "outputId": "ee1b142f-50cc-4863-fef9-bf9ddd3fd0e8"
      },
      "source": [
        "import matplotlib.pyplot as plt\n",
        "\n",
        "plt.plot(x, y, 'o')\n",
        "plt.show()"
      ],
      "execution_count": null,
      "outputs": [
        {
          "output_type": "display_data",
          "data": {
            "image/png": "[encoded data removed]",
            "text/plain": [
              "<Figure size 432x288 with 1 Axes>"
            ]
          },
          "metadata": {
            "tags": [],
            "needs_background": "light"
          }
        }
      ]
    },
    {
      "cell_type": "markdown",
      "metadata": {
        "id": "zgaHReqN4qvj"
      },
      "source": [
        "<br>\n",
        "\n",
        "## 🔸 데이터가 비선형일 경우 (곡선형태)\n"
      ]
    },
    {
      "cell_type": "code",
      "metadata": {
        "colab": {
          "base_uri": "https://localhost:8080/",
          "height": 301
        },
        "id": "geUovviL4PmD",
        "outputId": "42e003af-3c8b-4bba-fe33-e5a158a360db"
      },
      "source": [
        "m = [-3,-2,-1,0,1,2,3]\n",
        "n = [9,4,1,0,1,4,9]\n",
        "\n",
        "print(np.cov(m,n)[0,1])\n",
        "print(np.corrcoef(m,n)[0,1])\n",
        "\n",
        "plt.plot(m, n, 'o')\n",
        "plt.show()"
      ],
      "execution_count": null,
      "outputs": [
        {
          "output_type": "stream",
          "text": [
            "0.0\n",
            "0.0\n"
          ],
          "name": "stdout"
        },
        {
          "output_type": "display_data",
          "data": {
            "image/png": "[encoded data removed]",
            "text/plain": [
              "<Figure size 432x288 with 1 Axes>"
            ]
          },
          "metadata": {
            "tags": [],
            "needs_background": "light"
          }
        }
      ]
    },
    {
      "cell_type": "markdown",
      "metadata": {
        "id": "cnubO0Wy5DuK"
      },
      "source": [
        "\n",
        "상관계수는 기본적으로 선형데이터로부터 구할 수 있다. 비선형일 때는 공분산과 상관관계수 측정이 곤란하다.  \n",
        "\n",
        "Pearson 상관 계수는 선형 관계만 측정하고 Spearman 상관계수는 단순 관계만 측정한다.  \n",
        "상관계수가 0이어도 의미 있는 관계가 존재할 수 있다는 것이다. \n",
        "그러므로 산점도를 통해 분포를 확인해야 한다.  \n",
        "\n"
      ]
    },
    {
      "cell_type": "markdown",
      "metadata": {
        "id": "oDpw3Fq06x1J"
      },
      "source": [
        "<br>\n",
        "\n",
        "## 실습 1) 친밀도와 적절성에 따른 만족도 \n",
        "\n",
        "\n"
      ]
    },
    {
      "cell_type": "code",
      "metadata": {
        "colab": {
          "base_uri": "https://localhost:8080/"
        },
        "id": "71yYCB184wQi",
        "outputId": "f57e118a-dbf6-4a63-d456-07696b18b736"
      },
      "source": [
        "import pandas as pd\n",
        "import numpy as np\n",
        "import matplotlib.pyplot as plt\n",
        "\n",
        "df = pd.read_csv('/content/drive/MyDrive/testdata/drinking_water.csv')\n",
        "print(df.head(3))\n",
        "print(df.describe())"
      ],
      "execution_count": null,
      "outputs": [
        {
          "output_type": "stream",
          "text": [
            "   친밀도  적절성  만족도\n",
            "0    3    4    3\n",
            "1    3    3    2\n",
            "2    4    4    4\n",
            "              친밀도         적절성         만족도\n",
            "count  264.000000  264.000000  264.000000\n",
            "mean     2.928030    3.132576    3.094697\n",
            "std      0.970345    0.859657    0.828744\n",
            "min      1.000000    1.000000    1.000000\n",
            "25%      2.000000    3.000000    3.000000\n",
            "50%      3.000000    3.000000    3.000000\n",
            "75%      4.000000    4.000000    4.000000\n",
            "max      5.000000    5.000000    5.000000\n"
          ],
          "name": "stdout"
        }
      ]
    },
    {
      "cell_type": "code",
      "metadata": {
        "colab": {
          "base_uri": "https://localhost:8080/"
        },
        "id": "Bqxzqpfj7OA-",
        "outputId": "1bb02714-8411-4b92-f8c1-3f9d07f7279b"
      },
      "source": [
        "#표준편차\n",
        "print(np.std(df.친밀도))\n",
        "print(np.std(df.적절성))\n",
        "print(np.std(df.만족도))"
      ],
      "execution_count": null,
      "outputs": [
        {
          "output_type": "stream",
          "text": [
            "0.968505126935272\n",
            "0.8580277077642035\n",
            "0.8271724742228969\n"
          ],
          "name": "stdout"
        }
      ]
    },
    {
      "cell_type": "code",
      "metadata": {
        "colab": {
          "base_uri": "https://localhost:8080/",
          "height": 190
        },
        "id": "KC6-WhNq7XGP",
        "outputId": "623f738f-aa0b-4aef-94f2-aa647f46184f"
      },
      "source": [
        "plt.hist([np.std(df.친밀도), np.std(df.적절성), np.std(df.만족도)])\n",
        "plt.show()"
      ],
      "execution_count": null,
      "outputs": [
        {
          "output_type": "error",
          "ename": "NameError",
          "evalue": "ignored",
          "traceback": [
            "\u001b[0;31m---------------------------------------------------------------------------\u001b[0m",
            "\u001b[0;31mNameError\u001b[0m                                 Traceback (most recent call last)",
            "\u001b[0;32m<ipython-input-3-e39876bf97fc>\u001b[0m in \u001b[0;36m<module>\u001b[0;34m()\u001b[0m\n\u001b[0;32m----> 1\u001b[0;31m \u001b[0mplt\u001b[0m\u001b[0;34m.\u001b[0m\u001b[0mhist\u001b[0m\u001b[0;34m(\u001b[0m\u001b[0;34m[\u001b[0m\u001b[0mnp\u001b[0m\u001b[0;34m.\u001b[0m\u001b[0mstd\u001b[0m\u001b[0;34m(\u001b[0m\u001b[0mdf\u001b[0m\u001b[0;34m.\u001b[0m\u001b[0m친밀도\u001b[0m\u001b[0;34m)\u001b[0m\u001b[0;34m,\u001b[0m \u001b[0mnp\u001b[0m\u001b[0;34m.\u001b[0m\u001b[0mstd\u001b[0m\u001b[0;34m(\u001b[0m\u001b[0mdf\u001b[0m\u001b[0;34m.\u001b[0m\u001b[0m적절성\u001b[0m\u001b[0;34m)\u001b[0m\u001b[0;34m,\u001b[0m \u001b[0mnp\u001b[0m\u001b[0;34m.\u001b[0m\u001b[0mstd\u001b[0m\u001b[0;34m(\u001b[0m\u001b[0mdf\u001b[0m\u001b[0;34m.\u001b[0m\u001b[0m만족도\u001b[0m\u001b[0;34m)\u001b[0m\u001b[0;34m]\u001b[0m\u001b[0;34m)\u001b[0m\u001b[0;34m\u001b[0m\u001b[0;34m\u001b[0m\u001b[0m\n\u001b[0m\u001b[1;32m      2\u001b[0m \u001b[0mplt\u001b[0m\u001b[0;34m.\u001b[0m\u001b[0mshow\u001b[0m\u001b[0;34m(\u001b[0m\u001b[0;34m)\u001b[0m\u001b[0;34m\u001b[0m\u001b[0;34m\u001b[0m\u001b[0m\n",
            "\u001b[0;31mNameError\u001b[0m: name 'plt' is not defined"
          ]
        }
      ]
    },
    {
      "cell_type": "markdown",
      "metadata": {
        "id": "Db-Z5778_g-k"
      },
      "source": [
        "<br>\n",
        "\n",
        "### 공분산  "
      ]
    },
    {
      "cell_type": "code",
      "metadata": {
        "colab": {
          "base_uri": "https://localhost:8080/"
        },
        "id": "-_CzP2AQ71Iw",
        "outputId": "2543cd74-09ee-46e8-c9af-df3f1dff359d"
      },
      "source": [
        "print(np.cov(df.친밀도, df.적절성))  #np.cov()는 인수를 두 개만 가짐\n",
        "print(np.cov(df.친밀도, df.만족도))\n",
        "print()\n",
        "\n",
        "print(df.cov())"
      ],
      "execution_count": null,
      "outputs": [
        {
          "output_type": "stream",
          "text": [
            "[[0.94156873 0.41642182]\n",
            " [0.41642182 0.73901083]]\n",
            "[[0.94156873 0.37566252]\n",
            " [0.37566252 0.68681588]]\n",
            "\n",
            "          친밀도       적절성       만족도\n",
            "친밀도  0.941569  0.416422  0.375663\n",
            "적절성  0.416422  0.739011  0.546333\n",
            "만족도  0.375663  0.546333  0.686816\n"
          ],
          "name": "stdout"
        }
      ]
    },
    {
      "cell_type": "markdown",
      "metadata": {
        "id": "AzCa2YB3_kcr"
      },
      "source": [
        "<br>\n",
        "\n",
        "### 상관계수  "
      ]
    },
    {
      "cell_type": "code",
      "metadata": {
        "colab": {
          "base_uri": "https://localhost:8080/"
        },
        "id": "MrI_2kfg8Kqf",
        "outputId": "2a5b5de0-60ff-41d8-9c24-08d366dcbba0"
      },
      "source": [
        "print(np.corrcoef(df.친밀도, df.적절성))\n",
        "print(np.corrcoef(df.친밀도, df.만족도))\n",
        "print()\n",
        "\n",
        "print(df.corr())\n",
        "print(df.corr(method='pearson'))   #변수가 등간, 비율척도. 정규성을 따름\n",
        "print(df.corr(method='spearman'))  #변수가 서열척도\n",
        "print(df.corr(method='kendall'))   #spearman과 유사"
      ],
      "execution_count": null,
      "outputs": [
        {
          "output_type": "stream",
          "text": [
            "[[1.         0.49920861]\n",
            " [0.49920861 1.        ]]\n",
            "[[1.         0.46714498]\n",
            " [0.46714498 1.        ]]\n",
            "\n",
            "          친밀도       적절성       만족도\n",
            "친밀도  1.000000  0.499209  0.467145\n",
            "적절성  0.499209  1.000000  0.766853\n",
            "만족도  0.467145  0.766853  1.000000\n",
            "          친밀도       적절성       만족도\n",
            "친밀도  1.000000  0.499209  0.467145\n",
            "적절성  0.499209  1.000000  0.766853\n",
            "만족도  0.467145  0.766853  1.000000\n",
            "          친밀도       적절성       만족도\n",
            "친밀도  1.000000  0.511078  0.501201\n",
            "적절성  0.511078  1.000000  0.748510\n",
            "만족도  0.501201  0.748510  1.000000\n",
            "          친밀도       적절성       만족도\n",
            "친밀도  1.000000  0.466729  0.459353\n",
            "적절성  0.466729  1.000000  0.703214\n",
            "만족도  0.459353  0.703214  1.000000\n"
          ],
          "name": "stdout"
        }
      ]
    },
    {
      "cell_type": "markdown",
      "metadata": {
        "id": "T-5To_Yw_w1U"
      },
      "source": [
        "<br>\n",
        "\n",
        "### 만족도에 대한 다른 특성 사이의 상관관계 파악  \n",
        "\n"
      ]
    },
    {
      "cell_type": "code",
      "metadata": {
        "colab": {
          "base_uri": "https://localhost:8080/"
        },
        "id": "ybW5lTq189JJ",
        "outputId": "338eae1a-b024-4bec-b260-bbbf845743d2"
      },
      "source": [
        "coRe = df.corr()\n",
        "\n",
        "print(coRe['만족도'].sort_values(ascending=False))"
      ],
      "execution_count": null,
      "outputs": [
        {
          "output_type": "stream",
          "text": [
            "만족도    1.000000\n",
            "적절성    0.766853\n",
            "친밀도    0.467145\n",
            "Name: 만족도, dtype: float64\n"
          ],
          "name": "stdout"
        }
      ]
    },
    {
      "cell_type": "markdown",
      "metadata": {
        "id": "CCw6ugqqUt8a"
      },
      "source": [
        "<br>\n",
        "\n",
        "### 시각화\n"
      ]
    },
    {
      "cell_type": "code",
      "metadata": {
        "colab": {
          "base_uri": "https://localhost:8080/"
        },
        "id": "8eFzHKxXVBod",
        "outputId": "2f9d88aa-08fd-4e34-c913-2cbb561eaeee"
      },
      "source": [
        "#그래프를 위한 글꼴설치\n",
        "!sudo apt-get install -y fonts-nanum\n",
        "!sudo fc-cache -fv\n",
        "!rm ~/.cache/matplotlib -rf"
      ],
      "execution_count": null,
      "outputs": [
        {
          "output_type": "stream",
          "text": [
            "Reading package lists... Done\n",
            "Building dependency tree       \n",
            "Reading state information... Done\n",
            "The following NEW packages will be installed:\n",
            "  fonts-nanum\n",
            "0 upgraded, 1 newly installed, 0 to remove and 40 not upgraded.\n",
            "Need to get 9,604 kB of archives.\n",
            "After this operation, 29.5 MB of additional disk space will be used.\n",
            "Get:1 http://archive.ubuntu.com/ubuntu bionic/universe amd64 fonts-nanum all 20170925-1 [9,604 kB]\n",
            "Fetched 9,604 kB in 0s (42.1 MB/s)\n",
            "debconf: unable to initialize frontend: Dialog\n",
            "debconf: (No usable dialog-like program is installed, so the dialog based frontend cannot be used. at /usr/share/perl5/Debconf/FrontEnd/Dialog.pm line 76, <> line 1.)\n",
            "debconf: falling back to frontend: Readline\n",
            "debconf: unable to initialize frontend: Readline\n",
            "debconf: (This frontend requires a controlling tty.)\n",
            "debconf: falling back to frontend: Teletype\n",
            "dpkg-preconfigure: unable to re-open stdin: \n",
            "Selecting previously unselected package fonts-nanum.\n",
            "(Reading database ... 160837 files and directories currently installed.)\n",
            "Preparing to unpack .../fonts-nanum_20170925-1_all.deb ...\n",
            "Unpacking fonts-nanum (20170925-1) ...\n",
            "Setting up fonts-nanum (20170925-1) ...\n",
            "Processing triggers for fontconfig (2.12.6-0ubuntu2) ...\n",
            "/usr/share/fonts: caching, new cache contents: 0 fonts, 1 dirs\n",
            "/usr/share/fonts/truetype: caching, new cache contents: 0 fonts, 3 dirs\n",
            "/usr/share/fonts/truetype/humor-sans: caching, new cache contents: 1 fonts, 0 dirs\n",
            "/usr/share/fonts/truetype/liberation: caching, new cache contents: 16 fonts, 0 dirs\n",
            "/usr/share/fonts/truetype/nanum: caching, new cache contents: 10 fonts, 0 dirs\n",
            "/usr/local/share/fonts: caching, new cache contents: 0 fonts, 0 dirs\n",
            "/root/.local/share/fonts: skipping, no such directory\n",
            "/root/.fonts: skipping, no such directory\n",
            "/var/cache/fontconfig: cleaning cache directory\n",
            "/root/.cache/fontconfig: not cleaning non-existent cache directory\n",
            "/root/.fontconfig: not cleaning non-existent cache directory\n",
            "fc-cache: succeeded\n"
          ],
          "name": "stdout"
        }
      ]
    },
    {
      "cell_type": "code",
      "metadata": {
        "colab": {
          "base_uri": "https://localhost:8080/",
          "height": 279
        },
        "id": "XmhkGvN_ACW7",
        "outputId": "d1192d40-6175-4d15-8e82-eefbebf9b806"
      },
      "source": [
        "import matplotlib.pyplot as plt\n",
        "plt.rc('font', family='NanumBarunGothic')\n",
        "plt.rcParams['axes.unicode_minus'] = False\n",
        "\n",
        "df.plot(kind='scatter', x='만족도', y='적절성')\n",
        "plt.show()"
      ],
      "execution_count": null,
      "outputs": [
        {
          "output_type": "display_data",
          "data": {
            "image/png": "[encoded data removed]",
            "text/plain": [
              "<Figure size 432x288 with 1 Axes>"
            ]
          },
          "metadata": {
            "tags": [],
            "needs_background": "light"
          }
        }
      ]
    },
    {
      "cell_type": "code",
      "metadata": {
        "colab": {
          "base_uri": "https://localhost:8080/",
          "height": 383
        },
        "id": "OPHUXk2OVGjo",
        "outputId": "e8bda897-aacc-4f56-ae84-79e21f0b5fd8"
      },
      "source": [
        "from pandas.plotting import scatter_matrix\n",
        "\n",
        "attr = ['친밀도','적절성','만족도']\n",
        "scatter_matrix(df[attr], figsize = (10, 6))\n",
        "plt.show()"
      ],
      "execution_count": null,
      "outputs": [
        {
          "output_type": "display_data",
          "data": {
            "image/png": "[encoded data removed]",
            "text/plain": [
              "<Figure size 720x432 with 9 Axes>"
            ]
          },
          "metadata": {
            "tags": [],
            "needs_background": "light"
          }
        }
      ]
    },
    {
      "cell_type": "code",
      "metadata": {
        "colab": {
          "base_uri": "https://localhost:8080/",
          "height": 269
        },
        "id": "eMbHyyJPV4Gg",
        "outputId": "a0104b0f-6e2c-4da3-9964-ef8f03f6d719"
      },
      "source": [
        "import seaborn as sns\n",
        "sns.heatmap(df.corr())\n",
        "\n",
        "plt.show()"
      ],
      "execution_count": null,
      "outputs": [
        {
          "output_type": "display_data",
          "data": {
            "image/png": "[encoded data removed]",
            "text/plain": [
              "<Figure size 432x288 with 2 Axes>"
            ]
          },
          "metadata": {
            "tags": [],
            "needs_background": "light"
          }
        }
      ]
    },
    {
      "cell_type": "code",
      "metadata": {
        "colab": {
          "base_uri": "https://localhost:8080/",
          "height": 248
        },
        "id": "JyccRQO4WJ1a",
        "outputId": "92766ce0-dc1c-472f-e6fa-3f47cfb0a5f7"
      },
      "source": [
        "corr = df.corr()\n",
        "mask = np.zeros_like(corr, dtype=np.bool)\n",
        "mask[np.triu_indices_from(mask)] = True\n",
        "vmax = np.abs(corr.values[~mask]).max()\n",
        "\n",
        "fig, ax = plt.subplots()\n",
        "sns.heatmap(corr, mask=mask, vmin=-vmax, vmax=vmax, square=True, linecolor='lightgray', linewidths=1, ax=ax)\n",
        "\n",
        "for i in range(len(corr)):\n",
        "  ax.text(i + 0.5, len(corr) - (i + 0.5), corr.columns[i], ha = 'center', va = 'center', rotation = 45)\n",
        "  for j in range(i + 1, len(corr)):\n",
        "    s = '{:.3f}'.format(corr.values[i, j])\n",
        "    ax.text(j + 0.5, len(corr) - (i + 0.5), s, ha = 'center', va = 'center')\n",
        "\n",
        "ax.axis('off')\n",
        "plt.show()"
      ],
      "execution_count": null,
      "outputs": [
        {
          "output_type": "display_data",
          "data": {
            "image/png": "[encoded data removed]",
            "text/plain": [
              "<Figure size 432x288 with 2 Axes>"
            ]
          },
          "metadata": {
            "tags": [],
            "needs_background": "light"
          }
        }
      ]
    },
    {
      "cell_type": "markdown",
      "metadata": {
        "id": "2KjkygKTbFx_"
      },
      "source": [
        "<br>\n",
        "\n",
        "## 실습 2) 나라별 외국인 방문객 수   \n",
        "\n",
        "국내 유료관광지에 대해 외국인 (일본, 중국, 미국) 방문자료로 \n",
        "\n"
      ]
    },
    {
      "cell_type": "code",
      "metadata": {
        "colab": {
          "base_uri": "https://localhost:8080/",
          "height": 1000
        },
        "id": "MgsNRbihWyPO",
        "outputId": "e7bab275-ce6b-4838-c574-2a3e179d2a94"
      },
      "source": [
        "import json\n",
        "import pandas as pd\n",
        "import numpy as np\n",
        "import matplotlib.pyplot as plt\n",
        "\n",
        "def setScatterChart(tour_table, all_table, tourPoint):\n",
        "  tour = tour_table[tour_table['resNm'] == tourPoint]\n",
        "  #print(tour)  #201101   창덕궁   14137  방문날짜, 방문지, 방문건수\n",
        "\n",
        "  merge_table = pd.merge(tour, all_table, left_index=True, right_index=True)\n",
        "  #print(merge_table)\n",
        "\n",
        "  #시각화\n",
        "  fig = plt.figure()\n",
        "  fig.suptitle(tourPoint + ' 상관관계 분석')\n",
        "\n",
        "  ##중국\n",
        "  plt.subplot(1, 3, 1)\n",
        "  plt.xlabel('중국인 입국수')\n",
        "  plt.ylabel('외국인 입장객수')\n",
        "  lamb1 = lambda p:merge_table['china'].corr(merge_table['ForNum'])\n",
        "  r1 = lamb1(merge_table)\n",
        "  print('r1:', r1)\n",
        "  plt.title('r={:.5f}'.format(r1))\n",
        "  plt.scatter(merge_table['china'], merge_table['ForNum'], s=6, c='red')\n",
        "  #plt.show()\n",
        "\n",
        "  ##일본\n",
        "  plt.subplot(1, 3, 1)\n",
        "  plt.xlabel('일본인 입국수')\n",
        "  plt.ylabel('외국인 입장객수')\n",
        "  lamb2 = lambda p:merge_table['japan'].corr(merge_table['ForNum'])\n",
        "  r2 = lamb2(merge_table)\n",
        "  print('r2:', r2)\n",
        "  plt.title('r={:.5f}'.format(r2))\n",
        "  plt.scatter(merge_table['japan'], merge_table['ForNum'], s=6, c='blue')\n",
        "  #plt.show()\n",
        "\n",
        "  ##미국\n",
        "  plt.subplot(1, 3, 1)\n",
        "  plt.xlabel('미국인 입국수')\n",
        "  plt.ylabel('외국인 입장객수')\n",
        "  lamb3 = lambda p:merge_table['usa'].corr(merge_table['ForNum'])\n",
        "  r3 = lamb3(merge_table)\n",
        "  print('r3:', r3)\n",
        "  plt.title('r={:.5f}'.format(r3))\n",
        "  plt.scatter(merge_table['usa'], merge_table['ForNum'], s=6, c='yellow')\n",
        "\n",
        "  plt.tight_layout()\n",
        "  plt.show()\n",
        "\n",
        "  return [tourPoint, r1, r2, r3]\n",
        "\n",
        "\n",
        "def startFunc():\n",
        "  fname = '/content/drive/MyDrive/testdata/서울특별시_관광지입장정보_2011_2016.json'\n",
        "  jsonTP = json.loads(open(fname, 'r', encoding='utf-8').read())\n",
        "  #print(jsonTP)\n",
        "\n",
        "  tour_table = pd.DataFrame(jsonTP, columns=('yyyymm','resNm','ForNum')).set_index('yyyymm')\n",
        "  #print(tour_table.head(5))\n",
        "\n",
        "  resNm = tour_table.resNm.unique()\n",
        "  #print(resNm)\n",
        "  #print('관광지명:', resNm[:5])  #다섯 가지만\n",
        "\n",
        "  #중국인 방문 관광지 정보\n",
        "  cjson = '/content/drive/MyDrive/testdata/중국인방문객.json'\n",
        "  jdata = json.loads(open(cjson, 'r', encoding='utf-8').read())\n",
        "  china_table = pd.DataFrame(jdata, columns=('yyyymm', 'visit_cnt')).set_index('yyyymm')\n",
        "  china_table = china_table.rename(columns={'visit_cnt':'china'})\n",
        "  #print(china_table.head(3))\n",
        "\n",
        "  #일본인 방문 관광지 정보\n",
        "  jjson = '/content/drive/MyDrive/testdata/일본인방문객.json'\n",
        "  jdata = json.loads(open(jjson, 'r', encoding='utf-8').read())\n",
        "  japan_table = pd.DataFrame(jdata, columns=('yyyymm', 'visit_cnt')).set_index('yyyymm')\n",
        "  japan_table = japan_table.rename(columns={'visit_cnt':'japan'})\n",
        "  #print(japan_table.head(3))\n",
        "\n",
        "  #미국인 방문 관광지 정보\n",
        "  ujson = '/content/drive/MyDrive/testdata/미국인방문객.json'\n",
        "  jdata = json.loads(open(ujson, 'r', encoding='utf-8').read())\n",
        "  usa_table = pd.DataFrame(jdata, columns=('yyyymm', 'visit_cnt')).set_index('yyyymm')\n",
        "  usa_table = usa_table.rename(columns={'visit_cnt':'usa'})\n",
        "  #print(usa_table.head(3))\n",
        "\n",
        "  #테이블 병합\n",
        "  all_table = pd.merge(china_table, japan_table, left_index = True, right_index=True)\n",
        "  all_table = pd.merge(all_table, usa_table, left_index = True, right_index=True)\n",
        "  #print(all_table.head(5))\n",
        "\n",
        "  r_list = []\n",
        "  for tourPoint in resNm[:5]:\n",
        "    r_list.append(setScatterChart(tour_table, all_table, tourPoint))\n",
        "\n",
        "  r_df = pd.DataFrame(r_list, columns=['고궁명','중국','일본','미국'])\n",
        "  r_df = r_df.set_index('고궁명')\n",
        "  print(r_df)\n",
        "\n",
        "  r_df.plot(kind='bar', rot=50)\n",
        "  plt.show()\n",
        "\n",
        "\n",
        "if __name__=='__main__':\n",
        "  startFunc()"
      ],
      "execution_count": null,
      "outputs": [
        {
          "output_type": "stream",
          "text": [
            "r1: -0.05879110406006314\n",
            "r2: 0.2774443570141011\n",
            "r3: 0.4028160633050156\n"
          ],
          "name": "stdout"
        },
        {
          "output_type": "stream",
          "text": [
            "/usr/local/lib/python3.7/dist-packages/ipykernel_launcher.py:29: MatplotlibDeprecationWarning: Adding an axes using the same arguments as a previous axes currently reuses the earlier instance.  In a future version, a new instance will always be created and returned.  Meanwhile, this warning can be suppressed, and the future behavior ensured, by passing a unique label to each axes instance.\n",
            "/usr/local/lib/python3.7/dist-packages/ipykernel_launcher.py:40: MatplotlibDeprecationWarning: Adding an axes using the same arguments as a previous axes currently reuses the earlier instance.  In a future version, a new instance will always be created and returned.  Meanwhile, this warning can be suppressed, and the future behavior ensured, by passing a unique label to each axes instance.\n"
          ],
          "name": "stderr"
        },
        {
          "output_type": "display_data",
          "data": {
            "image/png": "[encoded data removed]",
            "text/plain": [
              "<Figure size 432x288 with 1 Axes>"
            ]
          },
          "metadata": {
            "tags": [],
            "needs_background": "light"
          }
        },
        {
          "output_type": "stream",
          "text": [
            "r1: 0.44594488384450376\n",
            "r2: 0.30261521828798604\n",
            "r3: 0.2812576500158649\n"
          ],
          "name": "stdout"
        },
        {
          "output_type": "display_data",
          "data": {
            "image/png": "[encoded data removed]",
            "text/plain": [
              "<Figure size 432x288 with 1 Axes>"
            ]
          },
          "metadata": {
            "tags": [],
            "needs_background": "light"
          }
        },
        {
          "output_type": "stream",
          "text": [
            "r1: 0.5256734293511215\n",
            "r2: -0.43522818613412334\n",
            "r3: 0.4251372638704492\n"
          ],
          "name": "stdout"
        },
        {
          "output_type": "display_data",
          "data": {
            "image/png": "[encoded data removed]",
            "text/plain": [
              "<Figure size 432x288 with 1 Axes>"
            ]
          },
          "metadata": {
            "tags": [],
            "needs_background": "light"
          }
        },
        {
          "output_type": "stream",
          "text": [
            "r1: 0.4512325398089607\n",
            "r2: -0.16458589402253013\n",
            "r3: 0.6245403780269381\n"
          ],
          "name": "stdout"
        },
        {
          "output_type": "display_data",
          "data": {
            "image/png": "[encoded data removed]",
            "text/plain": [
              "<Figure size 432x288 with 1 Axes>"
            ]
          },
          "metadata": {
            "tags": [],
            "needs_background": "light"
          }
        },
        {
          "output_type": "stream",
          "text": [
            "r1: -0.5834218986767473\n",
            "r2: 0.5298702802205213\n",
            "r3: -0.1211266682929496\n"
          ],
          "name": "stdout"
        },
        {
          "output_type": "display_data",
          "data": {
            "image/png": "[encoded data removed]",
            "text/plain": [
              "<Figure size 432x288 with 1 Axes>"
            ]
          },
          "metadata": {
            "tags": [],
            "needs_background": "light"
          }
        },
        {
          "output_type": "stream",
          "text": [
            "           중국        일본        미국\n",
            "고궁명                              \n",
            "창덕궁 -0.058791  0.277444  0.402816\n",
            "운현궁  0.445945  0.302615  0.281258\n",
            "경복궁  0.525673 -0.435228  0.425137\n",
            "창경궁  0.451233 -0.164586  0.624540\n",
            "종묘  -0.583422  0.529870 -0.121127\n"
          ],
          "name": "stdout"
        },
        {
          "output_type": "display_data",
          "data": {
            "image/png": "[encoded data removed]",
            "text/plain": [
              "<Figure size 432x288 with 1 Axes>"
            ]
          },
          "metadata": {
            "tags": [],
            "needs_background": "light"
          }
        }
      ]
    }
  ]
}