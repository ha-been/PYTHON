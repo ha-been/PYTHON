{
  "nbformat": 4,
  "nbformat_minor": 0,
  "metadata": {
    "colab": {
      "name": "Chisquared.ipynb",
      "provenance": [],
      "collapsed_sections": [
        "N32TIZeTrLC5"
      ],
      "toc_visible": true,
      "mount_file_id": "1mCrDQLffB45NJrCMZpxKb3v875e5B5qK",
      "authorship_tag": "ABX9TyOJDo44E8IJ90jXNpejaAOh"
    },
    "kernelspec": {
      "name": "python3",
      "display_name": "Python 3"
    },
    "language_info": {
      "name": "python"
    }
  },
  "cells": [
    {
      "cell_type": "markdown",
      "metadata": {
        "id": "VdoxjitFri0h"
      },
      "source": [
        "\n",
        "# ⭐ SciPy를 이용한 확률 분포 분석"
      ]
    },
    {
      "cell_type": "markdown",
      "metadata": {
        "id": "N32TIZeTrLC5"
      },
      "source": [
        "<br>\n",
        "\n",
        "## 확률분포 객체 생성  \n",
        "\n",
        "\n",
        "> 객체생성 함수  \n",
        "\n",
        "\n",
        "|종류|\t이름|\t확률 분포|\n",
        "|----|------|------|\n",
        "|이산|\tbernoulli|\t베르누이 분포|\n",
        "|이산|\tbinom|\t이항 분포|\n",
        "|연속|\tuniform|\t균일 분포|\n",
        "|연속|\tnorm|\t가우시안 정규 분포|\n",
        "|연속|\tbeta|\t베타 분포|\n",
        "|연속|\tgamma|\t감마 분포|\n",
        "|연속|\tt|\t스튜던트 t 분포|\n",
        "|연속|\tchi2|\t카이 제곱 분포|\n",
        "|연속|\tf|\tF 분포|\n",
        "|연속|\tdirichlet|\t디리클리 분포|\n",
        "|연속|\tmultivariate_normal|\t다변수 가우시안 정규 분포|\n",
        "\n",
        "\n"
      ]
    },
    {
      "cell_type": "markdown",
      "metadata": {
        "id": "rXW_vESYof4z"
      },
      "source": [
        "<br>\n",
        "\n",
        "## 정규분포 그리기 : `stats.norm()`"
      ]
    },
    {
      "cell_type": "code",
      "metadata": {
        "id": "qc4PiOFPthYA",
        "colab": {
          "base_uri": "https://localhost:8080/"
        },
        "outputId": "91576b54-567d-4067-d605-d1cf85a543fe"
      },
      "source": [
        "import numpy as np\n",
        "from scipy import stats\n",
        "\n",
        "np.random.seed(1)\n",
        "print(stats.norm(loc=1, scale=2).rvs(10))  #정규분포 기댓값: 1, 표준 편차: 2, rvs(): 랜덤샘플생성"
      ],
      "execution_count": null,
      "outputs": [
        {
          "output_type": "stream",
          "text": [
            "[ 4.24869073 -0.22351283 -0.0563435  -1.14593724  2.73081526 -3.60307739\n",
            "  4.48962353 -0.5224138   1.63807819  0.50125925]\n"
          ],
          "name": "stdout"
        }
      ]
    },
    {
      "cell_type": "markdown",
      "metadata": {
        "id": "mv_hjaEbo_Mn"
      },
      "source": [
        "분포의 모수(parameter)를 인수로 지정해 주어야 한다.  \n",
        "분산, 표준편차의 중요성 : 분포 파악이 가능하다. \n",
        "\n",
        "|모수(인수)| 의미|\n",
        "|----|----|\n",
        "|`loc`|\t일반적으로 분포의 기댓값|\n",
        "|`scale`|\t일반적으로 분포의 표준편차|\n",
        "|`size`|\t샘플 생성시 생성될 샘플의 크기|\n",
        "|`random_state`|\t샘플 생성시 사용되는 시드(seed)값|\n",
        "\n",
        "<br>\n",
        "\n",
        "|메서드|기능|\n",
        "|----|----|\n",
        "|`pdf`|확률 밀도 함수 (probability density function)  |\n",
        "|`pmf`|확률 질량 함수 (probability mass function)  |\n",
        "|`cdf`|누적 분포 함수 (cumulative distribution function)   |\n",
        "|`rvs`|랜덤 샘플 생성 (random variable sampling)  |\n",
        "|`stats`|기술 통계 함수 (descriptive statistics)  |\n",
        "|`fit`|모수 추정 (parameter estimation)|  \n"
      ]
    },
    {
      "cell_type": "markdown",
      "metadata": {
        "id": "9tyvitK-pO5r"
      },
      "source": [
        "<br>\n",
        "\n",
        "## 그래프로 확인"
      ]
    },
    {
      "cell_type": "code",
      "metadata": {
        "colab": {
          "base_uri": "https://localhost:8080/",
          "height": 265
        },
        "id": "roocglMduuI0",
        "outputId": "196fad34-4874-47c5-910a-9b32b0ab5570"
      },
      "source": [
        "import matplotlib.pyplot as plt\n",
        "\n",
        "centers = [1, 1.5, 2]\n",
        "col = 'rgb'\n",
        "\n",
        "std = 0.1\n",
        "data_1 = []\n",
        "for i in range(3):\n",
        "  data_1.append(stats.norm(centers[i], scale=std).rvs(100))\n",
        "  #print(data_1)\n",
        "\n",
        "  plt.plot(np.arange(len(data_1[i])) + i * len(data_1[0]), data_1[i], '*', c=col[i])\n",
        "\n",
        "plt.show()"
      ],
      "execution_count": null,
      "outputs": [
        {
          "output_type": "display_data",
          "data": {
            "image/png": "[encoded data removed]",
            "text/plain": [
              "<Figure size 432x288 with 1 Axes>"
            ]
          },
          "metadata": {
            "tags": [],
            "needs_background": "light"
          }
        }
      ]
    },
    {
      "cell_type": "markdown",
      "metadata": {
        "id": "te2oysJztVJO"
      },
      "source": [
        "<br>\n",
        "\n",
        "# **Chi Squared Test**\n"
      ]
    },
    {
      "cell_type": "code",
      "metadata": {
        "id": "eHAIniIFtCtG"
      },
      "source": [
        "import scipy.stats as stats\n",
        "import pandas as pd\n",
        "import numpy as np\n",
        "import matplotlib.pyplot as plt"
      ],
      "execution_count": null,
      "outputs": []
    },
    {
      "cell_type": "markdown",
      "metadata": {
        "id": "zCZS0DIV3cNF"
      },
      "source": [
        "\n",
        "<br>\n",
        "\n",
        "# 📝 **카이제곱검정**  \n",
        "\n",
        "카이제곱 검정(chi-squared test) 또는 χ² 검정은 카이제곱 분포에 기초한 통계적 방법으로,  관찰된 빈도(관측빈도)가 기대되는 빈도(예측빈도)와 의미있게 다른 지 즉, 차이가 통계적으로 유의한지 여부를 검정하기 위해 사용되는 방법이다. 자료가 빈도로 주어졌을 때, 특히 명목척도(범주형) 자료의 분석에 이용되며 확률모형이 전반적으로 자료를 얼마나 잘 설명하는지 검정한다.  \n",
        "\n",
        "집단 간의 동질성 여부, 두 변인 간의 상관성을 통계적으로 검증하고자 할 때 사용한다.  \n",
        "수집된 자료가 모집단에 대한 분포형태를 가정할 수 없는 경우에 사용하는 비모수적 통계방법의 일종이다.  \n",
        "단, 두 변인(범주) 간의 인과관계는 파악할 수 없다.  \n",
        "\n",
        "빈도표를 작성하고 이를 바탕으로 분석한다.  \n",
        "\n",
        "<br>\n",
        "\n",
        "1. 적합성 검정   \n",
        "범주형 자료에 대해 관측된 값이 기대한 값과 얼마나 차이가 나는 지, 관측치가 특정 분포를 따르는 지를 검정한다.  \n",
        "\n",
        "2. 동일성 검정  \n",
        "두 집단의 분포가 동일한지를 검정한다.  \n",
        "\n",
        "3. 독립성 검정  \n",
        "모집단에서 추출한 자료들이 두 가지 변수 A, B에 의해서 범주화되어 있을 때 (분할표 상의 변수), 이 두 변수 A와 B 사이에 연관성이 있는 지를 검정하는 것이다.  \n",
        "즉, 두 변수 사의의 독립성을 검정한다.  \n",
        "\n",
        "\n",
        "\n",
        "\n",
        "\n"
      ]
    },
    {
      "cell_type": "markdown",
      "metadata": {
        "id": "S0GkhWpiMXEV"
      },
      "source": [
        "\n",
        "<br>\n",
        "\n",
        "## 🔹 카이제곱 통계량 : χ²\n",
        "\n",
        "카이제곱 통계량은 데이터의 분포와 가정된 분포 사이의 차이를 나타내는 측정값이다.  \n",
        "카이제곱 통계량이 카이제곱 분포를 따른다면 카이제곱 분포를 사용해 가설검정을 수행한다. \n",
        "\n",
        "> 카이제곱 값 χ² = ∑(관측값 - 기대값)² / 기대값  \n",
        "\n",
        "\n"
      ]
    },
    {
      "cell_type": "markdown",
      "metadata": {
        "id": "Za2Kbt8UNa6h"
      },
      "source": [
        "<br>\n",
        "\n",
        "## 🔹 P-Value\n",
        "\n",
        "카이제곱 검정을 통해 P-Value를 얻게 된다. P-Value는 검정 결과가 얼마나 유의한 지를 나타내는 지표로 사용된다.  \n",
        "\n",
        "P-Value는 검정 통계량에 관한 확률로 검정 통계량보다 크거나 같은 값을 얻을 수 있을 확률을 의미한다.  \n",
        "검정 통계량은 거의 대부분이 귀무가설을 가정하고 얻게 되는 값이다.  \n",
        "즉, 귀무가설을 가정한 분포와 동일할 확률이다.  \n",
        "\n",
        "그러므로 P-Value가 유의수준보다 작으면 귀무가설을 기각하고 대립가설을 채택하게 된다.\n"
      ]
    },
    {
      "cell_type": "markdown",
      "metadata": {
        "id": "P8ZYQX7jRwVk"
      },
      "source": [
        "<br>\n",
        "\n",
        "카이제곱 검정을 수행하고, P-Value를 얻기 위해서는 두 가지의 정보가 필요하다.  \n",
        "\n",
        "> 1) 자유도  \n",
        "2) 유의수준(α) : 연구자에 의해 결정됨  \n",
        "\n",
        "\n",
        "\n"
      ]
    },
    {
      "cell_type": "markdown",
      "metadata": {
        "id": "jepUKXbgUqNt"
      },
      "source": [
        "<br>\n",
        "\n",
        "## 🔹 자유도 (Degree of Freedom)\n",
        "\n",
        "통계적 추정을 할 때 표본자료 중 모집단에 대한 정보를 주는 독립적인 자료의 수를 말한다.  \n",
        "\n",
        "자유도는 모분산을 모르기 때문에 필요하다.  \n",
        "표본의 분산은 모집단의 분산보다 항상 작아지는 경향을 보이기 때문에 (편향이 발생) 표본의 분산을 모집단의 분산에 근사하게 하기 위하여 일정 비율을 곱해준다.  \n",
        "그 비율은 n / (n-1) 이며, 표본의 분산에 이 비율을 곱하면 모집단의 분산에 근사하게 된다.  \n",
        "\n",
        "또한 분산의 원래 계산식에 있는 분모의 n이 약분되기 때문에 (n-1)만 남게된다.  \n",
        "즉, 표본의 분산을 구할 때, n 대신 n-1을 나누면 표본의 분산을 모집단의 분산에 근사해지게 할 수 있는 것이다.   \n",
        "\n",
        "따라서 자유도는 표본의 평균을 구할 때는 사용되지 않고 표본의 분산을 구할 때만 사용된다.  \n",
        "\n",
        "\n",
        "> df = N - K  혹은 N-1  \n",
        "자유도 = 사례수 - 통계적제한조건수  (범주의수-1)\n",
        "\n",
        "카이제곱에서의 자유도  \n",
        "> r행 c열의 분할표에서 카이제곱 통계량의 자유도는 (r-1)*(c-1) 이다.  "
      ]
    },
    {
      "cell_type": "markdown",
      "metadata": {
        "id": "QBkTg0qEwiAC"
      },
      "source": [
        "<br>\n",
        "\n",
        "## 예제 1"
      ]
    },
    {
      "cell_type": "markdown",
      "metadata": {
        "id": "55MiRYGUwcMo"
      },
      "source": [
        "> 가설설정  \n",
        "귀무가설 : 벼락치기로 공부하는 것과 합격 여부는 관계가 없다.  \n",
        "대립가설 : 벼락치기로 공부하는 것과 합격 여부는 관계가 있다.   \n"
      ]
    },
    {
      "cell_type": "markdown",
      "metadata": {
        "id": "flufsT-Q6jPQ"
      },
      "source": [
        "<br>\n",
        "\n",
        "### 데이터 준비\n",
        "\n",
        "벼락치기 공부 여부에 따른 합격, 불합격 데이터  "
      ]
    },
    {
      "cell_type": "code",
      "metadata": {
        "colab": {
          "base_uri": "https://localhost:8080/"
        },
        "id": "fwFVUHPBvOpq",
        "outputId": "a402070e-4a80-48e3-b734-8753ef01f9fb"
      },
      "source": [
        "import pandas as pd\n",
        "data = pd.read_csv('/content/drive/MyDrive/testdata/pass_cross.csv', encoding = 'euc-kr')\n",
        "print(data.head(3))\n",
        "print(data.shape[0], data.shape[1])\n",
        "\n",
        "print(data[(data['공부함']==1) & (data['합격']==1)].shape[0])\n",
        "print(data[(data['공부함']==1) & (data['불합격']==1)].shape[0])"
      ],
      "execution_count": null,
      "outputs": [
        {
          "output_type": "stream",
          "text": [
            "   공부함  공부안함  합격  불합격\n",
            "0    1     0   1    0\n",
            "1    1     0   1    0\n",
            "2    0     1   0    1\n",
            "50 4\n"
          ],
          "name": "stdout"
        }
      ]
    },
    {
      "cell_type": "markdown",
      "metadata": {
        "id": "Iy9F1RJ56szY"
      },
      "source": [
        "<br>\n",
        "\n",
        "빈도표 작성"
      ]
    },
    {
      "cell_type": "code",
      "metadata": {
        "colab": {
          "base_uri": "https://localhost:8080/"
        },
        "id": "BrHjeC7k6qkK",
        "outputId": "4a99b15a-0c3c-4bce-8fde-32c45117519a"
      },
      "source": [
        "data2 = pd.crosstab(index = data['공부안함'], columns = data['불합격'], margins = True)\n",
        "data2.columns = ['합격','불합격','행합']\n",
        "data2.index = ['공부함','공부안함','열합']\n",
        "print(data2)"
      ],
      "execution_count": null,
      "outputs": [
        {
          "output_type": "stream",
          "text": [
            "      합격  불합격  행합\n",
            "공부함   18    7  25\n",
            "공부안함  12   13  25\n",
            "열합    30   20  50\n"
          ],
          "name": "stdout"
        }
      ]
    },
    {
      "cell_type": "markdown",
      "metadata": {
        "id": "zbYCWQ274hbz"
      },
      "source": [
        "<br>\n",
        "\n",
        "### 👉 수식을 이용해 χ² 값 구하기\n",
        "\n",
        "\n",
        "기대값 구하기 : (각 행의 주변값) * (각 열의 주변값) / 총합"
      ]
    },
    {
      "cell_type": "code",
      "metadata": {
        "colab": {
          "base_uri": "https://localhost:8080/"
        },
        "id": "pH2vQKe--Gve",
        "outputId": "08ffe1f9-e1d4-47b4-a578-fff4a4903b75"
      },
      "source": [
        "chi2 = (18 - 15)**2 / 15 + (7 - 10)**2 / 10 + (12 -15)**2 / 15 + (13 - 10)**2 / 10\n",
        "print(chi2)"
      ],
      "execution_count": null,
      "outputs": [
        {
          "output_type": "stream",
          "text": [
            "3.0\n"
          ],
          "name": "stdout"
        }
      ]
    },
    {
      "cell_type": "markdown",
      "metadata": {
        "id": "gU0UYcbMA2Q7"
      },
      "source": [
        "\n",
        " \n",
        "\n",
        "자유도는 (2-1)*(2-1) ==> 1 \n",
        "\n",
        "임계값은 카이제곱 분포표 사용 : 3.84  \n",
        "\n",
        "결론 : chi2값 3.0은 임계값 3.84보다 작으므로 귀무채택역에 chi2값이 존재하여 귀무가설을 채택한다.   \n",
        "즉, 벼락치기 공부를 하는 것과 합격여부는 관계가 없다고 할 수 있다.  \n",
        "\n"
      ]
    },
    {
      "cell_type": "markdown",
      "metadata": {
        "id": "knPv8uss4oHb"
      },
      "source": [
        "<br>\n",
        "\n",
        "### 👉 모듈이 지원하는 함수를 사용해 χ²값과 p-value 구하기 : `chi2_contingency()`  \n",
        "\n",
        "χ²값과 p-value는 반비례 관계이다.  \n"
      ]
    },
    {
      "cell_type": "code",
      "metadata": {
        "colab": {
          "base_uri": "https://localhost:8080/"
        },
        "id": "w_VQxFdv4rq1",
        "outputId": "f2f7cd35-8076-46f1-d130-15d5efac69fa"
      },
      "source": [
        "import scipy.stats as stat\n",
        "\n",
        "chi2, p, ddof, excepted = stats.chi2_contingency(data2)\n",
        "print('chi2 :', chi2)\n",
        "print('p :', p)                #p-value\n",
        "print()\n",
        "print('ddof :', ddof)\n",
        "print('excepted :', excepted)  #예측값"
      ],
      "execution_count": null,
      "outputs": [
        {
          "output_type": "stream",
          "text": [
            "chi2 : 3.0\n",
            "p : 0.5578254003710748\n",
            "\n",
            "ddof : 4\n",
            "excepted : [[15. 10. 25.]\n",
            " [15. 10. 25.]\n",
            " [30. 20. 50.]]\n"
          ],
          "name": "stdout"
        }
      ]
    },
    {
      "cell_type": "markdown",
      "metadata": {
        "id": "HPyXugUVFjwH"
      },
      "source": [
        "\n",
        "유의수준(α=0.05) < p-value(0.557825400) 이므로 귀무가설을 채택한다.    \n",
        "\n"
      ]
    },
    {
      "cell_type": "markdown",
      "metadata": {
        "id": "nzOrpjV9HI_t"
      },
      "source": [
        "<br>\n",
        "\n",
        "# 📝 **일원카이제곱검정 (One-way χ² test)**\n",
        "\n",
        "적합도 (goodness of fit) 검정이라고도 한다.  한 개의 범주형 요인 (하나의 변수) 을 사용.  \n",
        "관측값들이 어떠한 이론적 분포를 따르고 있는지 확인한다.  \n",
        "\n",
        "ex) 꽃 색깔의 표현 분리비율이 3:1이 맞는가?"
      ]
    },
    {
      "cell_type": "markdown",
      "metadata": {
        "id": "YCqo5BVEHo2l"
      },
      "source": [
        "<br>\n",
        "\n",
        "## 🔹 적합도 검정  : `chisquare()`\n",
        "\n",
        "주사위를 60 회 던져서 나온 관측도수 / 기대도수가 아래와 같이 나온 경우에 이 주사위는 적합한 주사위가 맞는가를 일원카이제곱 검정\n",
        "으로 분석\n",
        "\n",
        "> 주사위눈금   1  2  3  4  5  6  \n",
        "관측도수       4  6 17  16 8  9  \n",
        "기대도수       10 10 10 10 10 10  \n",
        "\n",
        "<br>\n",
        "\n",
        "가설설정\n",
        "\n",
        "> 귀무가설 : 주사위는 게임에 적합하다.  -> 기대치와 관측치는 차이가 없다. 독립적이다. 상관이 없다.  \n",
        "대립가설 : 주사위는 게임에 적합하지 않다. -> 기대치와 관측치는 차이가 있다. 독립적이지 않다. 상관이 있다.   \n",
        "\n",
        "\n",
        "\n"
      ]
    },
    {
      "cell_type": "code",
      "metadata": {
        "colab": {
          "base_uri": "https://localhost:8080/"
        },
        "id": "Hbe7BI6ZIKcc",
        "outputId": "11aab403-912c-4a4f-d327-9db536ce12f6"
      },
      "source": [
        "import pandas as pd\n",
        "import scipy.stats as stats\n",
        "\n",
        "data = [4, 6, 17, 16, 8, 9]\n",
        "data2 = [10, 10, 10, 10, 10, 10]\n",
        "print(stats.chisquare(data))\n",
        "print()\n",
        "\n",
        "result1 = stats.chisquare(data)\n",
        "print('통계량(chi2) : %.5f, p-value: %.5f'%result1)\n",
        "print()\n",
        "\n",
        "result2 = stats.chisquare(data, data2)\n",
        "print('통계량(chi2) : %.5f, p-value: %.5f'%result2)"
      ],
      "execution_count": null,
      "outputs": [
        {
          "output_type": "stream",
          "text": [
            "Power_divergenceResult(statistic=14.200000000000001, pvalue=0.014387678176921308)\n",
            "\n",
            "통계량(chi2) : 14.20000, p-value: 0.01439\n",
            "\n",
            "통계량(chi2) : 14.20000, p-value: 0.01439\n"
          ],
          "name": "stdout"
        }
      ]
    },
    {
      "cell_type": "markdown",
      "metadata": {
        "id": "hxbU8N9QLA0i"
      },
      "source": [
        "해석1:  \n",
        "p-value:0.01439 < 0.05 이므로 유의미한 수준(α=0.05)에서 귀무가설을 기각하고, 대립가설을 채택한다.  \n",
        "즉, 현재 실험에 사용된 주사위는 게임에 적합하지 않다.  \n",
        "\n",
        "해석2:  \n",
        "카이제곱분포를 사용한 결과 임계값 : 11.07 < 14.2000 이므로 귀무가설을 기각하고 대립가설을 채택한다.  \n",
        "\n"
      ]
    },
    {
      "cell_type": "markdown",
      "metadata": {
        "id": "BPK-ex_jOzGl"
      },
      "source": [
        "<br>\n",
        "\n",
        "## 🔹 선호도 검정  \n",
        "\n",
        "5개의 스포츠 음료에 대한 선호도에 차이가 있는지 검정하기 : drinkdata.csv  "
      ]
    },
    {
      "cell_type": "code",
      "metadata": {
        "colab": {
          "base_uri": "https://localhost:8080/"
        },
        "id": "vyBXR5S_Jlx3",
        "outputId": "4fd09351-3808-4284-de4b-eabe8feed537"
      },
      "source": [
        "data3 = pd.read_csv('/content/drive/MyDrive/testdata/drinkdata.csv')\n",
        "print(data3)\n",
        "print()\n",
        "\n",
        "print(stats.chisquare(data3['관측도수']))"
      ],
      "execution_count": null,
      "outputs": [
        {
          "output_type": "stream",
          "text": [
            "  음료종류  관측도수\n",
            "0   s1    41\n",
            "1   s2    30\n",
            "2   s3    51\n",
            "3   s4    71\n",
            "4   s5    61\n",
            "\n",
            "Power_divergenceResult(statistic=20.488188976377952, pvalue=0.00039991784008227264)\n"
          ],
          "name": "stdout"
        }
      ]
    },
    {
      "cell_type": "markdown",
      "metadata": {
        "id": "8jAEh9_xRMsG"
      },
      "source": [
        "\n",
        "해석:  \n",
        "p-value=0.00039991 < 0.05 이므로 귀무가설을 기각하고 대립가설을 채택한다.  \n",
        "\n"
      ]
    },
    {
      "cell_type": "markdown",
      "metadata": {
        "id": "A26cObqVTkMy"
      },
      "source": [
        "<br>\n",
        "\n",
        "# 📝 **이원카이제곱검정  (Two-way χ² test)**\n",
        "\n",
        "두 개 이상의 집단 또는 범주의 변인을 대상으로 독립성, 동질성 검정\n",
        "- 동일 집단의 두 변인(ex 학력수준과 대학진학 여부)을 대상으로 관련성이 있는지 없는지 확인  \n",
        "- 독립성 검정은 두 변수 사이의 연관성으로 검정한다.  \n",
        "\n"
      ]
    },
    {
      "cell_type": "markdown",
      "metadata": {
        "id": "YJHl7j5lJHqI"
      },
      "source": [
        "<br>\n",
        "\n",
        "## 🔹 독립성 검정\n",
        "\n",
        "실습 : 교육수준과 흡연 간의 관련성 분석 : smoke.csv\n",
        "\n",
        "<br>\n",
        "\n",
        "가설설정\n",
        "\n",
        "> 귀무가설 : 교육수준과 흡연은 관련이 없다. (독립이다.)  \n",
        "대립가설 : 교육수준과 흡연은 관련이 있다. (독립이 아니다.)"
      ]
    },
    {
      "cell_type": "code",
      "metadata": {
        "colab": {
          "base_uri": "https://localhost:8080/"
        },
        "id": "B46HKM1gQWyI",
        "outputId": "fca98a3c-6ccb-4d6d-a388-f771bdf77623"
      },
      "source": [
        "import pandas as pd\n",
        "import scipy.stats as stats\n",
        "\n",
        "data = pd.read_csv('/content/drive/MyDrive/testdata/smoke.csv')\n",
        "print(data.head(3))\n",
        "print(data.tail(3))\n",
        "print()\n",
        "\n",
        "print(data['education'].unique()) #대학원졸 대졸 고졸\n",
        "print(data['smoking'].unique())   #과흡연 보통 노담"
      ],
      "execution_count": null,
      "outputs": [
        {
          "output_type": "stream",
          "text": [
            "   education  smoking\n",
            "0          1        1\n",
            "1          1        1\n",
            "2          1        1\n",
            "     education  smoking\n",
            "352          3        3\n",
            "353          3        3\n",
            "354          3        3\n",
            "\n",
            "[1 2 3]\n",
            "[1 2 3]\n"
          ],
          "name": "stdout"
        }
      ]
    },
    {
      "cell_type": "markdown",
      "metadata": {
        "id": "7DsHRceRVMVf"
      },
      "source": [
        "<br>\n",
        "\n",
        "### 교차표 작성 : `crosstab()`\n",
        "\n",
        "교육수준별 흡연 인원수를 파악하기 위해 교차표 작성한다. \n",
        "\n",
        "야트보정 : 분할표의 자유도가 1인 경우는 χ²값이 약간 높게 계산된다.  \n",
        "그래서 절대값 |O-E|에서 0.5를 뺀 다음 제곱하여 적용한다.  \n",
        "이를 야트보정이라고 하며 chi2_contingency에서는 보정이 자동으로 이루어진다"
      ]
    },
    {
      "cell_type": "code",
      "metadata": {
        "colab": {
          "base_uri": "https://localhost:8080/"
        },
        "id": "yqg2d3tEU7Yx",
        "outputId": "1f51c44a-ce05-4cbf-f3b0-33feb9fe15a6"
      },
      "source": [
        "ctab = pd.crosstab(index = data['education'], columns = data['smoking'])  #normalize=True : 비율로 출력. 현재는 범주형데이터라 적용X\n",
        "ctab.index = ['대학원','대학','고등교육']\n",
        "ctab.columns = ['과흡연','흡연','비흡연']\n",
        "\n",
        "print(ctab)"
      ],
      "execution_count": null,
      "outputs": [
        {
          "output_type": "stream",
          "text": [
            "      과흡연  흡연  비흡연\n",
            "대학원    51  92   68\n",
            "대학     22  21    9\n",
            "고등교육   43  28   21\n"
          ],
          "name": "stdout"
        }
      ]
    },
    {
      "cell_type": "markdown",
      "metadata": {
        "id": "SHsi9MrCJcl1"
      },
      "source": [
        "<br>\n",
        "\n",
        "### Scipy의 `chi2_contingency()`"
      ]
    },
    {
      "cell_type": "code",
      "metadata": {
        "colab": {
          "base_uri": "https://localhost:8080/"
        },
        "id": "MBB7ULlmVp17",
        "outputId": "986316b1-5485-46a3-9399-9719e34cb18b"
      },
      "source": [
        "chi_result = [ctab.loc['대학원'], ctab.loc['대학'], ctab.loc['고등교육']]\n",
        "chi2, p, ddof, exp = stats.chi2_contingency(chi_result)\n",
        "#chi2, p, ddof, exp = stats.chi2_contingency(ctab)   #현재 데이터는 가능\n",
        "\n",
        "print('chi2 :', chi2)\n",
        "print('p :', p)"
      ],
      "execution_count": null,
      "outputs": [
        {
          "output_type": "stream",
          "text": [
            "chi2 : 18.910915739853955\n",
            "p : 0.0008182572832162924\n"
          ],
          "name": "stdout"
        }
      ]
    },
    {
      "cell_type": "markdown",
      "metadata": {
        "id": "3cJN-Z4IXJ3E"
      },
      "source": [
        "\n",
        "해석:  \n",
        "p-value (0.00081825) < 유의수준 (0.05) 이므로 귀무가설을 기각하고 대립가설을 채택한다.  \n",
        "\n",
        "\n"
      ]
    },
    {
      "cell_type": "markdown",
      "metadata": {
        "id": "ZekItSo6ytvA"
      },
      "source": [
        "<br>\n",
        "\n",
        "### 예제 1) 독립성 검정 : 인종 간 인원수 👧🏿👩👱🏻‍♂️\n",
        "\n",
        "국가 전체와 지역에 대한 인종 간 인원수로 독립성 검정을 실습해보자.  \n",
        "\n",
        "두 집단 (국가 전체 - national, 특정지역 - la) 의 인종간 인원수의 분포가 관련이 있는가?\n"
      ]
    },
    {
      "cell_type": "code",
      "metadata": {
        "id": "4i4HF7g9Wt5_",
        "colab": {
          "base_uri": "https://localhost:8080/"
        },
        "outputId": "9461ce6c-d2b7-4f85-a4e5-d726d4ec7498"
      },
      "source": [
        "import pandas as pd\n",
        "import scipy.stats as stats\n",
        "\n",
        "national = pd.DataFrame(['white']*100000 + ['hispanic']*60000 + ['black']*50000 + ['asian']*15000 + \n",
        "                        ['other']*35000)\n",
        "la = pd.DataFrame(['white']*600 + ['hispanic']*300 + ['black']*250 + ['asian']*75 + \n",
        "                        ['other']*150)\n",
        "print(national)\n",
        "print()\n",
        "print(la)"
      ],
      "execution_count": null,
      "outputs": [
        {
          "output_type": "stream",
          "text": [
            "            0\n",
            "0       white\n",
            "1       white\n",
            "2       white\n",
            "3       white\n",
            "4       white\n",
            "...       ...\n",
            "259995  other\n",
            "259996  other\n",
            "259997  other\n",
            "259998  other\n",
            "259999  other\n",
            "\n",
            "[260000 rows x 1 columns]\n",
            "\n",
            "          0\n",
            "0     white\n",
            "1     white\n",
            "2     white\n",
            "3     white\n",
            "4     white\n",
            "...     ...\n",
            "1370  other\n",
            "1371  other\n",
            "1372  other\n",
            "1373  other\n",
            "1374  other\n",
            "\n",
            "[1375 rows x 1 columns]\n"
          ],
          "name": "stdout"
        }
      ]
    },
    {
      "cell_type": "code",
      "metadata": {
        "colab": {
          "base_uri": "https://localhost:8080/"
        },
        "id": "JzonSoM2zhDz",
        "outputId": "3f5d204e-6e7a-43f9-c8ac-83605ec903a9"
      },
      "source": [
        "na_table = pd.crosstab(index=national[0], columns='count')\n",
        "la_table = pd.crosstab(index=la[0], columns='count')\n",
        "print(na_table)\n",
        "na_table['count_la'] = la_table['count']\n",
        "print(na_table)"
      ],
      "execution_count": null,
      "outputs": [
        {
          "output_type": "stream",
          "text": [
            "col_0      count\n",
            "0               \n",
            "asian      15000\n",
            "black      50000\n",
            "hispanic   60000\n",
            "other      35000\n",
            "white     100000\n",
            "col_0      count  count_la\n",
            "0                         \n",
            "asian      15000        75\n",
            "black      50000       250\n",
            "hispanic   60000       300\n",
            "other      35000       150\n",
            "white     100000       600\n"
          ],
          "name": "stdout"
        }
      ]
    },
    {
      "cell_type": "code",
      "metadata": {
        "colab": {
          "base_uri": "https://localhost:8080/"
        },
        "id": "m1w3njIl0DBU",
        "outputId": "0434fe80-248d-4638-a564-a641e754692e"
      },
      "source": [
        "chi2, p, ddof, _ = stats.chi2_contingency(na_table)\n",
        "print(\"chi2 : \", chi2)# chi2 :  18.099524243141698\n",
        "print(\"p : \", p)# p :  0.0011800326671747886\n",
        "print(\"ddof : \", ddof)# ddof :  4"
      ],
      "execution_count": null,
      "outputs": [
        {
          "output_type": "stream",
          "text": [
            "chi2 :  18.099524243141698\n",
            "p :  0.0011800326671747886\n",
            "ddof :  4\n"
          ],
          "name": "stdout"
        }
      ]
    },
    {
      "cell_type": "markdown",
      "metadata": {
        "id": "wxGzsJbj2Kf2"
      },
      "source": [
        "해석 : p-value 0.0011800326671747886 < 0.05 유의수준 보다 매우작기 때무에 귀무가설은 기각하고 대립가설을 채택한다."
      ]
    },
    {
      "cell_type": "markdown",
      "metadata": {
        "id": "Kovk6PQbIrt7"
      },
      "source": [
        "<br>\n",
        "\n",
        "## 🔹 동질성 검정\n",
        "\n",
        "두 집단의 분포가 동일한가 다른 가를 검증하는 방법이다. 두 집단 이상에서 각 범주(집단) 간의 비율이 서로 동일한가를 검정하게 된다.  \n",
        "두 개 이상의 범주형 자료가 동일한 분포를 갖는 모집단에서 추출된 것인지 검정하는 방법이다. \n",
        "\n"
      ]
    },
    {
      "cell_type": "code",
      "metadata": {
        "colab": {
          "base_uri": "https://localhost:8080/"
        },
        "id": "zuzJcvVmJUGT",
        "outputId": "d5864678-4b53-410e-df1a-7bf73a706d1c"
      },
      "source": [
        "import pandas as pd\n",
        "import scipy.stats as stats\n",
        "\n",
        "#동질성 검정실습 1) 교육방법에 따른 교육생들의 만족도 분석 - 동질성 검정 survey_method.csv\n",
        "data = pd.read_csv('/content/drive/MyDrive/testdata/survey_method.csv')\n",
        "print(data.head(5))\n",
        "print()\n",
        "\n",
        "print(data['method'].unique())"
      ],
      "execution_count": null,
      "outputs": [
        {
          "output_type": "stream",
          "text": [
            "   no  method  survey\n",
            "0   1       1       1\n",
            "1   2       2       2\n",
            "2   3       3       3\n",
            "3   4       1       4\n",
            "4   5       2       5\n",
            "\n",
            "[1 2 3]\n"
          ],
          "name": "stdout"
        }
      ]
    },
    {
      "cell_type": "code",
      "metadata": {
        "colab": {
          "base_uri": "https://localhost:8080/"
        },
        "id": "jjE_7icaKbXE",
        "outputId": "ff862ffe-033b-43df-d980-6d7a4c8f3649"
      },
      "source": [
        "ctab = pd.crosstab(index=data['method'], columns=data['survey'])\n",
        "ctab.columns = ['매우만족','만족','보통','불만족','매우불만족']\n",
        "ctab.index = ['방법1','방법2','방법3']\n",
        "\n",
        "print(ctab)"
      ],
      "execution_count": null,
      "outputs": [
        {
          "output_type": "stream",
          "text": [
            "     매우만족  만족  보통  불만족  매우불만족\n",
            "방법1     5   8  15   16      6\n",
            "방법2     8  14  11   11      6\n",
            "방법3     8   7  11   15      9\n"
          ],
          "name": "stdout"
        }
      ]
    },
    {
      "cell_type": "code",
      "metadata": {
        "colab": {
          "base_uri": "https://localhost:8080/"
        },
        "id": "416HCTIPK4iW",
        "outputId": "078506b7-6f8b-40f9-acb9-7371f052dd49"
      },
      "source": [
        "chi2_result = [ctab.loc['방법1'], ctab.loc['방법2'], ctab.loc['방법3']]\n",
        "chi2, p, ddof, _ = stats.chi2_contingency(chi2_result)\n",
        "msg = '검정통계량 chi2: {}, p-value: {}, ddof: {}'\n",
        "print(msg.format(chi2, p, ddof))"
      ],
      "execution_count": null,
      "outputs": [
        {
          "output_type": "stream",
          "text": [
            "검정통계량 chi2: 6.544667820529891, p-value: 0.5864574374550608, ddof: 8\n"
          ],
          "name": "stdout"
        }
      ]
    },
    {
      "cell_type": "markdown",
      "metadata": {
        "id": "s0En5_JuNQnr"
      },
      "source": [
        "\n",
        "해석:  \n",
        "p값 0.5864 > 0.05 이므로 귀무가설을 채택한다.\n",
        "\n",
        "교육방법에 따른 교육생들의 만족도에 차이가 없다.  \n",
        "\n"
      ]
    },
    {
      "cell_type": "markdown",
      "metadata": {
        "id": "uy0p2wo7kJxR"
      },
      "source": [
        "\n",
        "<br>\n",
        "\n",
        "### 예제 2) 동질성 검정 : 연령대별 SNS 이용률 📳\n",
        "\n",
        "연령대별 SNS 이용률의 동질성 검정  \n",
        "20대에서 40대까지 연령대별로 서로 조금씩 그 특성이 다른 SNS 서비스들에 대해 이용 현황을 조사한 자료를 바탕으로  연령대별로 홍보전략을 세우고자 한다.  연령대별로 이용현황이 서로 동일한지 검정해보도록 하자.  \n",
        "\n",
        "<br>\n",
        "\n",
        "가설설정  \n",
        "> 귀무가설 : 연령대별로 SNS 서비스 이용현황이 동일하다.  \n",
        "대립가설 : 연령대별로 SNS 서비스 이용현황이 동일하지 않다.\n"
      ]
    },
    {
      "cell_type": "code",
      "metadata": {
        "colab": {
          "base_uri": "https://localhost:8080/"
        },
        "id": "4Ad196HWkNDe",
        "outputId": "a7e80fab-b745-40ee-b20b-a678c2428be0"
      },
      "source": [
        "import pandas as pd\n",
        "import scipy.stats as stats\n",
        "\n",
        "data = pd.read_csv('/content/drive/MyDrive/testdata/snsbyage.csv')\n",
        "print(data.head(5))\n",
        "print(len(data))\n",
        "print()\n",
        "\n",
        "print(data['age'].unique())\n",
        "print(data['service'].unique())"
      ],
      "execution_count": null,
      "outputs": [
        {
          "output_type": "stream",
          "text": [
            "   age service\n",
            "0    1       F\n",
            "1    1       F\n",
            "2    1       F\n",
            "3    1       F\n",
            "4    1       F\n",
            "1439\n",
            "\n",
            "[1 2 3]\n",
            "['F' 'T' 'K' 'C' 'E']\n"
          ],
          "name": "stdout"
        }
      ]
    },
    {
      "cell_type": "markdown",
      "metadata": {
        "id": "lFnuQTOslx-V"
      },
      "source": [
        "\n",
        "빈도표\n"
      ]
    },
    {
      "cell_type": "code",
      "metadata": {
        "colab": {
          "base_uri": "https://localhost:8080/"
        },
        "id": "8bxZDdwqk9yp",
        "outputId": "fc0e9ecb-6fcd-4747-de1a-d3b36e03e59c"
      },
      "source": [
        "ctab = pd.crosstab(index=data['age'], columns=data['service'])  #나이별 서비스 이용 인원수\n",
        "print(ctab)"
      ],
      "execution_count": null,
      "outputs": [
        {
          "output_type": "stream",
          "text": [
            "service    C   E    F    K    T\n",
            "age                            \n",
            "1         81  16  207  111  117\n",
            "2        109  15  107  236  104\n",
            "3         32  17   78  133   76\n"
          ],
          "name": "stdout"
        }
      ]
    },
    {
      "cell_type": "code",
      "metadata": {
        "colab": {
          "base_uri": "https://localhost:8080/"
        },
        "id": "Z5vdEjuhmB8u",
        "outputId": "1169ddc5-f820-4b64-d92d-b3043beb9d5b"
      },
      "source": [
        "chi2, p, df, exp = stats.chi2_contingency(ctab)\n",
        "msg = 'chi2: {}, p-value: {}, ddof: {},'\n",
        "print(msg.format(chi2, p, df))"
      ],
      "execution_count": null,
      "outputs": [
        {
          "output_type": "stream",
          "text": [
            "chi2: 102.75202494484225, p-value: 1.1679064204212775e-18, ddof: 8,\n"
          ],
          "name": "stdout"
        }
      ]
    },
    {
      "cell_type": "markdown",
      "metadata": {
        "id": "BAWPBiSenUJa"
      },
      "source": [
        "\n",
        "p-value가 1.1679064204212775e-18으로 유의수준 0.05보다 작기 때문에 귀무가설을 기각하고 대립가설을 채택한다.  \n",
        "\n",
        "연령대별로 SNS 서비스 이용현황이 동일한지 1439명을 대상으로 설문조사한 결과,  \n",
        "연령대에 따라 주로 사용하는 SNS 서비스는 서로 다른 것으로 볼 수 있다.  \n"
      ]
    },
    {
      "cell_type": "markdown",
      "metadata": {
        "id": "PDNqPkaWnTUX"
      },
      "source": [
        "\n",
        "<br>\n",
        "\n",
        "### 샘플링  \n",
        "\n",
        "위 데이터는 표본이지만 모집단이라 가정하고 샘플링을 진행해본다.  \n",
        "\n"
      ]
    },
    {
      "cell_type": "code",
      "metadata": {
        "colab": {
          "base_uri": "https://localhost:8080/"
        },
        "id": "PzzDAeDAmaZz",
        "outputId": "45592328-dc43-4bac-9b29-3755630094cd"
      },
      "source": [
        "sample_data = data.sample(n=500, replace=True)  #복원추출\n",
        "print(sample_data.head(5), len(sample_data))"
      ],
      "execution_count": null,
      "outputs": [
        {
          "output_type": "stream",
          "text": [
            "      age service\n",
            "407     1       K\n",
            "1005    2       C\n",
            "308     1       T\n",
            "834     2       K\n",
            "1081    2       C 500\n"
          ],
          "name": "stdout"
        }
      ]
    },
    {
      "cell_type": "code",
      "metadata": {
        "colab": {
          "base_uri": "https://localhost:8080/"
        },
        "id": "bqHUuY9opxjA",
        "outputId": "b58a5d80-7b3d-4a99-9f4c-dda54eec639e"
      },
      "source": [
        "ctab2 = pd.crosstab(index=sample_data['age'], columns=sample_data['service'])  \n",
        "print(ctab2)"
      ],
      "execution_count": null,
      "outputs": [
        {
          "output_type": "stream",
          "text": [
            "service   C   E   F   K   T\n",
            "age                        \n",
            "1        32  10  72  35  38\n",
            "2        40   8  41  76  38\n",
            "3        11   6  27  41  25\n"
          ],
          "name": "stdout"
        }
      ]
    },
    {
      "cell_type": "code",
      "metadata": {
        "colab": {
          "base_uri": "https://localhost:8080/"
        },
        "id": "Xsguu8dCqDuR",
        "outputId": "eb39cb99-6232-41bf-f8a6-7307ac9228c1"
      },
      "source": [
        "chi2, p, df, exp = stats.chi2_contingency(ctab2)\n",
        "\n",
        "msg = 'chi2: {}, p-value: {}, ddof: {},'\n",
        "print(msg.format(chi2, p, df))"
      ],
      "execution_count": null,
      "outputs": [
        {
          "output_type": "stream",
          "text": [
            "chi2: 30.855143240150888, p-value: 0.00014909209991855718, ddof: 8,\n"
          ],
          "name": "stdout"
        }
      ]
    },
    {
      "cell_type": "markdown",
      "metadata": {
        "id": "_NeqUUOSqS3j"
      },
      "source": [
        "\n",
        "샘플링을 통해서도 귀무가설을 기각하는 결과가 나오는 것을 확인할 수 있다.  \n"
      ]
    },
    {
      "cell_type": "markdown",
      "metadata": {
        "id": "XeNe1S2PrEHp"
      },
      "source": [
        "<br>\n",
        "\n",
        "references:  \n",
        "https://namyoungkim.github.io/scipy/probability/2017/09/04/scipy/  \n",
        "https://bioinformaticsandme.tistory.com/139  \n",
        "https://data-gardner.tistory.com/23  "
      ]
    }
  ]
}