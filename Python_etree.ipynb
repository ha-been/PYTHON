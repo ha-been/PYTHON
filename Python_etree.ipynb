{
  "nbformat": 4,
  "nbformat_minor": 0,
  "metadata": {
    "colab": {
      "name": "Python-etree.ipynb",
      "provenance": [],
      "collapsed_sections": [],
      "mount_file_id": "1lUmEEpIlhlAgWT41wvvmoYaSlDyM-THh",
      "authorship_tag": "ABX9TyMpgiZky4g59e82ORcQdr5A",
      "include_colab_link": true
    },
    "kernelspec": {
      "name": "python3",
      "display_name": "Python 3"
    },
    "language_info": {
      "name": "python"
    }
  },
  "cells": [
    {
      "cell_type": "markdown",
      "metadata": {
        "id": "view-in-github",
        "colab_type": "text"
      },
      "source": [
        "<a href=\"https://colab.research.google.com/github/habeen-song/PYTHON/blob/subranch/Python_etree.ipynb\" target=\"_parent\"><img src=\"https://colab.research.google.com/assets/colab-badge.svg\" alt=\"Open In Colab\"/></a>"
      ]
    },
    {
      "cell_type": "markdown",
      "metadata": {
        "id": "XIhi1dIpwv-j"
      },
      "source": [
        "\n",
        "# 📝 **XML 자료 읽기 : `etree`**"
      ]
    },
    {
      "cell_type": "markdown",
      "metadata": {
        "id": "XI71te8hvC1N"
      },
      "source": [
        "<br>\n",
        "\n",
        "파일 업로드 - `test.xml`\n"
      ]
    },
    {
      "cell_type": "code",
      "metadata": {
        "colab": {
          "resources": {
            "http://localhost:8080/nbextensions/google.colab/files.js": {
              "data": "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",
              "ok": true,
              "headers": [
                [
                  "content-type",
                  "application/javascript"
                ]
              ],
              "status": 200,
              "status_text": ""
            }
          },
          "base_uri": "https://localhost:8080/",
          "height": 76
        },
        "id": "vYvj3eU0omyN",
        "outputId": "dbf0bb61-34cd-4c45-8a6c-93eaeae24149"
      },
      "source": [
        "from google.colab import files\n",
        "myfile = files.upload()"
      ],
      "execution_count": null,
      "outputs": [
        {
          "output_type": "display_data",
          "data": {
            "text/html": [
              "\n",
              "     <input type=\"file\" id=\"files-80c072ca-14b2-4759-8d5a-13bed168db0a\" name=\"files[]\" multiple disabled\n",
              "        style=\"border:none\" />\n",
              "     <output id=\"result-80c072ca-14b2-4759-8d5a-13bed168db0a\">\n",
              "      Upload widget is only available when the cell has been executed in the\n",
              "      current browser session. Please rerun this cell to enable.\n",
              "      </output>\n",
              "      <script src=\"/nbextensions/google.colab/files.js\"></script> "
            ],
            "text/plain": [
              "<IPython.core.display.HTML object>"
            ]
          },
          "metadata": {
            "tags": []
          }
        },
        {
          "output_type": "stream",
          "text": [
            "Saving test.xml to test.xml\n"
          ],
          "name": "stdout"
        }
      ]
    },
    {
      "cell_type": "markdown",
      "metadata": {
        "id": "Y-cRSY-Jw6F5"
      },
      "source": [
        "\n",
        "<br>\n",
        "\n",
        "## 👉 1. txt로 읽은 후 element로 바꾸기\n"
      ]
    },
    {
      "cell_type": "code",
      "metadata": {
        "colab": {
          "base_uri": "https://localhost:8080/"
        },
        "id": "hz30NJxtqkW-",
        "outputId": "8121d932-07ae-444d-d68c-19ec8b9e892c"
      },
      "source": [
        "import xml.etree.ElementTree as etree\n",
        "\n",
        "xml_f = open('test.xml', 'r', encoding='utf-8').read()\n",
        "print(xml_f, type(xml_f))\n",
        "\n",
        "root = etree.fromstring(xml_f)\n",
        "print(root)\n",
        "print(root.tag)\n",
        "print(len(root))"
      ],
      "execution_count": null,
      "outputs": [
        {
          "output_type": "stream",
          "text": [
            "<?xml version=\"1.0\" encoding=\"UTF-8\"?>\n",
            "<items>\n",
            "\t<item>\n",
            "\t\t<name id=\"ks1\">홍길동</name>\n",
            "\t\t<tel>111-1111</tel>\n",
            "\t\t<exam kor=\"100\" eng=\"80\" />\n",
            "\t</item>\n",
            "\t<item>\n",
            "\t\t<name id=\"ks2\">신기해</name>\n",
            "\t\t<tel>222-2222</tel>\n",
            "\t\t<exam kor=\"90\" eng=\"98\" />\n",
            "\t</item>\n",
            "</items> <class 'str'>\n",
            "<Element 'items' at 0x7fc442374470>\n",
            "items\n",
            "2\n"
          ],
          "name": "stdout"
        }
      ]
    },
    {
      "cell_type": "markdown",
      "metadata": {
        "id": "8qQU2TW-xHYY"
      },
      "source": [
        "\n",
        "<br>\n",
        "\n",
        "## 👉 **2. 바로 Element type으로 읽기**\n",
        "\n",
        "이 방법을 사용하자.\n"
      ]
    },
    {
      "cell_type": "code",
      "metadata": {
        "colab": {
          "base_uri": "https://localhost:8080/"
        },
        "id": "e9rN0bzKvNfJ",
        "outputId": "319aa79f-4044-4012-a9a8-15c289c638c7"
      },
      "source": [
        "xmlfile = etree.parse('test.xml')\n",
        "print(xmlfile, type(xmlfile))\n",
        "\n",
        "root = xmlfile.getroot()\n",
        "print(root.tag)\n",
        "print(root[0].tag)\n",
        "print(root[0][0].tag)\n",
        "print(root[0][1].tag)\n",
        "print(root[0][0].attrib) # {'id': 'ks1'} dict 형식\n",
        "print(root[0][0].attrib.keys())\n",
        "print(root[0][0].attrib.values())\n",
        "print(root[0][2].attrib.get('kor'))  #get : 속성의 값 읽기\n",
        "print()\n",
        "\n",
        "imsi = list(root[0][2].attrib.values())\n",
        "print(imsi)\n",
        "print()"
      ],
      "execution_count": null,
      "outputs": [
        {
          "output_type": "stream",
          "text": [
            "<xml.etree.ElementTree.ElementTree object at 0x7fc44238a310> <class 'xml.etree.ElementTree.ElementTree'>\n",
            "items\n",
            "item\n",
            "name\n",
            "tel\n",
            "{'id': 'ks1'}\n",
            "dict_keys(['id'])\n",
            "dict_values(['ks1'])\n",
            "100\n",
            "\n",
            "['100', '80']\n",
            "\n"
          ],
          "name": "stdout"
        }
      ]
    },
    {
      "cell_type": "markdown",
      "metadata": {
        "id": "3yCLGlvxxbdA"
      },
      "source": [
        "<br>\n",
        "\n",
        "## 👉 root의 자식 노드 찾기 : `.find(), .findAll()`\n"
      ]
    },
    {
      "cell_type": "code",
      "metadata": {
        "id": "NfLbBDzovcD0",
        "colab": {
          "base_uri": "https://localhost:8080/"
        },
        "outputId": "20fb33d7-20ee-4620-bdbe-c90bbff256d2"
      },
      "source": [
        "#함수지원 find : root element의 자식 찾기\n",
        "myName = root.find('item').find('name').text\n",
        "myTel = root.find('item').find('tel').text\n",
        "print(myName + ' ' + myTel)\n",
        "\n",
        "print()\n",
        "for child in root:\n",
        "    #print(child.tag)\n",
        "    for child2 in child:\n",
        "        print(child2.tag, child2.attrib)\n",
        "    print()\n",
        "\n",
        "print('특정 요소의 속성 읽기')\n",
        "#iter() : 특정 태그의 모든 Element를 가지고 온다.\n",
        "for a in root.iter('exam'):\n",
        "    print(a.attrib)"
      ],
      "execution_count": null,
      "outputs": [
        {
          "output_type": "stream",
          "text": [
            "홍길동 111-1111\n",
            "\n",
            "name {'id': 'ks1'}\n",
            "tel {}\n",
            "exam {'kor': '100', 'eng': '80'}\n",
            "\n",
            "name {'id': 'ks2'}\n",
            "tel {}\n",
            "exam {'kor': '90', 'eng': '98'}\n",
            "\n",
            "특정 요소의 속성 읽기\n",
            "{'kor': '100', 'eng': '80'}\n",
            "{'kor': '90', 'eng': '98'}\n"
          ],
          "name": "stdout"
        }
      ]
    },
    {
      "cell_type": "code",
      "metadata": {
        "id": "16SCP7MsvetQ",
        "colab": {
          "base_uri": "https://localhost:8080/"
        },
        "outputId": "c39b5002-0340-4318-bdbd-2c3dcf1b592b"
      },
      "source": [
        "#get : 속성값 읽기\n",
        "#find().text : 태그 안의 text 읽기 .findtext()와 동일\n",
        "children = root.findall('item')\n",
        "for it in children:\n",
        "    re_id = it.find('name').get('id')\n",
        "    re_name = it.find('name').text\n",
        "    re_tel = it.find('tel').text\n",
        "    print(re_id, re_name, re_tel)"
      ],
      "execution_count": null,
      "outputs": [
        {
          "output_type": "stream",
          "text": [
            "ks1 홍길동 111-1111\n",
            "ks2 신기해 222-2222\n"
          ],
          "name": "stdout"
        }
      ]
    },
    {
      "cell_type": "markdown",
      "metadata": {
        "id": "p9Y0qHWqyVtx"
      },
      "source": [
        "\n",
        "# ⛅ 기상청 제공 날씨 정보 읽기\n",
        "\n"
      ]
    },
    {
      "cell_type": "code",
      "metadata": {
        "colab": {
          "base_uri": "https://localhost:8080/"
        },
        "id": "VRjbAZumyVFi",
        "outputId": "2e18017d-4bb4-4c21-fd21-1490e22d7b68"
      },
      "source": [
        "import urllib.request  #url정보를 읽는 모듈\n",
        "import xml.etree.ElementTree as etree\n",
        "\n",
        "#웹 문서 읽어 파일로 저장 후 처리\n",
        "try:\n",
        "  webdata = urllib.request.urlopen('http://www.kma.go.kr/XML/weather/sfc_web_map.xml')\n",
        "  #print(webdata)\n",
        "  webxml = webdata.read()  #decode를 해주어야 한다.\n",
        "  webxml = webxml.decode('utf-8')\n",
        "  #webxml = webdata.read().decode('utf-8')  #한문장으로 표현\n",
        "  print(webxml)\n",
        "  webdata.close()\n",
        "\n",
        "  #파일로 저장\n",
        "  with open('test2.xml', mode='w', encoding='utf-8') as f:\n",
        "    f.write(webxml)\n",
        "    print('성공')\n",
        "\n",
        "except Exception as e:\n",
        "  print('err :', e)"
      ],
      "execution_count": null,
      "outputs": [
        {
          "output_type": "stream",
          "text": [
            "<?xml version=\"1.0\" encoding=\"UTF-8\" standalone=\"no\" ?>\n",
            "<current xmlns=\"current\">\n",
            "  <weather year=\"2021\" month=\"06\" day=\"30\" hour=\"20\">\n",
            "    <local stn_id=\"90\" icon=\"03\" desc=\"구름많음\" ta=\"21.2\" rn_hr1=\"0.1\">속초</local>\n",
            "    <local stn_id=\"93\" icon=\"04\" desc=\"흐림\" ta=\"24.1\" rn_hr1=\"0.5\">북춘천</local>\n",
            "    <local stn_id=\"95\" icon=\"04\" desc=\"흐림\" ta=\"21.6\" rn_hr1=\"18.0\">철원</local>\n",
            "    <local stn_id=\"98\" icon=\"03\" desc=\"구름많음\" ta=\"23.3\" rn_hr1=\"12.8\">동두천</local>\n",
            "    <local stn_id=\"99\" icon=\"02\" desc=\"구름조금\" ta=\"22.8\" rn_hr1=\"0.0\">파주</local>\n",
            "    <local stn_id=\"100\" icon=\"04\" desc=\"흐림\" ta=\"17.2\" rn_hr1=\"3.4\">대관령</local>\n",
            "    <local stn_id=\"101\" icon=\"\" desc=\"-\" ta=\"25.1\" rn_hr1=\"0.6\">춘천</local>\n",
            "    <local stn_id=\"102\" icon=\"15\" desc=\"안개\" ta=\"19.9\">백령도</local>\n",
            "    <local stn_id=\"104\" icon=\"04\" desc=\"흐림\" ta=\"20.2\" rn_hr1=\"1.5\">북강릉</local>\n",
            "    <local stn_id=\"105\" icon=\"04\" desc=\"흐림\" ta=\"22.3\" rn_hr1=\"0.3\">강릉</local>\n",
            "    <local stn_id=\"106\" icon=\"04\" desc=\"흐림\" ta=\"20.7\" rn_hr1=\"4.4\">동해</local>\n",
            "    <local stn_id=\"108\" icon=\"02\" desc=\"구름조금\" ta=\"26.1\" rn_hr1=\"6.0\">서울</local>\n",
            "    <local stn_id=\"112\" icon=\"02\" desc=\"구름조금\" ta=\"25.3\">인천</local>\n",
            "    <local stn_id=\"114\" icon=\"02\" desc=\"구름조금\" ta=\"20.9\" rn_hr1=\"13.1\">원주</local>\n",
            "    <local stn_id=\"115\" icon=\"04\" desc=\"흐림\" ta=\"20.1\" rn_hr1=\"0.0\">울릉도</local>\n",
            "    <local stn_id=\"119\" icon=\"02\" desc=\"구름조금\" ta=\"25.8\" rn_hr1=\"0.0\">수원</local>\n",
            "    <local stn_id=\"121\" icon=\"03\" desc=\"구름많음\" ta=\"22.3\" rn_hr1=\"0.5\">영월</local>\n",
            "    <local stn_id=\"127\" icon=\"04\" desc=\"흐림\" ta=\"23.2\" rn_hr1=\"0.3\">충주</local>\n",
            "    <local stn_id=\"129\" icon=\"02\" desc=\"구름조금\" ta=\"23.9\" rn_hr1=\"0.9\">서산</local>\n",
            "    <local stn_id=\"130\" icon=\"03\" desc=\"구름많음\" ta=\"21.0\" rn_hr1=\"11.8\">울진</local>\n",
            "    <local stn_id=\"131\" icon=\"14\" desc=\"천둥번개\" ta=\"28.3\" rn_hr1=\"0.0\">청주</local>\n",
            "    <local stn_id=\"133\" icon=\"07\" desc=\"소나기\" ta=\"24.3\" rn_hr1=\"4.1\">대전</local>\n",
            "    <local stn_id=\"135\" icon=\"02\" desc=\"구름조금\" ta=\"23.1\" rn_hr1=\"0.0\">추풍령</local>\n",
            "    <local stn_id=\"136\" icon=\"03\" desc=\"구름많음\" ta=\"23.2\" rn_hr1=\"1.0\">안동</local>\n",
            "    <local stn_id=\"137\" icon=\"02\" desc=\"구름조금\" ta=\"25.1\">상주</local>\n",
            "    <local stn_id=\"138\" icon=\"01\" desc=\"맑음\" ta=\"23.2\">포항</local>\n",
            "    <local stn_id=\"140\" icon=\"01\" desc=\"맑음\" ta=\"24.4\" rn_hr1=\"0.0\">군산</local>\n",
            "    <local stn_id=\"143\" icon=\"02\" desc=\"구름조금\" ta=\"24.6\" rn_hr1=\"0.0\">대구</local>\n",
            "    <local stn_id=\"146\" icon=\"02\" desc=\"구름조금\" ta=\"26.2\" rn_hr1=\"0.0\">전주</local>\n",
            "    <local stn_id=\"152\" icon=\"03\" desc=\"구름많음\" ta=\"22.1\">울산</local>\n",
            "    <local stn_id=\"155\" icon=\"01\" desc=\"맑음\" ta=\"22.5\" rn_hr1=\"0.0\">창원</local>\n",
            "    <local stn_id=\"156\" icon=\"03\" desc=\"구름많음\" ta=\"25.1\" rn_hr1=\"3.0\">광주</local>\n",
            "    <local stn_id=\"159\" icon=\"02\" desc=\"구름조금\" ta=\"22.9\">부산</local>\n",
            "    <local stn_id=\"162\" icon=\"02\" desc=\"구름조금\" ta=\"23.0\">통영</local>\n",
            "    <local stn_id=\"165\" icon=\"01\" desc=\"맑음\" ta=\"24.4\" rn_hr1=\"0.0\">목포</local>\n",
            "    <local stn_id=\"168\" icon=\"02\" desc=\"구름조금\" ta=\"23.7\">여수</local>\n",
            "    <local stn_id=\"169\" icon=\"02\" desc=\"구름조금\" ta=\"22.4\" rn_hr1=\"0.0\">흑산도</local>\n",
            "    <local stn_id=\"170\" icon=\"02\" desc=\"구름조금\" ta=\"22.4\">완도</local>\n",
            "    <local stn_id=\"172\" icon=\"03\" desc=\"구름많음\" ta=\"24.6\">고창</local>\n",
            "    <local stn_id=\"174\" icon=\"02\" desc=\"구름조금\" ta=\"23.4\">순천</local>\n",
            "    <local stn_id=\"177\" icon=\"02\" desc=\"구름조금\" ta=\"24.6\" rn_hr1=\"0.0\">홍성</local>\n",
            "    <local stn_id=\"184\" icon=\"02\" desc=\"구름조금\" ta=\"24.7\">제주</local>\n",
            "    <local stn_id=\"185\" icon=\"02\" desc=\"구름조금\" ta=\"23.3\">고산</local>\n",
            "    <local stn_id=\"188\" icon=\"02\" desc=\"구름조금\" ta=\"23.7\">성산</local>\n",
            "    <local stn_id=\"189\" icon=\"02\" desc=\"구름조금\" ta=\"24.2\">서귀포</local>\n",
            "    <local stn_id=\"192\" icon=\"02\" desc=\"구름조금\" ta=\"23.1\">진주</local>\n",
            "    <local stn_id=\"201\" icon=\"02\" desc=\"구름조금\" ta=\"23.6\">강화</local>\n",
            "    <local stn_id=\"202\" icon=\"02\" desc=\"구름조금\" ta=\"25.6\" rn_hr1=\"0.0\">양평</local>\n",
            "    <local stn_id=\"203\" icon=\"03\" desc=\"구름많음\" ta=\"22.7\" rn_hr1=\"2.1\">이천</local>\n",
            "    <local stn_id=\"211\" icon=\"03\" desc=\"구름많음\" ta=\"21.2\" rn_hr1=\"0.0\">인제</local>\n",
            "    <local stn_id=\"212\" icon=\"03\" desc=\"구름많음\" ta=\"21.4\" rn_hr1=\"6.2\">홍천</local>\n",
            "    <local stn_id=\"216\" icon=\"03\" desc=\"구름많음\" ta=\"18.4\" rn_hr1=\"19.4\">태백</local>\n",
            "    <local stn_id=\"217\" icon=\"04\" desc=\"흐림\" ta=\"20.3\" rn_hr1=\"3.0\">정선군</local>\n",
            "    <local stn_id=\"221\" icon=\"03\" desc=\"구름많음\" ta=\"23.6\" rn_hr1=\"1.1\">제천</local>\n",
            "    <local stn_id=\"226\" icon=\"02\" desc=\"구름조금\" ta=\"24.1\">보은</local>\n",
            "    <local stn_id=\"232\" icon=\"03\" desc=\"구름많음\" ta=\"24.6\">천안</local>\n",
            "    <local stn_id=\"235\" icon=\"02\" desc=\"구름조금\" ta=\"22.5\">보령</local>\n",
            "    <local stn_id=\"236\" icon=\"02\" desc=\"구름조금\" ta=\"25.7\">부여</local>\n",
            "    <local stn_id=\"238\" icon=\"03\" desc=\"구름많음\" ta=\"23.1\" rn_hr1=\"0.0\">금산</local>\n",
            "    <local stn_id=\"239\" icon=\"02\" desc=\"구름조금\" ta=\"25.0\">세종</local>\n",
            "    <local stn_id=\"243\" icon=\"02\" desc=\"구름조금\" ta=\"24.2\">부안</local>\n",
            "    <local stn_id=\"244\" icon=\"03\" desc=\"구름많음\" ta=\"23.6\" rn_hr1=\"0.0\">임실</local>\n",
            "    <local stn_id=\"245\" icon=\"02\" desc=\"구름조금\" ta=\"24.6\">정읍</local>\n",
            "    <local stn_id=\"247\" icon=\"03\" desc=\"구름많음\" ta=\"23.3\">남원</local>\n",
            "    <local stn_id=\"248\" icon=\"03\" desc=\"구름많음\" ta=\"21.3\" rn_hr1=\"5.0\">장수</local>\n",
            "    <local stn_id=\"251\" icon=\"02\" desc=\"구름조금\" ta=\"23.7\" rn_hr1=\"0.0\">고창군</local>\n",
            "    <local stn_id=\"252\" icon=\"02\" desc=\"구름조금\" ta=\"24.1\" rn_hr1=\"0.1\">영광군</local>\n",
            "    <local stn_id=\"253\" icon=\"01\" desc=\"맑음\" ta=\"23.1\">김해시</local>\n",
            "    <local stn_id=\"254\" icon=\"02\" desc=\"구름조금\" ta=\"22.8\" rn_hr1=\"4.7\">순창군</local>\n",
            "    <local stn_id=\"255\" icon=\"01\" desc=\"맑음\" ta=\"23.3\">북창원</local>\n",
            "    <local stn_id=\"257\" icon=\"01\" desc=\"맑음\" ta=\"23.8\">양산시</local>\n",
            "    <local stn_id=\"258\" icon=\"01\" desc=\"맑음\" ta=\"24.7\">보성군</local>\n",
            "    <local stn_id=\"259\" icon=\"01\" desc=\"맑음\" ta=\"24.5\">강진군</local>\n",
            "    <local stn_id=\"260\" icon=\"01\" desc=\"맑음\" ta=\"23.5\">장흥</local>\n",
            "    <local stn_id=\"261\" icon=\"01\" desc=\"맑음\" ta=\"23.1\" rn_hr1=\"0.0\">해남</local>\n",
            "    <local stn_id=\"262\" icon=\"02\" desc=\"구름조금\" ta=\"22.4\">고흥</local>\n",
            "    <local stn_id=\"263\" icon=\"02\" desc=\"구름조금\" ta=\"24.9\" rn_hr1=\"0.0\">의령군</local>\n",
            "    <local stn_id=\"264\" icon=\"02\" desc=\"구름조금\" ta=\"23.3\" rn_hr1=\"0.0\">함양군</local>\n",
            "    <local stn_id=\"266\" icon=\"02\" desc=\"구름조금\" ta=\"23.6\">광양시</local>\n",
            "    <local stn_id=\"268\" icon=\"02\" desc=\"구름조금\">진도군</local>\n",
            "    <local stn_id=\"271\" icon=\"02\" desc=\"구름조금\" ta=\"19.3\" rn_hr1=\"1.7\">봉화</local>\n",
            "    <local stn_id=\"272\" icon=\"03\" desc=\"구름많음\" ta=\"22.2\" rn_hr1=\"0.1\">영주</local>\n",
            "    <local stn_id=\"273\" icon=\"02\" desc=\"구름조금\" ta=\"22.0\" rn_hr1=\"0.0\">문경</local>\n",
            "    <local stn_id=\"276\" icon=\"02\" desc=\"구름조금\" ta=\"20.9\">청송군</local>\n",
            "    <local stn_id=\"277\" icon=\"02\" desc=\"구름조금\" ta=\"20.4\" rn_hr1=\"0.0\">영덕</local>\n",
            "    <local stn_id=\"278\" icon=\"03\" desc=\"구름많음\" ta=\"23.0\" rn_hr1=\"2.2\">의성</local>\n",
            "    <local stn_id=\"279\" icon=\"03\" desc=\"구름많음\" ta=\"24.2\" rn_hr1=\"0.1\">구미</local>\n",
            "    <local stn_id=\"281\" icon=\"02\" desc=\"구름조금\" ta=\"22.6\" rn_hr1=\"0.0\">영천</local>\n",
            "    <local stn_id=\"283\" icon=\"02\" desc=\"구름조금\" ta=\"23.3\">경주시</local>\n",
            "    <local stn_id=\"284\" icon=\"02\" desc=\"구름조금\" ta=\"23.0\" rn_hr1=\"0.0\">거창</local>\n",
            "    <local stn_id=\"285\" icon=\"02\" desc=\"구름조금\" ta=\"25.6\">합천</local>\n",
            "    <local stn_id=\"288\" icon=\"02\" desc=\"구름조금\" ta=\"25.9\">밀양</local>\n",
            "    <local stn_id=\"289\" icon=\"01\" desc=\"맑음\" ta=\"24.5\" rn_hr1=\"0.0\">산청</local>\n",
            "    <local stn_id=\"294\" icon=\"01\" desc=\"맑음\" ta=\"22.7\">거제</local>\n",
            "    <local stn_id=\"295\" icon=\"01\" desc=\"맑음\" ta=\"22.4\">남해</local>\n",
            "  </weather>\n",
            "</current>\n",
            "\n",
            "성공\n"
          ],
          "name": "stdout"
        }
      ]
    },
    {
      "cell_type": "code",
      "metadata": {
        "colab": {
          "base_uri": "https://localhost:8080/"
        },
        "id": "nl7GOyknzKrR",
        "outputId": "7b30bedf-3920-4c68-ba46-25e1b3537723"
      },
      "source": [
        "#Element Tree로 XML 문서 처리\n",
        "xmlfile = etree.parse('test2.xml')\n",
        "print(xmlfile)\n",
        "\n",
        "root = xmlfile.getroot()\n",
        "print(root.tag)\n",
        "print(root[0].tag)\n",
        "print()\n",
        "\n",
        "print('예보 일시')\n",
        "children = root.findall('{current}weather')\n",
        "\n",
        "for it in children:\n",
        "  y = it.get('year')\n",
        "  m = it.get('month')\n",
        "  d = it.get('day')\n",
        "  h = it.get('hour')\n",
        "  print(y + '년 ' + m + '월 ' + d + '일 ' + h + '시 현재')"
      ],
      "execution_count": null,
      "outputs": [
        {
          "output_type": "stream",
          "text": [
            "<xml.etree.ElementTree.ElementTree object at 0x7fc4423a9050>\n",
            "{current}current\n",
            "{current}weather\n",
            "\n",
            "예보 일시\n",
            "2021년 06월 30일 20시 현재\n"
          ],
          "name": "stdout"
        }
      ]
    },
    {
      "cell_type": "code",
      "metadata": {
        "colab": {
          "base_uri": "https://localhost:8080/"
        },
        "id": "uXv2ESls100R",
        "outputId": "c773a25e-0a7e-41b4-b016-5576354d9d50"
      },
      "source": [
        "datas = []\n",
        "\n",
        "for child in root:\n",
        "  #print(child.tag)\n",
        "  for it in child:\n",
        "    #print(it.tag)\n",
        "    local_name = it.text      #지역명\n",
        "    re_ta = it.get('ta')      #속성 중 온도\n",
        "    re_desc = it.get('desc')  #속성 중 상태\n",
        "    datas += [[local_name, re_ta, re_desc]]  #중첩리스트 사용\n",
        "\n",
        "print(datas)\n",
        "print()\n",
        "\n",
        "from pandas import DataFrame\n",
        "\n",
        "df = DataFrame(datas, columns=['지역','온도','상태'])\n",
        "print(df.head())"
      ],
      "execution_count": null,
      "outputs": [
        {
          "output_type": "stream",
          "text": [
            "[['속초', '22.8', '흐림'], ['북춘천', '26.9', '구름많음'], ['철원', '25.5', '구름많음'], ['동두천', '25.5', '흐림'], ['파주', '24.7', '구름많음'], ['대관령', '19.5', '흐림'], ['춘천', '26.8', '-'], ['백령도', '23.1', '구름많음'], ['북강릉', '21.6', '박무'], ['강릉', '23.4', '흐림'], ['동해', '21.6', '흐림'], ['서울', '25.5', '박무'], ['인천', '24.1', '연무'], ['원주', '24.4', '구름많음'], ['울릉도', '20.8', '흐림'], ['수원', '26.7', '연무'], ['영월', '22.7', '흐림'], ['충주', '24.0', '구름많음'], ['서산', '26.7', '구름많음'], ['울진', '21.2', '흐림'], ['청주', '25.0', '박무'], ['대전', '25.9', '박무'], ['추풍령', '23.2', '흐림'], ['안동', '21.8', '흐림'], ['상주', '23.2', '흐림'], ['포항', '24.2', '흐림'], ['군산', '25.2', '구름많음'], ['대구', '25.2', '흐림'], ['전주', '25.5', '흐림'], ['울산', '24.7', '구름많음'], ['창원', '25.5', '구름많음'], ['광주', '25.0', '구름많음'], ['부산', '26.5', '구름많음'], ['통영', '25.1', '흐림'], ['목포', '25.3', '구름많음'], ['여수', '24.1', '흐림'], ['흑산도', '26.0', '구름많음'], ['완도', '25.5', '흐림'], ['고창', '26.0', '흐림'], ['순천', '25.3', '흐림'], ['홍성', '25.8', '박무'], ['제주', '27.8', '흐림'], ['고산', '25.7', '흐림'], ['성산', '26.2', '흐림'], ['서귀포', '26.5', '구름많음'], ['진주', '25.7', '구름많음'], ['강화', '24.6', '흐림'], ['양평', '24.8', '구름많음'], ['이천', '24.9', '흐림'], ['인제', '25.0', '흐림'], ['홍천', '25.4', '구름많음'], ['태백', '19.7', '흐림'], ['정선군', '22.8', '흐림'], ['제천', '22.6', '구름많음'], ['보은', '24.0', '흐림'], ['천안', '24.9', '흐림'], ['보령', '25.3', '흐림'], ['부여', '25.7', '흐림'], ['금산', '25.2', '흐림'], ['세종', '25.2', '흐림'], ['부안', '25.9', '구름많음'], ['임실', '23.9', '흐림'], ['정읍', '26.8', '흐림'], ['남원', '23.7', '흐림'], ['장수', '23.2', '흐림'], ['고창군', '26.5', '흐림'], ['영광군', '25.2', '흐림'], ['김해시', '26.4', '흐림'], ['순창군', '24.4', '흐림'], ['북창원', '27.4', '흐림'], ['양산시', '27.6', '흐림'], ['보성군', '25.7', '흐림'], ['강진군', '26.1', '흐림'], ['장흥', '25.3', '흐림'], ['해남', '26.4', '흐림'], ['고흥', '24.7', '흐림'], ['의령군', '26.3', '흐림'], ['함양군', '25.1', '흐림'], ['광양시', '26.2', '흐림'], ['진도군', None, '구름많음'], ['봉화', '20.6', '흐림'], ['영주', '21.8', '흐림'], ['문경', '22.9', '흐림'], ['청송군', '23.5', '흐림'], ['영덕', '22.0', '흐림'], ['의성', '23.2', '흐림'], ['구미', '25.4', '흐림'], ['영천', '24.5', '흐림'], ['경주시', '25.8', '흐림'], ['거창', '24.2', '흐림'], ['합천', '24.9', '흐림'], ['밀양', '25.9', '구름많음'], ['산청', '25.1', '흐림'], ['거제', '24.1', '흐림'], ['남해', '24.8', '흐림']]\n",
            "\n",
            "    지역    온도    상태\n",
            "0   속초  22.8    흐림\n",
            "1  북춘천  26.9  구름많음\n",
            "2   철원  25.5  구름많음\n",
            "3  동두천  25.5    흐림\n",
            "4   파주  24.7  구름많음\n"
          ],
          "name": "stdout"
        }
      ]
    },
    {
      "cell_type": "markdown",
      "metadata": {
        "id": "hot5oPCb46JS"
      },
      "source": [
        "<br>\n",
        "\n",
        "# ⛅ 기상청 제공 날씨 정보 읽기 2\n"
      ]
    },
    {
      "cell_type": "code",
      "metadata": {
        "colab": {
          "base_uri": "https://localhost:8080/"
        },
        "id": "TIjypqNA3OMC",
        "outputId": "e8e185a2-f0d7-4ba1-edb8-298c65b141a9"
      },
      "source": [
        "webdata2 = urllib.request.urlopen('http://www.kma.go.kr/XML/weather/sfc_web_map.xml')\n",
        "\n",
        "xmlfile1 = etree.parse(webdata2)\n",
        "root1 = xmlfile1.getroot()\n",
        "ndate = list(root1[0].attrib.values())\n",
        "\n",
        "print(ndate)\n",
        "print(ndate[0] + '년 ' + ndate[1] + '월 ' + ndate[2] + '일 ' + ndate[3] + '시 현재')\n",
        "print()\n",
        "\n",
        "for child in root1:\n",
        "  for subchild in child:\n",
        "    print(subchild.text + ' : ', subchild.get('ta'))"
      ],
      "execution_count": null,
      "outputs": [
        {
          "output_type": "stream",
          "text": [
            "['2021', '06', '30', '20']\n",
            "2021년 06월 30일 20시 현재\n",
            "\n",
            "속초 :  21.2\n",
            "북춘천 :  24.1\n",
            "철원 :  21.6\n",
            "동두천 :  23.3\n",
            "파주 :  22.8\n",
            "대관령 :  17.2\n",
            "춘천 :  25.1\n",
            "백령도 :  19.9\n",
            "북강릉 :  20.2\n",
            "강릉 :  22.3\n",
            "동해 :  20.7\n",
            "서울 :  26.1\n",
            "인천 :  25.3\n",
            "원주 :  20.9\n",
            "울릉도 :  20.1\n",
            "수원 :  25.8\n",
            "영월 :  22.3\n",
            "충주 :  23.2\n",
            "서산 :  23.9\n",
            "울진 :  21.0\n",
            "청주 :  28.3\n",
            "대전 :  24.3\n",
            "추풍령 :  23.1\n",
            "안동 :  23.2\n",
            "상주 :  25.1\n",
            "포항 :  23.2\n",
            "군산 :  24.4\n",
            "대구 :  24.6\n",
            "전주 :  26.2\n",
            "울산 :  22.1\n",
            "창원 :  22.5\n",
            "광주 :  25.1\n",
            "부산 :  22.9\n",
            "통영 :  23.0\n",
            "목포 :  24.4\n",
            "여수 :  23.7\n",
            "흑산도 :  22.4\n",
            "완도 :  22.4\n",
            "고창 :  24.6\n",
            "순천 :  23.4\n",
            "홍성 :  24.6\n",
            "제주 :  24.7\n",
            "고산 :  23.3\n",
            "성산 :  23.7\n",
            "서귀포 :  24.2\n",
            "진주 :  23.1\n",
            "강화 :  23.6\n",
            "양평 :  25.6\n",
            "이천 :  22.7\n",
            "인제 :  21.2\n",
            "홍천 :  21.4\n",
            "태백 :  18.4\n",
            "정선군 :  20.3\n",
            "제천 :  23.6\n",
            "보은 :  24.1\n",
            "천안 :  24.6\n",
            "보령 :  22.5\n",
            "부여 :  25.7\n",
            "금산 :  23.1\n",
            "세종 :  25.0\n",
            "부안 :  24.2\n",
            "임실 :  23.6\n",
            "정읍 :  24.6\n",
            "남원 :  23.3\n",
            "장수 :  21.3\n",
            "고창군 :  23.7\n",
            "영광군 :  24.1\n",
            "김해시 :  23.1\n",
            "순창군 :  22.8\n",
            "북창원 :  23.3\n",
            "양산시 :  23.8\n",
            "보성군 :  24.7\n",
            "강진군 :  24.5\n",
            "장흥 :  23.5\n",
            "해남 :  23.1\n",
            "고흥 :  22.4\n",
            "의령군 :  24.9\n",
            "함양군 :  23.3\n",
            "광양시 :  23.6\n",
            "진도군 :  None\n",
            "봉화 :  19.3\n",
            "영주 :  22.2\n",
            "문경 :  22.0\n",
            "청송군 :  20.9\n",
            "영덕 :  20.4\n",
            "의성 :  23.0\n",
            "구미 :  24.2\n",
            "영천 :  22.6\n",
            "경주시 :  23.3\n",
            "거창 :  23.0\n",
            "합천 :  25.6\n",
            "밀양 :  25.9\n",
            "산청 :  24.5\n",
            "거제 :  22.7\n",
            "남해 :  22.4\n"
          ],
          "name": "stdout"
        }
      ]
    },
    {
      "cell_type": "markdown",
      "metadata": {
        "id": "Dn9lNF1A68EQ"
      },
      "source": [
        "\n",
        "\n",
        "---\n",
        "\n",
        "<br>\n",
        "\n",
        "# 📝 웹에서 이미지 읽기\n"
      ]
    },
    {
      "cell_type": "markdown",
      "metadata": {
        "id": "14eYdIRt8AYD"
      },
      "source": [
        "## 👉 이미지 다운로드"
      ]
    },
    {
      "cell_type": "code",
      "metadata": {
        "id": "a4X9SCcC5RIe"
      },
      "source": [
        "url = 'https://www.google.com/images/branding/googlelogo/1x/googlelogo_color_272x92dp.png'  #이미지 주소 복사\n",
        "\n",
        "#방법1\n",
        "urllib.request.urlretrieve(url, 'google.png')\n",
        "\n",
        "#방법2\n",
        "imsi = urllib.request.urlopen(url).read()\n",
        "\n",
        "with open('google2.png', mode='wb') as f:\n",
        "  f.write(imsi)"
      ],
      "execution_count": null,
      "outputs": []
    },
    {
      "cell_type": "code",
      "metadata": {
        "id": "OUnGo7AD7QvU"
      },
      "source": [
        ""
      ],
      "execution_count": null,
      "outputs": []
    }
  ]
}